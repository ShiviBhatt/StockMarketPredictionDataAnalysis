{
 "cells": [
  {
   "cell_type": "markdown",
   "metadata": {},
   "source": [
    "# Stock Market Data Analysis"
   ]
  },
  {
   "cell_type": "markdown",
   "metadata": {},
   "source": [
    "---"
   ]
  },
  {
   "cell_type": "code",
   "execution_count": 3,
   "metadata": {},
   "outputs": [],
   "source": [
    "# Import Libraries\n",
    "import numpy as np # linear algebra\n",
    "import pandas as pd # data processing, CSV file I/O (e.g. pd.read_csv)\n",
    "import matplotlib.pyplot as plt #ploting graphics\n",
    "import seaborn as sns\n",
    "import os\n",
    "for dirname, _, filenames in os.walk('/data/daily-historical-stock-prices-1970-2018'):\n",
    "    for filename in filenames:\n",
    "        print(os.path.join(dirname, filename))\n"
   ]
  },
  {
   "cell_type": "markdown",
   "metadata": {},
   "source": [
    "---"
   ]
  },
  {
   "cell_type": "markdown",
   "metadata": {},
   "source": [
    "<b> start visualizing the data</b>"
   ]
  },
  {
   "cell_type": "code",
   "execution_count": 9,
   "metadata": {},
   "outputs": [],
   "source": [
    "# Reading dataset and storing it in a dataframe\n",
    "missing_values = [\"n/a\", \"na\", \"--\"]\n",
    "\n",
    "stocks = pd.read_csv('../data/daily-historical-stock-prices-1970-2018/historical_stocks.csv',na_values = missing_values)"
   ]
  },
  {
   "cell_type": "markdown",
   "metadata": {},
   "source": [
    "---"
   ]
  },
  {
   "cell_type": "markdown",
   "metadata": {},
   "source": [
    "<b>Let's start with a small preview of the corresponding dataframe read previously; </b>"
   ]
  },
  {
   "cell_type": "code",
   "execution_count": 3,
   "metadata": {},
   "outputs": [
    {
     "data": {
      "text/html": [
       "<div>\n",
       "<style scoped>\n",
       "    .dataframe tbody tr th:only-of-type {\n",
       "        vertical-align: middle;\n",
       "    }\n",
       "\n",
       "    .dataframe tbody tr th {\n",
       "        vertical-align: top;\n",
       "    }\n",
       "\n",
       "    .dataframe thead th {\n",
       "        text-align: right;\n",
       "    }\n",
       "</style>\n",
       "<table border=\"1\" class=\"dataframe\">\n",
       "  <thead>\n",
       "    <tr style=\"text-align: right;\">\n",
       "      <th></th>\n",
       "      <th>ticker</th>\n",
       "      <th>exchange</th>\n",
       "      <th>name</th>\n",
       "      <th>sector</th>\n",
       "      <th>industry</th>\n",
       "    </tr>\n",
       "  </thead>\n",
       "  <tbody>\n",
       "    <tr>\n",
       "      <th>0</th>\n",
       "      <td>PIH</td>\n",
       "      <td>NASDAQ</td>\n",
       "      <td>1347 PROPERTY INSURANCE HOLDINGS, INC.</td>\n",
       "      <td>FINANCE</td>\n",
       "      <td>PROPERTY-CASUALTY INSURERS</td>\n",
       "    </tr>\n",
       "    <tr>\n",
       "      <th>1</th>\n",
       "      <td>PIHPP</td>\n",
       "      <td>NASDAQ</td>\n",
       "      <td>1347 PROPERTY INSURANCE HOLDINGS, INC.</td>\n",
       "      <td>FINANCE</td>\n",
       "      <td>PROPERTY-CASUALTY INSURERS</td>\n",
       "    </tr>\n",
       "    <tr>\n",
       "      <th>2</th>\n",
       "      <td>TURN</td>\n",
       "      <td>NASDAQ</td>\n",
       "      <td>180 DEGREE CAPITAL CORP.</td>\n",
       "      <td>FINANCE</td>\n",
       "      <td>FINANCE/INVESTORS SERVICES</td>\n",
       "    </tr>\n",
       "    <tr>\n",
       "      <th>3</th>\n",
       "      <td>FLWS</td>\n",
       "      <td>NASDAQ</td>\n",
       "      <td>1-800 FLOWERS.COM, INC.</td>\n",
       "      <td>CONSUMER SERVICES</td>\n",
       "      <td>OTHER SPECIALTY STORES</td>\n",
       "    </tr>\n",
       "    <tr>\n",
       "      <th>4</th>\n",
       "      <td>FCCY</td>\n",
       "      <td>NASDAQ</td>\n",
       "      <td>1ST CONSTITUTION BANCORP (NJ)</td>\n",
       "      <td>FINANCE</td>\n",
       "      <td>SAVINGS INSTITUTIONS</td>\n",
       "    </tr>\n",
       "  </tbody>\n",
       "</table>\n",
       "</div>"
      ],
      "text/plain": [
       "  ticker exchange                                    name             sector  \\\n",
       "0    PIH   NASDAQ  1347 PROPERTY INSURANCE HOLDINGS, INC.            FINANCE   \n",
       "1  PIHPP   NASDAQ  1347 PROPERTY INSURANCE HOLDINGS, INC.            FINANCE   \n",
       "2   TURN   NASDAQ                180 DEGREE CAPITAL CORP.            FINANCE   \n",
       "3   FLWS   NASDAQ                 1-800 FLOWERS.COM, INC.  CONSUMER SERVICES   \n",
       "4   FCCY   NASDAQ           1ST CONSTITUTION BANCORP (NJ)            FINANCE   \n",
       "\n",
       "                     industry  \n",
       "0  PROPERTY-CASUALTY INSURERS  \n",
       "1  PROPERTY-CASUALTY INSURERS  \n",
       "2  FINANCE/INVESTORS SERVICES  \n",
       "3      OTHER SPECIALTY STORES  \n",
       "4        SAVINGS INSTITUTIONS  "
      ]
     },
     "execution_count": 3,
     "metadata": {},
     "output_type": "execute_result"
    }
   ],
   "source": [
    "stocks.head()"
   ]
  },
  {
   "cell_type": "code",
   "execution_count": 4,
   "metadata": {},
   "outputs": [
    {
     "data": {
      "text/plain": [
       "Index(['ticker', 'exchange', 'name', 'sector', 'industry'], dtype='object')"
      ]
     },
     "execution_count": 4,
     "metadata": {},
     "output_type": "execute_result"
    }
   ],
   "source": [
    "stocks.columns"
   ]
  },
  {
   "cell_type": "code",
   "execution_count": 5,
   "metadata": {},
   "outputs": [
    {
     "data": {
      "text/html": [
       "<div>\n",
       "<style scoped>\n",
       "    .dataframe tbody tr th:only-of-type {\n",
       "        vertical-align: middle;\n",
       "    }\n",
       "\n",
       "    .dataframe tbody tr th {\n",
       "        vertical-align: top;\n",
       "    }\n",
       "\n",
       "    .dataframe thead th {\n",
       "        text-align: right;\n",
       "    }\n",
       "</style>\n",
       "<table border=\"1\" class=\"dataframe\">\n",
       "  <thead>\n",
       "    <tr style=\"text-align: right;\">\n",
       "      <th></th>\n",
       "      <th>ticker</th>\n",
       "      <th>exchange</th>\n",
       "      <th>name</th>\n",
       "      <th>sector</th>\n",
       "      <th>industry</th>\n",
       "    </tr>\n",
       "  </thead>\n",
       "  <tbody>\n",
       "    <tr>\n",
       "      <th>count</th>\n",
       "      <td>6460</td>\n",
       "      <td>6460</td>\n",
       "      <td>6460</td>\n",
       "      <td>5020</td>\n",
       "      <td>5020</td>\n",
       "    </tr>\n",
       "    <tr>\n",
       "      <th>unique</th>\n",
       "      <td>6460</td>\n",
       "      <td>2</td>\n",
       "      <td>5462</td>\n",
       "      <td>13</td>\n",
       "      <td>136</td>\n",
       "    </tr>\n",
       "    <tr>\n",
       "      <th>top</th>\n",
       "      <td>SGRP</td>\n",
       "      <td>NASDAQ</td>\n",
       "      <td>BANK OF AMERICA CORPORATION</td>\n",
       "      <td>FINANCE</td>\n",
       "      <td>MAJOR PHARMACEUTICALS</td>\n",
       "    </tr>\n",
       "    <tr>\n",
       "      <th>freq</th>\n",
       "      <td>1</td>\n",
       "      <td>3308</td>\n",
       "      <td>16</td>\n",
       "      <td>1022</td>\n",
       "      <td>419</td>\n",
       "    </tr>\n",
       "  </tbody>\n",
       "</table>\n",
       "</div>"
      ],
      "text/plain": [
       "       ticker exchange                         name   sector  \\\n",
       "count    6460     6460                         6460     5020   \n",
       "unique   6460        2                         5462       13   \n",
       "top      SGRP   NASDAQ  BANK OF AMERICA CORPORATION  FINANCE   \n",
       "freq        1     3308                           16     1022   \n",
       "\n",
       "                     industry  \n",
       "count                    5020  \n",
       "unique                    136  \n",
       "top     MAJOR PHARMACEUTICALS  \n",
       "freq                      419  "
      ]
     },
     "execution_count": 5,
     "metadata": {},
     "output_type": "execute_result"
    }
   ],
   "source": [
    "stocks.describe()"
   ]
  },
  {
   "cell_type": "markdown",
   "metadata": {},
   "source": [
    "---"
   ]
  },
  {
   "cell_type": "markdown",
   "metadata": {},
   "source": [
    "### Description of the columns\n",
    "We realize there are 5 columns and this dataset:\n",
    "\n",
    "- 'ticker' corresponds to the name of the share\n",
    "- 'exchange' corresponds to the type of exchange made \n",
    "- 'name' refers the company's name\n",
    "- 'sector' refers to the actual sector where the given company operates\n",
    "- 'industry' specifies the type of services that can be provided\n",
    "\n",
    "We also know that this dataset contains missing values :\n",
    "\n",
    "> We have missing values on columns 'sector' and 'industry'"
   ]
  },
  {
   "cell_type": "code",
   "execution_count": 6,
   "metadata": {},
   "outputs": [
    {
     "data": {
      "text/plain": [
       "(6460, 5)"
      ]
     },
     "execution_count": 6,
     "metadata": {},
     "output_type": "execute_result"
    }
   ],
   "source": [
    "stocks.shape"
   ]
  },
  {
   "cell_type": "code",
   "execution_count": 10,
   "metadata": {},
   "outputs": [
    {
     "name": "stdout",
     "output_type": "stream",
     "text": [
      "6460\n"
     ]
    }
   ],
   "source": [
    "index = stocks.index\n",
    "number_of_rows = len(index)\n",
    "print(number_of_rows)"
   ]
  },
  {
   "cell_type": "code",
   "execution_count": 7,
   "metadata": {},
   "outputs": [
    {
     "data": {
      "text/plain": [
       "6460"
      ]
     },
     "execution_count": 7,
     "metadata": {},
     "output_type": "execute_result"
    }
   ],
   "source": [
    "stocks['ticker'].unique().size"
   ]
  },
  {
   "cell_type": "markdown",
   "metadata": {},
   "source": [
    "> We realize there are 6460 entries to the table, where the unique identifiers are the share's names, meaning that a company's name can show up twice if it has, throughout the established period of time, changed the name of it's stocks. We will note that, for having to change the type of exchange, the companies also changed the name of the shares;\n",
    "\n",
    "> One example of this is:"
   ]
  },
  {
   "cell_type": "code",
   "execution_count": 8,
   "metadata": {},
   "outputs": [
    {
     "data": {
      "text/html": [
       "<div>\n",
       "<style scoped>\n",
       "    .dataframe tbody tr th:only-of-type {\n",
       "        vertical-align: middle;\n",
       "    }\n",
       "\n",
       "    .dataframe tbody tr th {\n",
       "        vertical-align: top;\n",
       "    }\n",
       "\n",
       "    .dataframe thead th {\n",
       "        text-align: right;\n",
       "    }\n",
       "</style>\n",
       "<table border=\"1\" class=\"dataframe\">\n",
       "  <thead>\n",
       "    <tr style=\"text-align: right;\">\n",
       "      <th></th>\n",
       "      <th>ticker</th>\n",
       "      <th>exchange</th>\n",
       "      <th>name</th>\n",
       "      <th>sector</th>\n",
       "      <th>industry</th>\n",
       "    </tr>\n",
       "  </thead>\n",
       "  <tbody>\n",
       "    <tr>\n",
       "      <th>0</th>\n",
       "      <td>PIH</td>\n",
       "      <td>NASDAQ</td>\n",
       "      <td>1347 PROPERTY INSURANCE HOLDINGS, INC.</td>\n",
       "      <td>FINANCE</td>\n",
       "      <td>PROPERTY-CASUALTY INSURERS</td>\n",
       "    </tr>\n",
       "    <tr>\n",
       "      <th>1</th>\n",
       "      <td>PIHPP</td>\n",
       "      <td>NASDAQ</td>\n",
       "      <td>1347 PROPERTY INSURANCE HOLDINGS, INC.</td>\n",
       "      <td>FINANCE</td>\n",
       "      <td>PROPERTY-CASUALTY INSURERS</td>\n",
       "    </tr>\n",
       "  </tbody>\n",
       "</table>\n",
       "</div>"
      ],
      "text/plain": [
       "  ticker exchange                                    name   sector  \\\n",
       "0    PIH   NASDAQ  1347 PROPERTY INSURANCE HOLDINGS, INC.  FINANCE   \n",
       "1  PIHPP   NASDAQ  1347 PROPERTY INSURANCE HOLDINGS, INC.  FINANCE   \n",
       "\n",
       "                     industry  \n",
       "0  PROPERTY-CASUALTY INSURERS  \n",
       "1  PROPERTY-CASUALTY INSURERS  "
      ]
     },
     "execution_count": 8,
     "metadata": {},
     "output_type": "execute_result"
    }
   ],
   "source": [
    "stocks[stocks['name'] == \"1347 PROPERTY INSURANCE HOLDINGS, INC.\"]"
   ]
  },
  {
   "cell_type": "markdown",
   "metadata": {},
   "source": [
    "---"
   ]
  },
  {
   "cell_type": "markdown",
   "metadata": {},
   "source": [
    "\n",
    "## Missing values treatment\n",
    "\n",
    "#### The first step is to identify if the companies switched their share name; in the case they did, they can then contain the sector and industry present on another row\n",
    "\n",
    "> Right now we have the following missing values:\n",
    "\n",
    "1. ticker         0\n",
    "2. exchange       0\n",
    "3. name           0\n",
    "4. sector      1440\n",
    "5. industry    1440\n",
    "\n",
    "> In a 6459 rows × 5 columns matrix\n"
   ]
  },
  {
   "cell_type": "markdown",
   "metadata": {},
   "source": [
    "> We want all rows that present null values, so we can obtain the names of the companies that do."
   ]
  },
  {
   "cell_type": "code",
   "execution_count": 9,
   "metadata": {},
   "outputs": [
    {
     "data": {
      "text/html": [
       "<div>\n",
       "<style scoped>\n",
       "    .dataframe tbody tr th:only-of-type {\n",
       "        vertical-align: middle;\n",
       "    }\n",
       "\n",
       "    .dataframe tbody tr th {\n",
       "        vertical-align: top;\n",
       "    }\n",
       "\n",
       "    .dataframe thead th {\n",
       "        text-align: right;\n",
       "    }\n",
       "</style>\n",
       "<table border=\"1\" class=\"dataframe\">\n",
       "  <thead>\n",
       "    <tr style=\"text-align: right;\">\n",
       "      <th></th>\n",
       "      <th>ticker</th>\n",
       "      <th>exchange</th>\n",
       "      <th>name</th>\n",
       "      <th>sector</th>\n",
       "      <th>industry</th>\n",
       "    </tr>\n",
       "  </thead>\n",
       "  <tbody>\n",
       "    <tr>\n",
       "      <th>19</th>\n",
       "      <td>ABP</td>\n",
       "      <td>NASDAQ</td>\n",
       "      <td>ABPRO CORPORATION</td>\n",
       "      <td>NaN</td>\n",
       "      <td>NaN</td>\n",
       "    </tr>\n",
       "    <tr>\n",
       "      <th>42</th>\n",
       "      <td>SQZZ</td>\n",
       "      <td>NASDAQ</td>\n",
       "      <td>ACTIVE ALTS CONTRARIAN ETF</td>\n",
       "      <td>NaN</td>\n",
       "      <td>NaN</td>\n",
       "    </tr>\n",
       "    <tr>\n",
       "      <th>62</th>\n",
       "      <td>ACT</td>\n",
       "      <td>NASDAQ</td>\n",
       "      <td>ADVISORSHARES VICE ETF</td>\n",
       "      <td>NaN</td>\n",
       "      <td>NaN</td>\n",
       "    </tr>\n",
       "    <tr>\n",
       "      <th>100</th>\n",
       "      <td>ABDC</td>\n",
       "      <td>NASDAQ</td>\n",
       "      <td>ALCENTRA CAPITAL CORP.</td>\n",
       "      <td>NaN</td>\n",
       "      <td>NaN</td>\n",
       "    </tr>\n",
       "    <tr>\n",
       "      <th>124</th>\n",
       "      <td>SMCP</td>\n",
       "      <td>NASDAQ</td>\n",
       "      <td>ALPHAMARK ACTIVELY MANAGED SMALL CAP ETF</td>\n",
       "      <td>NaN</td>\n",
       "      <td>NaN</td>\n",
       "    </tr>\n",
       "    <tr>\n",
       "      <th>...</th>\n",
       "      <td>...</td>\n",
       "      <td>...</td>\n",
       "      <td>...</td>\n",
       "      <td>...</td>\n",
       "      <td>...</td>\n",
       "    </tr>\n",
       "    <tr>\n",
       "      <th>6393</th>\n",
       "      <td>WIA</td>\n",
       "      <td>NYSE</td>\n",
       "      <td>WESTERN ASSET/CLAYMORE U.S. TREASURY INFLATION...</td>\n",
       "      <td>NaN</td>\n",
       "      <td>NaN</td>\n",
       "    </tr>\n",
       "    <tr>\n",
       "      <th>6431</th>\n",
       "      <td>XFLT</td>\n",
       "      <td>NYSE</td>\n",
       "      <td>XAI OCTAGON FLOATING RATE &amp; ALTERNATIVE INCOME...</td>\n",
       "      <td>NaN</td>\n",
       "      <td>NaN</td>\n",
       "    </tr>\n",
       "    <tr>\n",
       "      <th>6451</th>\n",
       "      <td>ZB^A</td>\n",
       "      <td>NYSE</td>\n",
       "      <td>ZIONS BANCORPORATION</td>\n",
       "      <td>NaN</td>\n",
       "      <td>NaN</td>\n",
       "    </tr>\n",
       "    <tr>\n",
       "      <th>6452</th>\n",
       "      <td>ZB^G</td>\n",
       "      <td>NYSE</td>\n",
       "      <td>ZIONS BANCORPORATION</td>\n",
       "      <td>NaN</td>\n",
       "      <td>NaN</td>\n",
       "    </tr>\n",
       "    <tr>\n",
       "      <th>6453</th>\n",
       "      <td>ZB^H</td>\n",
       "      <td>NYSE</td>\n",
       "      <td>ZIONS BANCORPORATION</td>\n",
       "      <td>NaN</td>\n",
       "      <td>NaN</td>\n",
       "    </tr>\n",
       "  </tbody>\n",
       "</table>\n",
       "<p>1440 rows × 5 columns</p>\n",
       "</div>"
      ],
      "text/plain": [
       "     ticker exchange                                               name  \\\n",
       "19      ABP   NASDAQ                                  ABPRO CORPORATION   \n",
       "42     SQZZ   NASDAQ                         ACTIVE ALTS CONTRARIAN ETF   \n",
       "62      ACT   NASDAQ                             ADVISORSHARES VICE ETF   \n",
       "100    ABDC   NASDAQ                             ALCENTRA CAPITAL CORP.   \n",
       "124    SMCP   NASDAQ           ALPHAMARK ACTIVELY MANAGED SMALL CAP ETF   \n",
       "...     ...      ...                                                ...   \n",
       "6393    WIA     NYSE  WESTERN ASSET/CLAYMORE U.S. TREASURY INFLATION...   \n",
       "6431   XFLT     NYSE  XAI OCTAGON FLOATING RATE & ALTERNATIVE INCOME...   \n",
       "6451   ZB^A     NYSE                               ZIONS BANCORPORATION   \n",
       "6452   ZB^G     NYSE                               ZIONS BANCORPORATION   \n",
       "6453   ZB^H     NYSE                               ZIONS BANCORPORATION   \n",
       "\n",
       "     sector industry  \n",
       "19      NaN      NaN  \n",
       "42      NaN      NaN  \n",
       "62      NaN      NaN  \n",
       "100     NaN      NaN  \n",
       "124     NaN      NaN  \n",
       "...     ...      ...  \n",
       "6393    NaN      NaN  \n",
       "6431    NaN      NaN  \n",
       "6451    NaN      NaN  \n",
       "6452    NaN      NaN  \n",
       "6453    NaN      NaN  \n",
       "\n",
       "[1440 rows x 5 columns]"
      ]
     },
     "execution_count": 9,
     "metadata": {},
     "output_type": "execute_result"
    }
   ],
   "source": [
    "null_data = stocks[stocks.isnull().any(axis=1)]\n",
    "null_data"
   ]
  },
  {
   "cell_type": "markdown",
   "metadata": {},
   "source": [
    "> After Exploration, We realize that, by standard, all rows that do not have sector, do not have industry either and vice-versa."
   ]
  },
  {
   "cell_type": "markdown",
   "metadata": {},
   "source": [
    "### This function checks for companies that changed their ticker name\n",
    "\n",
    "> If any did, we check if there are some other instances of that same company where the sector and industry information is present."
   ]
  },
  {
   "cell_type": "code",
   "execution_count": 10,
   "metadata": {},
   "outputs": [],
   "source": [
    "pd.options.mode.chained_assignment = None\n",
    "names = null_data['name'].unique()\n",
    "\n",
    "for companie in names:\n",
    "    \n",
    "    data = stocks[stocks['name'] == companie]\n",
    "    \n",
    "    for index,row in data.iterrows():\n",
    "        \n",
    "        if(not pd.isnull(row['sector'])):\n",
    "            \n",
    "            sector = row['sector']\n",
    "            industry = row['industry']\n",
    "            \n",
    "            tmp = stocks[stocks['name'] == row['name']]\n",
    "            tmp[\"sector\"] = tmp[\"sector\"].fillna(sector)\n",
    "            tmp['industry'] = tmp['industry'].fillna(industry)\n",
    "            stocks[stocks['name'] == row['name']] = tmp"
   ]
  },
  {
   "cell_type": "code",
   "execution_count": 11,
   "metadata": {},
   "outputs": [
    {
     "data": {
      "text/plain": [
       "ticker         0\n",
       "exchange       0\n",
       "name           0\n",
       "sector      1018\n",
       "industry    1018\n",
       "dtype: int64"
      ]
     },
     "execution_count": 11,
     "metadata": {},
     "output_type": "execute_result"
    }
   ],
   "source": [
    "stocks.isnull().sum()"
   ]
  },
  {
   "cell_type": "markdown",
   "metadata": {},
   "source": [
    "> After this operation, we remain with a 6459 rows × 5 columns matrix, but we have different numbers of missing values, respectively:\n",
    "\n",
    "1. ticker         0\n",
    "2. exchange       0\n",
    "3. name           0\n",
    "4. sector      1018\n",
    "5. industry    1018\n",
    "6. dtype: int64"
   ]
  },
  {
   "cell_type": "markdown",
   "metadata": {},
   "source": [
    "---"
   ]
  },
  {
   "cell_type": "markdown",
   "metadata": {},
   "source": [
    "### In this part, all remaining missing values will be removed from the dataset, mainly for the reason that there is not sufficient information that allows us to fill these values, given the variety of sector and industries existant.\n",
    "> We now have a 5442 rows × 5 columns matrix"
   ]
  },
  {
   "cell_type": "code",
   "execution_count": 11,
   "metadata": {},
   "outputs": [
    {
     "data": {
      "text/plain": [
       "ticker      0\n",
       "exchange    0\n",
       "name        0\n",
       "sector      0\n",
       "industry    0\n",
       "dtype: int64"
      ]
     },
     "execution_count": 11,
     "metadata": {},
     "output_type": "execute_result"
    }
   ],
   "source": [
    "bad_tickers = stocks[stocks.isnull().any(axis=1)]\n",
    "\n",
    "\n",
    "stocks = stocks.dropna(how='any',axis=0) \n",
    "stocks.isnull().sum()"
   ]
  },
  {
   "cell_type": "markdown",
   "metadata": {},
   "source": [
    "> Now we only have 5442 tickers"
   ]
  },
  {
   "cell_type": "markdown",
   "metadata": {},
   "source": [
    "---"
   ]
  },
  {
   "cell_type": "markdown",
   "metadata": {},
   "source": [
    "# Dataset exploration : Exploration Data Analysis\n",
    "\n",
    "> Predominant sectors\n",
    "\n",
    "> Predominant industries\n",
    "\n",
    "> Types of stock exchanges on which we operate"
   ]
  },
  {
   "cell_type": "code",
   "execution_count": 12,
   "metadata": {},
   "outputs": [
    {
     "data": {
      "text/plain": [
       "4551"
      ]
     },
     "execution_count": 12,
     "metadata": {},
     "output_type": "execute_result"
    }
   ],
   "source": [
    "stocks['name'].unique().size"
   ]
  },
  {
   "cell_type": "code",
   "execution_count": 13,
   "metadata": {},
   "outputs": [
    {
     "data": {
      "text/plain": [
       "NASDAQ    2855\n",
       "NYSE      2587\n",
       "Name: exchange, dtype: int64"
      ]
     },
     "execution_count": 13,
     "metadata": {},
     "output_type": "execute_result"
    }
   ],
   "source": [
    "stocks['exchange'].value_counts()"
   ]
  },
  {
   "cell_type": "markdown",
   "metadata": {},
   "source": [
    "The number of shares in each type of exchange is rather balanced, which is good for the purpose of ML."
   ]
  },
  {
   "cell_type": "code",
   "execution_count": 14,
   "metadata": {},
   "outputs": [
    {
     "data": {
      "text/plain": [
       "<AxesSubplot:title={'center':'Types of exchanges'}>"
      ]
     },
     "execution_count": 14,
     "metadata": {},
     "output_type": "execute_result"
    },
    {
     "data": {
      "image/png": "[encoded data removed]",
      "text/plain": [
       "<Figure size 432x288 with 1 Axes>"
      ]
     },
     "metadata": {
      "needs_background": "light"
     },
     "output_type": "display_data"
    }
   ],
   "source": [
    "stocks['exchange'].value_counts().plot(kind='bar', title='Types of exchanges')"
   ]
  },
  {
   "cell_type": "code",
   "execution_count": 15,
   "metadata": {},
   "outputs": [
    {
     "data": {
      "text/plain": [
       "FINANCE                  1222\n",
       "CONSUMER SERVICES         959\n",
       "HEALTH CARE               784\n",
       "TECHNOLOGY                609\n",
       "CAPITAL GOODS             356\n",
       "ENERGY                    295\n",
       "PUBLIC UTILITIES          287\n",
       "BASIC INDUSTRIES          276\n",
       "CONSUMER NON-DURABLES     226\n",
       "CONSUMER DURABLES         147\n",
       "MISCELLANEOUS             142\n",
       "TRANSPORTATION            138\n",
       "SECTOR                      1\n",
       "Name: sector, dtype: int64"
      ]
     },
     "execution_count": 15,
     "metadata": {},
     "output_type": "execute_result"
    }
   ],
   "source": [
    "stocks['sector'].value_counts()"
   ]
  },
  {
   "cell_type": "code",
   "execution_count": 16,
   "metadata": {},
   "outputs": [
    {
     "data": {
      "text/plain": [
       "(5441, 5)"
      ]
     },
     "execution_count": 16,
     "metadata": {},
     "output_type": "execute_result"
    }
   ],
   "source": [
    "stocks = stocks[stocks['sector'] != 'SECTOR']\n",
    "stocks.shape\n",
    "#remover a linha dummy"
   ]
  },
  {
   "cell_type": "code",
   "execution_count": 17,
   "metadata": {},
   "outputs": [
    {
     "data": {
      "text/plain": [
       "<AxesSubplot:title={'center':'Sectors'}>"
      ]
     },
     "execution_count": 17,
     "metadata": {},
     "output_type": "execute_result"
    },
    {
     "data": {
      "image/png": "[encoded data removed]",
      "text/plain": [
       "<Figure size 432x288 with 1 Axes>"
      ]
     },
     "metadata": {
      "needs_background": "light"
     },
     "output_type": "display_data"
    }
   ],
   "source": [
    "stocks['sector'].value_counts().plot(kind='barh', title='Sectors')"
   ]
  },
  {
   "cell_type": "markdown",
   "metadata": {},
   "source": [
    "We realize the, throughout the dataset, the Finances sector dominates the sector column, up there with Consumer services and Health care. We can also consider technology, if we allow such leverage."
   ]
  },
  {
   "cell_type": "code",
   "execution_count": 18,
   "metadata": {},
   "outputs": [
    {
     "data": {
      "text/plain": [
       "Text(0, 0.5, '')"
      ]
     },
     "execution_count": 18,
     "metadata": {},
     "output_type": "execute_result"
    },
    {
     "data": {
      "image/png": "[encoded data removed]",
      "text/plain": [
       "<Figure size 432x288 with 1 Axes>"
      ]
     },
     "metadata": {},
     "output_type": "display_data"
    }
   ],
   "source": [
    "ax=stocks['sector'].value_counts().plot(kind='pie', title='Sectors', )\n",
    "ax.set_ylabel('')"
   ]
  },
  {
   "cell_type": "markdown",
   "metadata": {},
   "source": [
    "### Industry"
   ]
  },
  {
   "cell_type": "code",
   "execution_count": 19,
   "metadata": {},
   "outputs": [
    {
     "data": {
      "text/plain": [
       "MAJOR BANKS                                        444\n",
       "MAJOR PHARMACEUTICALS                              419\n",
       "REAL ESTATE INVESTMENT TRUSTS                      377\n",
       "BUSINESS SERVICES                                  248\n",
       "OIL & GAS PRODUCTION                               162\n",
       "                                                  ... \n",
       "TOOLS/HARDWARE                                       1\n",
       "GENERAL BLDG CONTRACTORS - NONRESIDENTIAL BLDGS      1\n",
       "DIVERSIFIED ELECTRONIC PRODUCTS                      1\n",
       "CONSUMER: GREETING CARDS                             1\n",
       "ELECTRONICS DISTRIBUTION                             1\n",
       "Name: industry, Length: 135, dtype: int64"
      ]
     },
     "execution_count": 19,
     "metadata": {},
     "output_type": "execute_result"
    }
   ],
   "source": [
    "stocks['industry'].value_counts()"
   ]
  },
  {
   "cell_type": "code",
   "execution_count": 20,
   "metadata": {},
   "outputs": [
    {
     "data": {
      "text/plain": [
       "<AxesSubplot:>"
      ]
     },
     "execution_count": 20,
     "metadata": {},
     "output_type": "execute_result"
    },
    {
     "data": {
      "image/png": "[encoded data removed]",
      "text/plain": [
       "<Figure size 432x288 with 1 Axes>"
      ]
     },
     "metadata": {
      "needs_background": "light"
     },
     "output_type": "display_data"
    }
   ],
   "source": [
    "absolute_frequency_top10 = stocks['industry'].value_counts()[:10].copy()\n",
    "absolute_frequency_top10 = absolute_frequency_top10.rename('')\n",
    "absolute_frequency_top10.plot(kind='barh')"
   ]
  },
  {
   "cell_type": "code",
   "execution_count": 21,
   "metadata": {},
   "outputs": [
    {
     "data": {
      "text/plain": [
       "<AxesSubplot:>"
      ]
     },
     "execution_count": 21,
     "metadata": {},
     "output_type": "execute_result"
    },
    {
     "data": {
      "image/png": "[encoded data removed]",
      "text/plain": [
       "<Figure size 432x288 with 1 Axes>"
      ]
     },
     "metadata": {},
     "output_type": "display_data"
    }
   ],
   "source": [
    "absolute_frequency_top10.plot(kind='pie')"
   ]
  },
  {
   "cell_type": "markdown",
   "metadata": {},
   "source": [
    "## Let's dive down on the rate of changing in terms of share name.\n",
    "### As we said earlier, a company with the same name can have several shares names changed through time."
   ]
  },
  {
   "cell_type": "code",
   "execution_count": 22,
   "metadata": {},
   "outputs": [],
   "source": [
    "dif_exchange_x_ticker_exchange = stocks.groupby(['name','sector','industry']).agg(ticker_exchange=('ticker','count'), exchange=('exchange','count'))\n",
    "dif_exchange_x_ticker= stocks.groupby(['name','sector','industry']).agg(ticker_exchange=('ticker','count'))\n",
    "change_on = dif_exchange_x_ticker[dif_exchange_x_ticker['ticker_exchange'] >=2].sort_values(by='ticker_exchange', ascending=False).apply(lambda x : x-1)\n",
    "change_off = dif_exchange_x_ticker[dif_exchange_x_ticker['ticker_exchange'] < 2].apply(lambda x : x-1)"
   ]
  },
  {
   "cell_type": "code",
   "execution_count": 23,
   "metadata": {},
   "outputs": [
    {
     "data": {
      "text/html": [
       "<div>\n",
       "<style scoped>\n",
       "    .dataframe tbody tr th:only-of-type {\n",
       "        vertical-align: middle;\n",
       "    }\n",
       "\n",
       "    .dataframe tbody tr th {\n",
       "        vertical-align: top;\n",
       "    }\n",
       "\n",
       "    .dataframe thead th {\n",
       "        text-align: right;\n",
       "    }\n",
       "</style>\n",
       "<table border=\"1\" class=\"dataframe\">\n",
       "  <thead>\n",
       "    <tr style=\"text-align: right;\">\n",
       "      <th></th>\n",
       "      <th></th>\n",
       "      <th></th>\n",
       "      <th>ticker_exchange</th>\n",
       "      <th>exchange</th>\n",
       "    </tr>\n",
       "    <tr>\n",
       "      <th>name</th>\n",
       "      <th>sector</th>\n",
       "      <th>industry</th>\n",
       "      <th></th>\n",
       "      <th></th>\n",
       "    </tr>\n",
       "  </thead>\n",
       "  <tbody>\n",
       "    <tr>\n",
       "      <th>1-800 FLOWERS.COM, INC.</th>\n",
       "      <th>CONSUMER SERVICES</th>\n",
       "      <th>OTHER SPECIALTY STORES</th>\n",
       "      <td>1</td>\n",
       "      <td>1</td>\n",
       "    </tr>\n",
       "    <tr>\n",
       "      <th>1347 PROPERTY INSURANCE HOLDINGS, INC.</th>\n",
       "      <th>FINANCE</th>\n",
       "      <th>PROPERTY-CASUALTY INSURERS</th>\n",
       "      <td>2</td>\n",
       "      <td>2</td>\n",
       "    </tr>\n",
       "    <tr>\n",
       "      <th>180 DEGREE CAPITAL CORP.</th>\n",
       "      <th>FINANCE</th>\n",
       "      <th>FINANCE/INVESTORS SERVICES</th>\n",
       "      <td>1</td>\n",
       "      <td>1</td>\n",
       "    </tr>\n",
       "    <tr>\n",
       "      <th>1ST CONSTITUTION BANCORP (NJ)</th>\n",
       "      <th>FINANCE</th>\n",
       "      <th>SAVINGS INSTITUTIONS</th>\n",
       "      <td>1</td>\n",
       "      <td>1</td>\n",
       "    </tr>\n",
       "    <tr>\n",
       "      <th>1ST SOURCE CORPORATION</th>\n",
       "      <th>FINANCE</th>\n",
       "      <th>MAJOR BANKS</th>\n",
       "      <td>1</td>\n",
       "      <td>1</td>\n",
       "    </tr>\n",
       "    <tr>\n",
       "      <th>...</th>\n",
       "      <th>...</th>\n",
       "      <th>...</th>\n",
       "      <td>...</td>\n",
       "      <td>...</td>\n",
       "    </tr>\n",
       "    <tr>\n",
       "      <th>ZUMIEZ INC.</th>\n",
       "      <th>CONSUMER SERVICES</th>\n",
       "      <th>CLOTHING/SHOE/ACCESSORY STORES</th>\n",
       "      <td>1</td>\n",
       "      <td>1</td>\n",
       "    </tr>\n",
       "    <tr>\n",
       "      <th>ZUORA, INC.</th>\n",
       "      <th>TECHNOLOGY</th>\n",
       "      <th>COMPUTER SOFTWARE: PREPACKAGED SOFTWARE</th>\n",
       "      <td>1</td>\n",
       "      <td>1</td>\n",
       "    </tr>\n",
       "    <tr>\n",
       "      <th>ZYMEWORKS INC.</th>\n",
       "      <th>HEALTH CARE</th>\n",
       "      <th>MAJOR PHARMACEUTICALS</th>\n",
       "      <td>1</td>\n",
       "      <td>1</td>\n",
       "    </tr>\n",
       "    <tr>\n",
       "      <th>ZYNERBA PHARMACEUTICALS, INC.</th>\n",
       "      <th>HEALTH CARE</th>\n",
       "      <th>MAJOR PHARMACEUTICALS</th>\n",
       "      <td>1</td>\n",
       "      <td>1</td>\n",
       "    </tr>\n",
       "    <tr>\n",
       "      <th>ZYNGA INC.</th>\n",
       "      <th>TECHNOLOGY</th>\n",
       "      <th>EDP SERVICES</th>\n",
       "      <td>1</td>\n",
       "      <td>1</td>\n",
       "    </tr>\n",
       "  </tbody>\n",
       "</table>\n",
       "<p>4554 rows × 2 columns</p>\n",
       "</div>"
      ],
      "text/plain": [
       "                                                                                                  ticker_exchange  \\\n",
       "name                                   sector            industry                                                   \n",
       "1-800 FLOWERS.COM, INC.                CONSUMER SERVICES OTHER SPECIALTY STORES                                 1   \n",
       "1347 PROPERTY INSURANCE HOLDINGS, INC. FINANCE           PROPERTY-CASUALTY INSURERS                             2   \n",
       "180 DEGREE CAPITAL CORP.               FINANCE           FINANCE/INVESTORS SERVICES                             1   \n",
       "1ST CONSTITUTION BANCORP (NJ)          FINANCE           SAVINGS INSTITUTIONS                                   1   \n",
       "1ST SOURCE CORPORATION                 FINANCE           MAJOR BANKS                                            1   \n",
       "...                                                                                                           ...   \n",
       "ZUMIEZ INC.                            CONSUMER SERVICES CLOTHING/SHOE/ACCESSORY STORES                         1   \n",
       "ZUORA, INC.                            TECHNOLOGY        COMPUTER SOFTWARE: PREPACKAGED SOFTWARE                1   \n",
       "ZYMEWORKS INC.                         HEALTH CARE       MAJOR PHARMACEUTICALS                                  1   \n",
       "ZYNERBA PHARMACEUTICALS, INC.          HEALTH CARE       MAJOR PHARMACEUTICALS                                  1   \n",
       "ZYNGA INC.                             TECHNOLOGY        EDP SERVICES                                           1   \n",
       "\n",
       "                                                                                                  exchange  \n",
       "name                                   sector            industry                                           \n",
       "1-800 FLOWERS.COM, INC.                CONSUMER SERVICES OTHER SPECIALTY STORES                          1  \n",
       "1347 PROPERTY INSURANCE HOLDINGS, INC. FINANCE           PROPERTY-CASUALTY INSURERS                      2  \n",
       "180 DEGREE CAPITAL CORP.               FINANCE           FINANCE/INVESTORS SERVICES                      1  \n",
       "1ST CONSTITUTION BANCORP (NJ)          FINANCE           SAVINGS INSTITUTIONS                            1  \n",
       "1ST SOURCE CORPORATION                 FINANCE           MAJOR BANKS                                     1  \n",
       "...                                                                                                    ...  \n",
       "ZUMIEZ INC.                            CONSUMER SERVICES CLOTHING/SHOE/ACCESSORY STORES                  1  \n",
       "ZUORA, INC.                            TECHNOLOGY        COMPUTER SOFTWARE: PREPACKAGED SOFTWARE         1  \n",
       "ZYMEWORKS INC.                         HEALTH CARE       MAJOR PHARMACEUTICALS                           1  \n",
       "ZYNERBA PHARMACEUTICALS, INC.          HEALTH CARE       MAJOR PHARMACEUTICALS                           1  \n",
       "ZYNGA INC.                             TECHNOLOGY        EDP SERVICES                                    1  \n",
       "\n",
       "[4554 rows x 2 columns]"
      ]
     },
     "execution_count": 23,
     "metadata": {},
     "output_type": "execute_result"
    }
   ],
   "source": [
    "dif_exchange_x_ticker_exchange"
   ]
  },
  {
   "cell_type": "code",
   "execution_count": 24,
   "metadata": {},
   "outputs": [
    {
     "data": {
      "text/plain": [
       "ticker_exchange    4554\n",
       "exchange           4554\n",
       "dtype: int64"
      ]
     },
     "execution_count": 24,
     "metadata": {},
     "output_type": "execute_result"
    }
   ],
   "source": [
    "dif_exchange_x_ticker_exchange[dif_exchange_x_ticker_exchange['exchange'] == dif_exchange_x_ticker_exchange['ticker_exchange']].count()"
   ]
  },
  {
   "cell_type": "markdown",
   "metadata": {},
   "source": [
    "By the operation above, we see that the number of ticker names and types of exchange are the same, which tells us, by knowing that there are not equal tickers in the dataset, that change to/from either type of exchange requires rebranding of the share, so we can simply identify it by the ticker, like we did priviously. We may also consider that the ticker name might be changed for marketing purposes and maintaining it's type of exchange.\n",
    "\n",
    "It is worth noting that we will not include the type of exchange as we consider that it doesn't add information: **for now**,we do not have dates of these changes nor the info regarding if the shares still exist or not, so we cannot identify if there's some sort of shitf in favor of any of the types of exchange. So we won't be using type of exchange on the rest of this topic."
   ]
  },
  {
   "cell_type": "code",
   "execution_count": 25,
   "metadata": {},
   "outputs": [
    {
     "data": {
      "text/html": [
       "<div>\n",
       "<style scoped>\n",
       "    .dataframe tbody tr th:only-of-type {\n",
       "        vertical-align: middle;\n",
       "    }\n",
       "\n",
       "    .dataframe tbody tr th {\n",
       "        vertical-align: top;\n",
       "    }\n",
       "\n",
       "    .dataframe thead th {\n",
       "        text-align: right;\n",
       "    }\n",
       "</style>\n",
       "<table border=\"1\" class=\"dataframe\">\n",
       "  <thead>\n",
       "    <tr style=\"text-align: right;\">\n",
       "      <th></th>\n",
       "      <th></th>\n",
       "      <th></th>\n",
       "      <th>ticker_exchange</th>\n",
       "    </tr>\n",
       "    <tr>\n",
       "      <th>name</th>\n",
       "      <th>sector</th>\n",
       "      <th>industry</th>\n",
       "      <th></th>\n",
       "    </tr>\n",
       "  </thead>\n",
       "  <tbody>\n",
       "    <tr>\n",
       "      <th>1-800 FLOWERS.COM, INC.</th>\n",
       "      <th>CONSUMER SERVICES</th>\n",
       "      <th>OTHER SPECIALTY STORES</th>\n",
       "      <td>0</td>\n",
       "    </tr>\n",
       "    <tr>\n",
       "      <th>180 DEGREE CAPITAL CORP.</th>\n",
       "      <th>FINANCE</th>\n",
       "      <th>FINANCE/INVESTORS SERVICES</th>\n",
       "      <td>0</td>\n",
       "    </tr>\n",
       "    <tr>\n",
       "      <th>1ST CONSTITUTION BANCORP (NJ)</th>\n",
       "      <th>FINANCE</th>\n",
       "      <th>SAVINGS INSTITUTIONS</th>\n",
       "      <td>0</td>\n",
       "    </tr>\n",
       "    <tr>\n",
       "      <th>1ST SOURCE CORPORATION</th>\n",
       "      <th>FINANCE</th>\n",
       "      <th>MAJOR BANKS</th>\n",
       "      <td>0</td>\n",
       "    </tr>\n",
       "    <tr>\n",
       "      <th>21VIANET GROUP, INC.</th>\n",
       "      <th>TECHNOLOGY</th>\n",
       "      <th>COMPUTER SOFTWARE: PROGRAMMING, DATA PROCESSING</th>\n",
       "      <td>0</td>\n",
       "    </tr>\n",
       "    <tr>\n",
       "      <th>...</th>\n",
       "      <th>...</th>\n",
       "      <th>...</th>\n",
       "      <td>...</td>\n",
       "    </tr>\n",
       "    <tr>\n",
       "      <th>ZUMIEZ INC.</th>\n",
       "      <th>CONSUMER SERVICES</th>\n",
       "      <th>CLOTHING/SHOE/ACCESSORY STORES</th>\n",
       "      <td>0</td>\n",
       "    </tr>\n",
       "    <tr>\n",
       "      <th>ZUORA, INC.</th>\n",
       "      <th>TECHNOLOGY</th>\n",
       "      <th>COMPUTER SOFTWARE: PREPACKAGED SOFTWARE</th>\n",
       "      <td>0</td>\n",
       "    </tr>\n",
       "    <tr>\n",
       "      <th>ZYMEWORKS INC.</th>\n",
       "      <th>HEALTH CARE</th>\n",
       "      <th>MAJOR PHARMACEUTICALS</th>\n",
       "      <td>0</td>\n",
       "    </tr>\n",
       "    <tr>\n",
       "      <th>ZYNERBA PHARMACEUTICALS, INC.</th>\n",
       "      <th>HEALTH CARE</th>\n",
       "      <th>MAJOR PHARMACEUTICALS</th>\n",
       "      <td>0</td>\n",
       "    </tr>\n",
       "    <tr>\n",
       "      <th>ZYNGA INC.</th>\n",
       "      <th>TECHNOLOGY</th>\n",
       "      <th>EDP SERVICES</th>\n",
       "      <td>0</td>\n",
       "    </tr>\n",
       "  </tbody>\n",
       "</table>\n",
       "<p>4086 rows × 1 columns</p>\n",
       "</div>"
      ],
      "text/plain": [
       "                                                                                                 ticker_exchange\n",
       "name                          sector            industry                                                        \n",
       "1-800 FLOWERS.COM, INC.       CONSUMER SERVICES OTHER SPECIALTY STORES                                         0\n",
       "180 DEGREE CAPITAL CORP.      FINANCE           FINANCE/INVESTORS SERVICES                                     0\n",
       "1ST CONSTITUTION BANCORP (NJ) FINANCE           SAVINGS INSTITUTIONS                                           0\n",
       "1ST SOURCE CORPORATION        FINANCE           MAJOR BANKS                                                    0\n",
       "21VIANET GROUP, INC.          TECHNOLOGY        COMPUTER SOFTWARE: PROGRAMMING, DATA PROCESSING                0\n",
       "...                                                                                                          ...\n",
       "ZUMIEZ INC.                   CONSUMER SERVICES CLOTHING/SHOE/ACCESSORY STORES                                 0\n",
       "ZUORA, INC.                   TECHNOLOGY        COMPUTER SOFTWARE: PREPACKAGED SOFTWARE                        0\n",
       "ZYMEWORKS INC.                HEALTH CARE       MAJOR PHARMACEUTICALS                                          0\n",
       "ZYNERBA PHARMACEUTICALS, INC. HEALTH CARE       MAJOR PHARMACEUTICALS                                          0\n",
       "ZYNGA INC.                    TECHNOLOGY        EDP SERVICES                                                   0\n",
       "\n",
       "[4086 rows x 1 columns]"
      ]
     },
     "execution_count": 25,
     "metadata": {},
     "output_type": "execute_result"
    }
   ],
   "source": [
    "change_off"
   ]
  },
  {
   "cell_type": "code",
   "execution_count": 26,
   "metadata": {},
   "outputs": [
    {
     "data": {
      "text/html": [
       "<div>\n",
       "<style scoped>\n",
       "    .dataframe tbody tr th:only-of-type {\n",
       "        vertical-align: middle;\n",
       "    }\n",
       "\n",
       "    .dataframe tbody tr th {\n",
       "        vertical-align: top;\n",
       "    }\n",
       "\n",
       "    .dataframe thead th {\n",
       "        text-align: right;\n",
       "    }\n",
       "</style>\n",
       "<table border=\"1\" class=\"dataframe\">\n",
       "  <thead>\n",
       "    <tr style=\"text-align: right;\">\n",
       "      <th></th>\n",
       "      <th></th>\n",
       "      <th></th>\n",
       "      <th>ticker_exchange</th>\n",
       "    </tr>\n",
       "    <tr>\n",
       "      <th>name</th>\n",
       "      <th>sector</th>\n",
       "      <th>industry</th>\n",
       "      <th></th>\n",
       "    </tr>\n",
       "  </thead>\n",
       "  <tbody>\n",
       "    <tr>\n",
       "      <th>BANK OF AMERICA CORPORATION</th>\n",
       "      <th>FINANCE</th>\n",
       "      <th>MAJOR BANKS</th>\n",
       "      <td>15</td>\n",
       "    </tr>\n",
       "    <tr>\n",
       "      <th>WELLS FARGO &amp; COMPANY</th>\n",
       "      <th>FINANCE</th>\n",
       "      <th>MAJOR BANKS</th>\n",
       "      <td>14</td>\n",
       "    </tr>\n",
       "    <tr>\n",
       "      <th>PUBLIC STORAGE</th>\n",
       "      <th>CONSUMER SERVICES</th>\n",
       "      <th>REAL ESTATE INVESTMENT TRUSTS</th>\n",
       "      <td>13</td>\n",
       "    </tr>\n",
       "    <tr>\n",
       "      <th>BARCLAYS PLC</th>\n",
       "      <th>FINANCE</th>\n",
       "      <th>COMMERCIAL BANKS</th>\n",
       "      <td>12</td>\n",
       "    </tr>\n",
       "    <tr>\n",
       "      <th>CREDIT SUISSE AG</th>\n",
       "      <th>FINANCE</th>\n",
       "      <th>INVESTMENT BANKERS/BROKERS/SERVICE</th>\n",
       "      <td>11</td>\n",
       "    </tr>\n",
       "    <tr>\n",
       "      <th>...</th>\n",
       "      <th>...</th>\n",
       "      <th>...</th>\n",
       "      <td>...</td>\n",
       "    </tr>\n",
       "    <tr>\n",
       "      <th>BANK OF NEW YORK MELLON CORPORATION (THE)</th>\n",
       "      <th>FINANCE</th>\n",
       "      <th>MAJOR BANKS</th>\n",
       "      <td>1</td>\n",
       "    </tr>\n",
       "    <tr>\n",
       "      <th>HOVNANIAN ENTERPRISES INC</th>\n",
       "      <th>CAPITAL GOODS</th>\n",
       "      <th>HOMEBUILDING</th>\n",
       "      <td>1</td>\n",
       "    </tr>\n",
       "    <tr>\n",
       "      <th>HOSTESS BRANDS, INC.</th>\n",
       "      <th>CONSUMER NON-DURABLES</th>\n",
       "      <th>PACKAGED FOODS</th>\n",
       "      <td>1</td>\n",
       "    </tr>\n",
       "    <tr>\n",
       "      <th>HOEGH LNG PARTNERS LP</th>\n",
       "      <th>CONSUMER SERVICES</th>\n",
       "      <th>MARINE TRANSPORTATION</th>\n",
       "      <td>1</td>\n",
       "    </tr>\n",
       "    <tr>\n",
       "      <th>1347 PROPERTY INSURANCE HOLDINGS, INC.</th>\n",
       "      <th>FINANCE</th>\n",
       "      <th>PROPERTY-CASUALTY INSURERS</th>\n",
       "      <td>1</td>\n",
       "    </tr>\n",
       "  </tbody>\n",
       "</table>\n",
       "<p>468 rows × 1 columns</p>\n",
       "</div>"
      ],
      "text/plain": [
       "                                                                                                    ticker_exchange\n",
       "name                                      sector                industry                                           \n",
       "BANK OF AMERICA CORPORATION               FINANCE               MAJOR BANKS                                      15\n",
       "WELLS FARGO & COMPANY                     FINANCE               MAJOR BANKS                                      14\n",
       "PUBLIC STORAGE                            CONSUMER SERVICES     REAL ESTATE INVESTMENT TRUSTS                    13\n",
       "BARCLAYS PLC                              FINANCE               COMMERCIAL BANKS                                 12\n",
       "CREDIT SUISSE AG                          FINANCE               INVESTMENT BANKERS/BROKERS/SERVICE               11\n",
       "...                                                                                                             ...\n",
       "BANK OF NEW YORK MELLON CORPORATION (THE) FINANCE               MAJOR BANKS                                       1\n",
       "HOVNANIAN ENTERPRISES INC                 CAPITAL GOODS         HOMEBUILDING                                      1\n",
       "HOSTESS BRANDS, INC.                      CONSUMER NON-DURABLES PACKAGED FOODS                                    1\n",
       "HOEGH LNG PARTNERS LP                     CONSUMER SERVICES     MARINE TRANSPORTATION                             1\n",
       "1347 PROPERTY INSURANCE HOLDINGS, INC.    FINANCE               PROPERTY-CASUALTY INSURERS                        1\n",
       "\n",
       "[468 rows x 1 columns]"
      ]
     },
     "execution_count": 26,
     "metadata": {},
     "output_type": "execute_result"
    }
   ],
   "source": [
    "change_on"
   ]
  },
  {
   "cell_type": "markdown",
   "metadata": {},
   "source": [
    "We produced two distinct dataframes, grouped by the companies' names, sectors and industries,respectively, and contemplate the number of changes on ticker:\n",
    "> The first one regards to the companies that did not make any changes, going by the name 'change_off'\n",
    "\n",
    "> The second one regards to the companies that made name changes in the past, going by the name 'change_on'"
   ]
  },
  {
   "cell_type": "code",
   "execution_count": 27,
   "metadata": {},
   "outputs": [
    {
     "data": {
      "image/png": "[encoded data removed]",
      "text/plain": [
       "<Figure size 432x288 with 1 Axes>"
      ]
     },
     "metadata": {
      "needs_background": "light"
     },
     "output_type": "display_data"
    }
   ],
   "source": [
    "ax=change_on.groupby('sector').mean().sort_values(by='ticker_exchange',ascending=False).plot(kind='barh',y='ticker_exchange',legend=False, title ='Sectors')\n",
    "#ax.set_ylabel('')"
   ]
  },
  {
   "cell_type": "markdown",
   "metadata": {},
   "source": [
    "We identify that companies on the Finances sector show a mean higher regarding the rebranding of their tickers, followed closely by Transportation and Consumer Services"
   ]
  },
  {
   "cell_type": "code",
   "execution_count": 28,
   "metadata": {},
   "outputs": [
    {
     "data": {
      "image/png": "[encoded data removed]",
      "text/plain": [
       "<Figure size 432x288 with 1 Axes>"
      ]
     },
     "metadata": {
      "needs_background": "light"
     },
     "output_type": "display_data"
    }
   ],
   "source": [
    "ax=change_on.groupby('industry').mean().sort_values(by='ticker_exchange',ascending=False)[:10].plot(kind='barh',y='ticker_exchange',legend=False, title ='Top 10 Industries')\n",
    "#ax.set_ylabel('')"
   ]
  },
  {
   "cell_type": "markdown",
   "metadata": {},
   "source": [
    "Industry wise, we can see that Finances show up big again, equal with Farming/Seeds/Milling. Investment Bankers/Brokers/Service follow right away."
   ]
  },
  {
   "cell_type": "markdown",
   "metadata": {},
   "source": [
    "<b>We conclude the the shallow analysis of the first component of the Stock Prices dataset. </b>"
   ]
  },
  {
   "cell_type": "markdown",
   "metadata": {},
   "source": [
    "---"
   ]
  },
  {
   "cell_type": "markdown",
   "metadata": {},
   "source": [
    "# Let's now explore the stock prices  : Exploration Data Analysis"
   ]
  },
  {
   "cell_type": "markdown",
   "metadata": {},
   "source": [
    "---"
   ]
  },
  {
   "cell_type": "code",
   "execution_count": 4,
   "metadata": {},
   "outputs": [
    {
     "data": {
      "text/html": [
       "<div>\n",
       "<style scoped>\n",
       "    .dataframe tbody tr th:only-of-type {\n",
       "        vertical-align: middle;\n",
       "    }\n",
       "\n",
       "    .dataframe tbody tr th {\n",
       "        vertical-align: top;\n",
       "    }\n",
       "\n",
       "    .dataframe thead th {\n",
       "        text-align: right;\n",
       "    }\n",
       "</style>\n",
       "<table border=\"1\" class=\"dataframe\">\n",
       "  <thead>\n",
       "    <tr style=\"text-align: right;\">\n",
       "      <th></th>\n",
       "      <th>ticker</th>\n",
       "      <th>open</th>\n",
       "      <th>close</th>\n",
       "      <th>adj_close</th>\n",
       "      <th>low</th>\n",
       "      <th>high</th>\n",
       "      <th>volume</th>\n",
       "      <th>date</th>\n",
       "    </tr>\n",
       "  </thead>\n",
       "  <tbody>\n",
       "    <tr>\n",
       "      <th>6807</th>\n",
       "      <td>CRCM</td>\n",
       "      <td>8.59</td>\n",
       "      <td>8.37</td>\n",
       "      <td>8.370000</td>\n",
       "      <td>8.18</td>\n",
       "      <td>8.60</td>\n",
       "      <td>107500</td>\n",
       "      <td>2017-01-03</td>\n",
       "    </tr>\n",
       "    <tr>\n",
       "      <th>6813</th>\n",
       "      <td>CRCM</td>\n",
       "      <td>8.42</td>\n",
       "      <td>8.61</td>\n",
       "      <td>8.610000</td>\n",
       "      <td>8.39</td>\n",
       "      <td>8.65</td>\n",
       "      <td>85500</td>\n",
       "      <td>2017-01-04</td>\n",
       "    </tr>\n",
       "    <tr>\n",
       "      <th>6827</th>\n",
       "      <td>CRCM</td>\n",
       "      <td>8.59</td>\n",
       "      <td>8.55</td>\n",
       "      <td>8.550000</td>\n",
       "      <td>8.38</td>\n",
       "      <td>8.62</td>\n",
       "      <td>67000</td>\n",
       "      <td>2017-01-05</td>\n",
       "    </tr>\n",
       "    <tr>\n",
       "      <th>6835</th>\n",
       "      <td>CRCM</td>\n",
       "      <td>8.81</td>\n",
       "      <td>8.69</td>\n",
       "      <td>8.690000</td>\n",
       "      <td>8.50</td>\n",
       "      <td>8.81</td>\n",
       "      <td>136600</td>\n",
       "      <td>2017-01-06</td>\n",
       "    </tr>\n",
       "    <tr>\n",
       "      <th>6849</th>\n",
       "      <td>CRCM</td>\n",
       "      <td>8.64</td>\n",
       "      <td>8.70</td>\n",
       "      <td>8.700000</td>\n",
       "      <td>8.60</td>\n",
       "      <td>8.77</td>\n",
       "      <td>71800</td>\n",
       "      <td>2017-01-09</td>\n",
       "    </tr>\n",
       "    <tr>\n",
       "      <th>...</th>\n",
       "      <td>...</td>\n",
       "      <td>...</td>\n",
       "      <td>...</td>\n",
       "      <td>...</td>\n",
       "      <td>...</td>\n",
       "      <td>...</td>\n",
       "      <td>...</td>\n",
       "      <td>...</td>\n",
       "    </tr>\n",
       "    <tr>\n",
       "      <th>20973720</th>\n",
       "      <td>NZF</td>\n",
       "      <td>15.02</td>\n",
       "      <td>15.00</td>\n",
       "      <td>14.441445</td>\n",
       "      <td>14.97</td>\n",
       "      <td>15.02</td>\n",
       "      <td>261900</td>\n",
       "      <td>2017-12-22</td>\n",
       "    </tr>\n",
       "    <tr>\n",
       "      <th>20973721</th>\n",
       "      <td>NZF</td>\n",
       "      <td>15.03</td>\n",
       "      <td>15.04</td>\n",
       "      <td>14.479957</td>\n",
       "      <td>14.97</td>\n",
       "      <td>15.05</td>\n",
       "      <td>477600</td>\n",
       "      <td>2017-12-26</td>\n",
       "    </tr>\n",
       "    <tr>\n",
       "      <th>20973722</th>\n",
       "      <td>NZF</td>\n",
       "      <td>15.04</td>\n",
       "      <td>15.13</td>\n",
       "      <td>14.566607</td>\n",
       "      <td>15.04</td>\n",
       "      <td>15.14</td>\n",
       "      <td>281700</td>\n",
       "      <td>2017-12-27</td>\n",
       "    </tr>\n",
       "    <tr>\n",
       "      <th>20973723</th>\n",
       "      <td>NZF</td>\n",
       "      <td>15.15</td>\n",
       "      <td>15.23</td>\n",
       "      <td>14.662882</td>\n",
       "      <td>15.13</td>\n",
       "      <td>15.23</td>\n",
       "      <td>414800</td>\n",
       "      <td>2017-12-28</td>\n",
       "    </tr>\n",
       "    <tr>\n",
       "      <th>20973724</th>\n",
       "      <td>NZF</td>\n",
       "      <td>15.25</td>\n",
       "      <td>15.24</td>\n",
       "      <td>14.672510</td>\n",
       "      <td>15.23</td>\n",
       "      <td>15.28</td>\n",
       "      <td>394200</td>\n",
       "      <td>2017-12-29</td>\n",
       "    </tr>\n",
       "  </tbody>\n",
       "</table>\n",
       "<p>1294034 rows × 8 columns</p>\n",
       "</div>"
      ],
      "text/plain": [
       "         ticker   open  close  adj_close    low   high  volume        date\n",
       "6807       CRCM   8.59   8.37   8.370000   8.18   8.60  107500  2017-01-03\n",
       "6813       CRCM   8.42   8.61   8.610000   8.39   8.65   85500  2017-01-04\n",
       "6827       CRCM   8.59   8.55   8.550000   8.38   8.62   67000  2017-01-05\n",
       "6835       CRCM   8.81   8.69   8.690000   8.50   8.81  136600  2017-01-06\n",
       "6849       CRCM   8.64   8.70   8.700000   8.60   8.77   71800  2017-01-09\n",
       "...         ...    ...    ...        ...    ...    ...     ...         ...\n",
       "20973720    NZF  15.02  15.00  14.441445  14.97  15.02  261900  2017-12-22\n",
       "20973721    NZF  15.03  15.04  14.479957  14.97  15.05  477600  2017-12-26\n",
       "20973722    NZF  15.04  15.13  14.566607  15.04  15.14  281700  2017-12-27\n",
       "20973723    NZF  15.15  15.23  14.662882  15.13  15.23  414800  2017-12-28\n",
       "20973724    NZF  15.25  15.24  14.672510  15.23  15.28  394200  2017-12-29\n",
       "\n",
       "[1294034 rows x 8 columns]"
      ]
     },
     "execution_count": 4,
     "metadata": {},
     "output_type": "execute_result"
    }
   ],
   "source": [
    "stock_prices = pd.read_csv('../data/daily-historical-stock-prices-1970-2018/historical_stock_prices.csv')\n",
    "stocks_data = stock_prices.loc[(stock_prices['date']>='2017-01-01') & (stock_prices['date']<='2017-12-31')]\n",
    "stocks_data"
   ]
  },
  {
   "cell_type": "markdown",
   "metadata": {},
   "source": [
    "---"
   ]
  },
  {
   "cell_type": "markdown",
   "metadata": {},
   "source": [
    "### Short explanation about the dataset\n",
    "\n",
    "- 'ticker' corresponds to the name of the share\n",
    "- 'open' describe the open price of that share in a specific day\n",
    "- 'close' describe the final share price in the end of a day\n",
    "- 'adj-close' it´s a tricky column, describes the adjusted price of a share, thats normally different from the close price\n",
    " > An example of this, is when a stock splits occur. \n",
    "A stock split it's a current way used for compannies to sell more stocks, by diving the price in (x), lets say x = 2, then if one share = 10€, then, when stock split occurs, let say with a split=2, the share is equal to 5€, but in the end this 2 shares represent the same as 1 share, e.g, imagine that the companny have 10 shares, if you buy 1 share you have 1% of the company, in a stock split(split=2), if you buy 2 shares you only have 1% of the comapnny two.\n",
    "\n",
    " > A stock's price is typically affected by supply and demand of market participants. However, some corporate actions, such as stock splits, dividends / distributions and rights offerings can affect a stock's price and adjustments are needed to arrive at a technically accurate reflection of the true value of that stock.\n",
    "\n",
    "- 'low' is the lowest value paid for that share\n",
    "- 'high' is the highest value paid for that share\n",
    "- 'volume' of shares purchased in that day\n",
    "- 'date' represents the date (year-month-day)"
   ]
  },
  {
   "cell_type": "markdown",
   "metadata": {},
   "source": [
    "As we can notice by the table above, this dataset doesn't contain any missing value"
   ]
  },
  {
   "cell_type": "code",
   "execution_count": 5,
   "metadata": {},
   "outputs": [
    {
     "data": {
      "text/html": [
       "<div>\n",
       "<style scoped>\n",
       "    .dataframe tbody tr th:only-of-type {\n",
       "        vertical-align: middle;\n",
       "    }\n",
       "\n",
       "    .dataframe tbody tr th {\n",
       "        vertical-align: top;\n",
       "    }\n",
       "\n",
       "    .dataframe thead th {\n",
       "        text-align: right;\n",
       "    }\n",
       "</style>\n",
       "<table border=\"1\" class=\"dataframe\">\n",
       "  <thead>\n",
       "    <tr style=\"text-align: right;\">\n",
       "      <th></th>\n",
       "      <th>open</th>\n",
       "      <th>close</th>\n",
       "      <th>adj_close</th>\n",
       "      <th>low</th>\n",
       "      <th>high</th>\n",
       "      <th>volume</th>\n",
       "    </tr>\n",
       "  </thead>\n",
       "  <tbody>\n",
       "    <tr>\n",
       "      <th>count</th>\n",
       "      <td>1.294034e+06</td>\n",
       "      <td>1.294034e+06</td>\n",
       "      <td>1.294034e+06</td>\n",
       "      <td>1.294034e+06</td>\n",
       "      <td>1.294034e+06</td>\n",
       "      <td>1.294034e+06</td>\n",
       "    </tr>\n",
       "    <tr>\n",
       "      <th>mean</th>\n",
       "      <td>6.868320e+01</td>\n",
       "      <td>6.884981e+01</td>\n",
       "      <td>6.803465e+01</td>\n",
       "      <td>6.775879e+01</td>\n",
       "      <td>6.978089e+01</td>\n",
       "      <td>9.524202e+05</td>\n",
       "    </tr>\n",
       "    <tr>\n",
       "      <th>std</th>\n",
       "      <td>2.256030e+03</td>\n",
       "      <td>2.284551e+03</td>\n",
       "      <td>2.284261e+03</td>\n",
       "      <td>2.228004e+03</td>\n",
       "      <td>2.313273e+03</td>\n",
       "      <td>3.345199e+06</td>\n",
       "    </tr>\n",
       "    <tr>\n",
       "      <th>min</th>\n",
       "      <td>7.000000e-03</td>\n",
       "      <td>7.000000e-03</td>\n",
       "      <td>2.908508e-03</td>\n",
       "      <td>7.000000e-03</td>\n",
       "      <td>7.000000e-03</td>\n",
       "      <td>1.000000e+00</td>\n",
       "    </tr>\n",
       "    <tr>\n",
       "      <th>25%</th>\n",
       "      <td>1.009000e+01</td>\n",
       "      <td>1.008000e+01</td>\n",
       "      <td>9.758174e+00</td>\n",
       "      <td>9.990000e+00</td>\n",
       "      <td>1.020000e+01</td>\n",
       "      <td>3.740000e+04</td>\n",
       "    </tr>\n",
       "    <tr>\n",
       "      <th>50%</th>\n",
       "      <td>2.155000e+01</td>\n",
       "      <td>2.154000e+01</td>\n",
       "      <td>2.076000e+01</td>\n",
       "      <td>2.127000e+01</td>\n",
       "      <td>2.180000e+01</td>\n",
       "      <td>1.732000e+05</td>\n",
       "    </tr>\n",
       "    <tr>\n",
       "      <th>75%</th>\n",
       "      <td>4.283000e+01</td>\n",
       "      <td>4.282000e+01</td>\n",
       "      <td>4.183122e+01</td>\n",
       "      <td>4.236000e+01</td>\n",
       "      <td>4.327000e+01</td>\n",
       "      <td>6.898000e+05</td>\n",
       "    </tr>\n",
       "    <tr>\n",
       "      <th>max</th>\n",
       "      <td>3.135000e+05</td>\n",
       "      <td>3.960000e+05</td>\n",
       "      <td>3.960000e+05</td>\n",
       "      <td>3.080000e+05</td>\n",
       "      <td>4.500000e+05</td>\n",
       "      <td>3.125568e+08</td>\n",
       "    </tr>\n",
       "  </tbody>\n",
       "</table>\n",
       "</div>"
      ],
      "text/plain": [
       "               open         close     adj_close           low          high  \\\n",
       "count  1.294034e+06  1.294034e+06  1.294034e+06  1.294034e+06  1.294034e+06   \n",
       "mean   6.868320e+01  6.884981e+01  6.803465e+01  6.775879e+01  6.978089e+01   \n",
       "std    2.256030e+03  2.284551e+03  2.284261e+03  2.228004e+03  2.313273e+03   \n",
       "min    7.000000e-03  7.000000e-03  2.908508e-03  7.000000e-03  7.000000e-03   \n",
       "25%    1.009000e+01  1.008000e+01  9.758174e+00  9.990000e+00  1.020000e+01   \n",
       "50%    2.155000e+01  2.154000e+01  2.076000e+01  2.127000e+01  2.180000e+01   \n",
       "75%    4.283000e+01  4.282000e+01  4.183122e+01  4.236000e+01  4.327000e+01   \n",
       "max    3.135000e+05  3.960000e+05  3.960000e+05  3.080000e+05  4.500000e+05   \n",
       "\n",
       "             volume  \n",
       "count  1.294034e+06  \n",
       "mean   9.524202e+05  \n",
       "std    3.345199e+06  \n",
       "min    1.000000e+00  \n",
       "25%    3.740000e+04  \n",
       "50%    1.732000e+05  \n",
       "75%    6.898000e+05  \n",
       "max    3.125568e+08  "
      ]
     },
     "execution_count": 5,
     "metadata": {},
     "output_type": "execute_result"
    }
   ],
   "source": [
    "stocks_data.describe()"
   ]
  },
  {
   "cell_type": "code",
   "execution_count": 6,
   "metadata": {},
   "outputs": [
    {
     "data": {
      "text/plain": [
       "5470"
      ]
     },
     "execution_count": 6,
     "metadata": {},
     "output_type": "execute_result"
    }
   ],
   "source": [
    "stocks_data[\"ticker\"].unique().size"
   ]
  },
  {
   "cell_type": "code",
   "execution_count": 7,
   "metadata": {},
   "outputs": [
    {
     "data": {
      "text/plain": [
       "ticker       0\n",
       "open         0\n",
       "close        0\n",
       "adj_close    0\n",
       "low          0\n",
       "high         0\n",
       "volume       0\n",
       "date         0\n",
       "dtype: int64"
      ]
     },
     "execution_count": 7,
     "metadata": {},
     "output_type": "execute_result"
    }
   ],
   "source": [
    "stocks_data.isnull().sum()"
   ]
  },
  {
   "cell_type": "code",
   "execution_count": 11,
   "metadata": {},
   "outputs": [
    {
     "name": "stdout",
     "output_type": "stream",
     "text": [
      "20973889\n"
     ]
    }
   ],
   "source": [
    "# to check how many millions records we are handling here\n",
    "index = stock_prices.index\n",
    "number_of_rows = len(index)\n",
    "print(number_of_rows)"
   ]
  },
  {
   "cell_type": "markdown",
   "metadata": {},
   "source": [
    "> As mentioned earlier, the ticker is the key, is this case, a ticker represents a companny.\n",
    "\n",
    "> In this dataset we have 5685 different tickers, in the previous dataset we had 5441 tickers, so we have to eliminate some tickers here.\n",
    "\n",
    "> This opperation is quite long, maybe 5 minutes.\n",
    "> Meanwhile go get a coffee :)"
   ]
  },
  {
   "cell_type": "code",
   "execution_count": 33,
   "metadata": {},
   "outputs": [
    {
     "data": {
      "text/plain": [
       "'\\npd.options.mode.chained_assignment = None\\ntickers = bad_tickers[\\'ticker\\'].unique()\\n\\nind = []\\n\\nfor index, row in stock_prices.iterrows():\\n    if(row[\\'ticker\\'] in tickers):\\n        ind.append(index)\\n        \\nind = np.asarray(ind)\\nstock_prices.drop(ind)\\n    \\n\\nstock_prices[\"ticker\"].unique().size\\n'"
      ]
     },
     "execution_count": 33,
     "metadata": {},
     "output_type": "execute_result"
    }
   ],
   "source": [
    "#Don't run this cell for now\n",
    "'''\n",
    "pd.options.mode.chained_assignment = None\n",
    "tickers = bad_tickers['ticker'].unique()\n",
    "\n",
    "ind = []\n",
    "\n",
    "for index, row in stock_prices.iterrows():\n",
    "    if(row['ticker'] in tickers):\n",
    "        ind.append(index)\n",
    "        \n",
    "ind = np.asarray(ind)\n",
    "stock_prices.drop(ind)\n",
    "    \n",
    "\n",
    "stock_prices[\"ticker\"].unique().size\n",
    "'''"
   ]
  },
  {
   "cell_type": "markdown",
   "metadata": {},
   "source": [
    "---"
   ]
  },
  {
   "cell_type": "markdown",
   "metadata": {},
   "source": [
    "# Correlation analysis"
   ]
  },
  {
   "cell_type": "code",
   "execution_count": 32,
   "metadata": {},
   "outputs": [
    {
     "data": {
      "text/html": [
       "<div>\n",
       "<style scoped>\n",
       "    .dataframe tbody tr th:only-of-type {\n",
       "        vertical-align: middle;\n",
       "    }\n",
       "\n",
       "    .dataframe tbody tr th {\n",
       "        vertical-align: top;\n",
       "    }\n",
       "\n",
       "    .dataframe thead th {\n",
       "        text-align: right;\n",
       "    }\n",
       "</style>\n",
       "<table border=\"1\" class=\"dataframe\">\n",
       "  <thead>\n",
       "    <tr style=\"text-align: right;\">\n",
       "      <th></th>\n",
       "      <th>open</th>\n",
       "      <th>close</th>\n",
       "      <th>adj_close</th>\n",
       "      <th>low</th>\n",
       "      <th>high</th>\n",
       "      <th>volume</th>\n",
       "    </tr>\n",
       "  </thead>\n",
       "  <tbody>\n",
       "    <tr>\n",
       "      <th>open</th>\n",
       "      <td>1.000000</td>\n",
       "      <td>0.997216</td>\n",
       "      <td>0.997194</td>\n",
       "      <td>0.999901</td>\n",
       "      <td>0.995622</td>\n",
       "      <td>-0.002041</td>\n",
       "    </tr>\n",
       "    <tr>\n",
       "      <th>close</th>\n",
       "      <td>0.997216</td>\n",
       "      <td>1.000000</td>\n",
       "      <td>0.999990</td>\n",
       "      <td>0.997204</td>\n",
       "      <td>0.999593</td>\n",
       "      <td>-0.002032</td>\n",
       "    </tr>\n",
       "    <tr>\n",
       "      <th>adj_close</th>\n",
       "      <td>0.997194</td>\n",
       "      <td>0.999990</td>\n",
       "      <td>1.000000</td>\n",
       "      <td>0.997195</td>\n",
       "      <td>0.999572</td>\n",
       "      <td>-0.002034</td>\n",
       "    </tr>\n",
       "    <tr>\n",
       "      <th>low</th>\n",
       "      <td>0.999901</td>\n",
       "      <td>0.997204</td>\n",
       "      <td>0.997195</td>\n",
       "      <td>1.000000</td>\n",
       "      <td>0.995438</td>\n",
       "      <td>-0.002032</td>\n",
       "    </tr>\n",
       "    <tr>\n",
       "      <th>high</th>\n",
       "      <td>0.995622</td>\n",
       "      <td>0.999593</td>\n",
       "      <td>0.999572</td>\n",
       "      <td>0.995438</td>\n",
       "      <td>1.000000</td>\n",
       "      <td>-0.002044</td>\n",
       "    </tr>\n",
       "    <tr>\n",
       "      <th>volume</th>\n",
       "      <td>-0.002041</td>\n",
       "      <td>-0.002032</td>\n",
       "      <td>-0.002034</td>\n",
       "      <td>-0.002032</td>\n",
       "      <td>-0.002044</td>\n",
       "      <td>1.000000</td>\n",
       "    </tr>\n",
       "  </tbody>\n",
       "</table>\n",
       "</div>"
      ],
      "text/plain": [
       "               open     close  adj_close       low      high    volume\n",
       "open       1.000000  0.997216   0.997194  0.999901  0.995622 -0.002041\n",
       "close      0.997216  1.000000   0.999990  0.997204  0.999593 -0.002032\n",
       "adj_close  0.997194  0.999990   1.000000  0.997195  0.999572 -0.002034\n",
       "low        0.999901  0.997204   0.997195  1.000000  0.995438 -0.002032\n",
       "high       0.995622  0.999593   0.999572  0.995438  1.000000 -0.002044\n",
       "volume    -0.002041 -0.002032  -0.002034 -0.002032 -0.002044  1.000000"
      ]
     },
     "execution_count": 32,
     "metadata": {},
     "output_type": "execute_result"
    }
   ],
   "source": [
    "stocks_data.corr()"
   ]
  },
  {
   "cell_type": "markdown",
   "metadata": {},
   "source": [
    ">As we can expect, the adj_close isn't very corrolated with any feature."
   ]
  },
  {
   "cell_type": "markdown",
   "metadata": {},
   "source": [
    "## Let's check the rate of volumes and the mean,variance and standart deviation of the close price\n",
    "\n",
    "### As we can notice, the close price is the key to a good trader. We want to build serveral machine learning algorithms that can accurately predict this column."
   ]
  },
  {
   "cell_type": "code",
   "execution_count": 33,
   "metadata": {},
   "outputs": [],
   "source": [
    "stock_close_mean = stocks_data.groupby(['ticker']).agg(Volume_of_trades=('volume','sum'), Count_Ticker=('ticker','count'),Mean_close =('close', 'mean'))\n",
    "stock_close_var = stocks_data.groupby(['ticker']).agg(Var_close =('close', 'var'))\n",
    "stock_close_std = stocks_data.groupby(['ticker']).agg(Std_close =('close', 'std'))\n",
    "\n",
    "stocks_close = stock_close_mean.join(stock_close_var, how = 'left', lsuffix = 'ticker').join(stock_close_std, how = 'left', lsuffix = 'ticker')"
   ]
  },
  {
   "cell_type": "code",
   "execution_count": 34,
   "metadata": {},
   "outputs": [
    {
     "data": {
      "text/html": [
       "<div>\n",
       "<style scoped>\n",
       "    .dataframe tbody tr th:only-of-type {\n",
       "        vertical-align: middle;\n",
       "    }\n",
       "\n",
       "    .dataframe tbody tr th {\n",
       "        vertical-align: top;\n",
       "    }\n",
       "\n",
       "    .dataframe thead th {\n",
       "        text-align: right;\n",
       "    }\n",
       "</style>\n",
       "<table border=\"1\" class=\"dataframe\">\n",
       "  <thead>\n",
       "    <tr style=\"text-align: right;\">\n",
       "      <th></th>\n",
       "      <th>Volume_of_trades</th>\n",
       "      <th>Count_Ticker</th>\n",
       "      <th>Mean_close</th>\n",
       "      <th>Var_close</th>\n",
       "      <th>Std_close</th>\n",
       "    </tr>\n",
       "    <tr>\n",
       "      <th>ticker</th>\n",
       "      <th></th>\n",
       "      <th></th>\n",
       "      <th></th>\n",
       "      <th></th>\n",
       "      <th></th>\n",
       "    </tr>\n",
       "  </thead>\n",
       "  <tbody>\n",
       "    <tr>\n",
       "      <th>A</th>\n",
       "      <td>464546100</td>\n",
       "      <td>251</td>\n",
       "      <td>59.329681</td>\n",
       "      <td>44.445197</td>\n",
       "      <td>6.666723</td>\n",
       "    </tr>\n",
       "    <tr>\n",
       "      <th>AA</th>\n",
       "      <td>1037609100</td>\n",
       "      <td>251</td>\n",
       "      <td>38.301673</td>\n",
       "      <td>34.927833</td>\n",
       "      <td>5.909977</td>\n",
       "    </tr>\n",
       "    <tr>\n",
       "      <th>AABA</th>\n",
       "      <td>2815709200</td>\n",
       "      <td>251</td>\n",
       "      <td>56.491833</td>\n",
       "      <td>101.423326</td>\n",
       "      <td>10.070915</td>\n",
       "    </tr>\n",
       "    <tr>\n",
       "      <th>AAL</th>\n",
       "      <td>1473598500</td>\n",
       "      <td>251</td>\n",
       "      <td>47.490717</td>\n",
       "      <td>10.017731</td>\n",
       "      <td>3.165080</td>\n",
       "    </tr>\n",
       "    <tr>\n",
       "      <th>AAME</th>\n",
       "      <td>787600</td>\n",
       "      <td>230</td>\n",
       "      <td>3.622696</td>\n",
       "      <td>0.051567</td>\n",
       "      <td>0.227085</td>\n",
       "    </tr>\n",
       "    <tr>\n",
       "      <th>...</th>\n",
       "      <td>...</td>\n",
       "      <td>...</td>\n",
       "      <td>...</td>\n",
       "      <td>...</td>\n",
       "      <td>...</td>\n",
       "    </tr>\n",
       "    <tr>\n",
       "      <th>ZTR</th>\n",
       "      <td>29426300</td>\n",
       "      <td>251</td>\n",
       "      <td>12.523506</td>\n",
       "      <td>0.546252</td>\n",
       "      <td>0.739088</td>\n",
       "    </tr>\n",
       "    <tr>\n",
       "      <th>ZTS</th>\n",
       "      <td>676774300</td>\n",
       "      <td>251</td>\n",
       "      <td>61.130040</td>\n",
       "      <td>35.818687</td>\n",
       "      <td>5.984871</td>\n",
       "    </tr>\n",
       "    <tr>\n",
       "      <th>ZUMZ</th>\n",
       "      <td>126594800</td>\n",
       "      <td>251</td>\n",
       "      <td>16.888685</td>\n",
       "      <td>9.568150</td>\n",
       "      <td>3.093243</td>\n",
       "    </tr>\n",
       "    <tr>\n",
       "      <th>ZYME</th>\n",
       "      <td>4732800</td>\n",
       "      <td>171</td>\n",
       "      <td>8.834327</td>\n",
       "      <td>3.204321</td>\n",
       "      <td>1.790062</td>\n",
       "    </tr>\n",
       "    <tr>\n",
       "      <th>ZYNE</th>\n",
       "      <td>155001200</td>\n",
       "      <td>251</td>\n",
       "      <td>15.429641</td>\n",
       "      <td>29.706499</td>\n",
       "      <td>5.450367</td>\n",
       "    </tr>\n",
       "  </tbody>\n",
       "</table>\n",
       "<p>5470 rows × 5 columns</p>\n",
       "</div>"
      ],
      "text/plain": [
       "        Volume_of_trades  Count_Ticker  Mean_close   Var_close  Std_close\n",
       "ticker                                                                   \n",
       "A              464546100           251   59.329681   44.445197   6.666723\n",
       "AA            1037609100           251   38.301673   34.927833   5.909977\n",
       "AABA          2815709200           251   56.491833  101.423326  10.070915\n",
       "AAL           1473598500           251   47.490717   10.017731   3.165080\n",
       "AAME              787600           230    3.622696    0.051567   0.227085\n",
       "...                  ...           ...         ...         ...        ...\n",
       "ZTR             29426300           251   12.523506    0.546252   0.739088\n",
       "ZTS            676774300           251   61.130040   35.818687   5.984871\n",
       "ZUMZ           126594800           251   16.888685    9.568150   3.093243\n",
       "ZYME             4732800           171    8.834327    3.204321   1.790062\n",
       "ZYNE           155001200           251   15.429641   29.706499   5.450367\n",
       "\n",
       "[5470 rows x 5 columns]"
      ]
     },
     "execution_count": 34,
     "metadata": {},
     "output_type": "execute_result"
    }
   ],
   "source": [
    "stocks_close"
   ]
  },
  {
   "cell_type": "markdown",
   "metadata": {},
   "source": [
    "## As we can see by the table, some comapanies appear more than others.\n",
    "### We will try to predict the close price for the companies how have more tickets/rows on the dataset, by other words, we are choosing the companies with more data, for more accurate predictions"
   ]
  },
  {
   "cell_type": "code",
   "execution_count": 35,
   "metadata": {},
   "outputs": [
    {
     "data": {
      "text/html": [
       "<div>\n",
       "<style scoped>\n",
       "    .dataframe tbody tr th:only-of-type {\n",
       "        vertical-align: middle;\n",
       "    }\n",
       "\n",
       "    .dataframe tbody tr th {\n",
       "        vertical-align: top;\n",
       "    }\n",
       "\n",
       "    .dataframe thead th {\n",
       "        text-align: right;\n",
       "    }\n",
       "</style>\n",
       "<table border=\"1\" class=\"dataframe\">\n",
       "  <thead>\n",
       "    <tr style=\"text-align: right;\">\n",
       "      <th></th>\n",
       "      <th>Volume_of_trades</th>\n",
       "      <th>Count_Ticker</th>\n",
       "      <th>Mean_close</th>\n",
       "      <th>Var_close</th>\n",
       "      <th>Std_close</th>\n",
       "    </tr>\n",
       "  </thead>\n",
       "  <tbody>\n",
       "    <tr>\n",
       "      <th>count</th>\n",
       "      <td>5.470000e+03</td>\n",
       "      <td>5470.000000</td>\n",
       "      <td>5470.000000</td>\n",
       "      <td>5.467000e+03</td>\n",
       "      <td>5467.000000</td>\n",
       "    </tr>\n",
       "    <tr>\n",
       "      <th>mean</th>\n",
       "      <td>2.253134e+08</td>\n",
       "      <td>236.569287</td>\n",
       "      <td>96.913230</td>\n",
       "      <td>4.437497e+05</td>\n",
       "      <td>23.831350</td>\n",
       "    </tr>\n",
       "    <tr>\n",
       "      <th>std</th>\n",
       "      <td>6.798404e+08</td>\n",
       "      <td>46.446353</td>\n",
       "      <td>3165.150753</td>\n",
       "      <td>1.992651e+07</td>\n",
       "      <td>665.779872</td>\n",
       "    </tr>\n",
       "    <tr>\n",
       "      <th>min</th>\n",
       "      <td>5.000000e+02</td>\n",
       "      <td>1.000000</td>\n",
       "      <td>0.049289</td>\n",
       "      <td>1.379900e-05</td>\n",
       "      <td>0.003715</td>\n",
       "    </tr>\n",
       "    <tr>\n",
       "      <th>25%</th>\n",
       "      <td>1.120192e+07</td>\n",
       "      <td>251.000000</td>\n",
       "      <td>10.152162</td>\n",
       "      <td>5.370285e-01</td>\n",
       "      <td>0.732822</td>\n",
       "    </tr>\n",
       "    <tr>\n",
       "      <th>50%</th>\n",
       "      <td>4.867135e+07</td>\n",
       "      <td>251.000000</td>\n",
       "      <td>21.354761</td>\n",
       "      <td>3.159308e+00</td>\n",
       "      <td>1.777444</td>\n",
       "    </tr>\n",
       "    <tr>\n",
       "      <th>75%</th>\n",
       "      <td>1.813988e+08</td>\n",
       "      <td>251.000000</td>\n",
       "      <td>41.340090</td>\n",
       "      <td>1.613081e+01</td>\n",
       "      <td>4.016318</td>\n",
       "    </tr>\n",
       "    <tr>\n",
       "      <th>max</th>\n",
       "      <td>1.979526e+10</td>\n",
       "      <td>251.000000</td>\n",
       "      <td>228908.547009</td>\n",
       "      <td>1.047930e+09</td>\n",
       "      <td>32371.745803</td>\n",
       "    </tr>\n",
       "  </tbody>\n",
       "</table>\n",
       "</div>"
      ],
      "text/plain": [
       "       Volume_of_trades  Count_Ticker     Mean_close     Var_close  \\\n",
       "count      5.470000e+03   5470.000000    5470.000000  5.467000e+03   \n",
       "mean       2.253134e+08    236.569287      96.913230  4.437497e+05   \n",
       "std        6.798404e+08     46.446353    3165.150753  1.992651e+07   \n",
       "min        5.000000e+02      1.000000       0.049289  1.379900e-05   \n",
       "25%        1.120192e+07    251.000000      10.152162  5.370285e-01   \n",
       "50%        4.867135e+07    251.000000      21.354761  3.159308e+00   \n",
       "75%        1.813988e+08    251.000000      41.340090  1.613081e+01   \n",
       "max        1.979526e+10    251.000000  228908.547009  1.047930e+09   \n",
       "\n",
       "          Std_close  \n",
       "count   5467.000000  \n",
       "mean      23.831350  \n",
       "std      665.779872  \n",
       "min        0.003715  \n",
       "25%        0.732822  \n",
       "50%        1.777444  \n",
       "75%        4.016318  \n",
       "max    32371.745803  "
      ]
     },
     "execution_count": 35,
     "metadata": {},
     "output_type": "execute_result"
    }
   ],
   "source": [
    "stocks_close.describe()"
   ]
  },
  {
   "cell_type": "code",
   "execution_count": 36,
   "metadata": {},
   "outputs": [
    {
     "data": {
      "text/plain": [
       "ticker\n",
       "A       251\n",
       "NM      251\n",
       "NMZ     251\n",
       "NMY     251\n",
       "NMR     251\n",
       "NMM     251\n",
       "NMIH    251\n",
       "NMI     251\n",
       "NMFC    251\n",
       "NLY     251\n",
       "Name: , dtype: int64"
      ]
     },
     "execution_count": 36,
     "metadata": {},
     "output_type": "execute_result"
    }
   ],
   "source": [
    "stocks_close_top_10 = stocks_close['Count_Ticker'].sort_values(ascending = False)[:10].copy()\n",
    "stocks_close_top_10 = stocks_close_top_10.rename('')\n",
    "stocks_close_top_10"
   ]
  },
  {
   "cell_type": "markdown",
   "metadata": {},
   "source": [
    "----"
   ]
  },
  {
   "cell_type": "markdown",
   "metadata": {},
   "source": [
    "## We want to predict the stock prices to a specific company.\n",
    "### So the first step it's to make a dataframe with a unique ticker.\n",
    "\n",
    "# Let's start by making an algorithm to predict the ajudsted close price of the NLY\n"
   ]
  },
  {
   "cell_type": "code",
   "execution_count": 37,
   "metadata": {},
   "outputs": [
    {
     "data": {
      "text/html": [
       "<div>\n",
       "<style scoped>\n",
       "    .dataframe tbody tr th:only-of-type {\n",
       "        vertical-align: middle;\n",
       "    }\n",
       "\n",
       "    .dataframe tbody tr th {\n",
       "        vertical-align: top;\n",
       "    }\n",
       "\n",
       "    .dataframe thead th {\n",
       "        text-align: right;\n",
       "    }\n",
       "</style>\n",
       "<table border=\"1\" class=\"dataframe\">\n",
       "  <thead>\n",
       "    <tr style=\"text-align: right;\">\n",
       "      <th></th>\n",
       "      <th>open</th>\n",
       "      <th>close</th>\n",
       "      <th>adj_close</th>\n",
       "      <th>low</th>\n",
       "      <th>high</th>\n",
       "      <th>volume</th>\n",
       "      <th>date</th>\n",
       "    </tr>\n",
       "  </thead>\n",
       "  <tbody>\n",
       "    <tr>\n",
       "      <th>16261617</th>\n",
       "      <td>11.12</td>\n",
       "      <td>11.11</td>\n",
       "      <td>9.740015</td>\n",
       "      <td>11.07</td>\n",
       "      <td>11.15</td>\n",
       "      <td>4545100</td>\n",
       "      <td>2017-03-30</td>\n",
       "    </tr>\n",
       "    <tr>\n",
       "      <th>16261635</th>\n",
       "      <td>11.11</td>\n",
       "      <td>11.11</td>\n",
       "      <td>9.740015</td>\n",
       "      <td>11.08</td>\n",
       "      <td>11.18</td>\n",
       "      <td>6257800</td>\n",
       "      <td>2017-03-31</td>\n",
       "    </tr>\n",
       "    <tr>\n",
       "      <th>16261637</th>\n",
       "      <td>11.11</td>\n",
       "      <td>11.12</td>\n",
       "      <td>9.748782</td>\n",
       "      <td>11.09</td>\n",
       "      <td>11.18</td>\n",
       "      <td>7669500</td>\n",
       "      <td>2017-04-03</td>\n",
       "    </tr>\n",
       "    <tr>\n",
       "      <th>16261638</th>\n",
       "      <td>11.10</td>\n",
       "      <td>11.22</td>\n",
       "      <td>9.836451</td>\n",
       "      <td>11.10</td>\n",
       "      <td>11.24</td>\n",
       "      <td>6362400</td>\n",
       "      <td>2017-04-04</td>\n",
       "    </tr>\n",
       "    <tr>\n",
       "      <th>16261639</th>\n",
       "      <td>11.25</td>\n",
       "      <td>11.31</td>\n",
       "      <td>9.915353</td>\n",
       "      <td>11.20</td>\n",
       "      <td>11.32</td>\n",
       "      <td>11393900</td>\n",
       "      <td>2017-04-05</td>\n",
       "    </tr>\n",
       "    <tr>\n",
       "      <th>16261640</th>\n",
       "      <td>11.29</td>\n",
       "      <td>11.31</td>\n",
       "      <td>9.915353</td>\n",
       "      <td>11.25</td>\n",
       "      <td>11.34</td>\n",
       "      <td>8313600</td>\n",
       "      <td>2017-04-06</td>\n",
       "    </tr>\n",
       "    <tr>\n",
       "      <th>16261641</th>\n",
       "      <td>11.33</td>\n",
       "      <td>11.31</td>\n",
       "      <td>9.915353</td>\n",
       "      <td>11.25</td>\n",
       "      <td>11.33</td>\n",
       "      <td>6871200</td>\n",
       "      <td>2017-04-07</td>\n",
       "    </tr>\n",
       "    <tr>\n",
       "      <th>16261669</th>\n",
       "      <td>11.30</td>\n",
       "      <td>11.39</td>\n",
       "      <td>9.985489</td>\n",
       "      <td>11.28</td>\n",
       "      <td>11.40</td>\n",
       "      <td>6183800</td>\n",
       "      <td>2017-04-10</td>\n",
       "    </tr>\n",
       "    <tr>\n",
       "      <th>16261671</th>\n",
       "      <td>11.38</td>\n",
       "      <td>11.49</td>\n",
       "      <td>10.073156</td>\n",
       "      <td>11.36</td>\n",
       "      <td>11.49</td>\n",
       "      <td>8027900</td>\n",
       "      <td>2017-04-11</td>\n",
       "    </tr>\n",
       "    <tr>\n",
       "      <th>16261691</th>\n",
       "      <td>11.47</td>\n",
       "      <td>11.53</td>\n",
       "      <td>10.108225</td>\n",
       "      <td>11.47</td>\n",
       "      <td>11.56</td>\n",
       "      <td>7193400</td>\n",
       "      <td>2017-04-12</td>\n",
       "    </tr>\n",
       "    <tr>\n",
       "      <th>16261693</th>\n",
       "      <td>11.54</td>\n",
       "      <td>11.63</td>\n",
       "      <td>10.195892</td>\n",
       "      <td>11.54</td>\n",
       "      <td>11.67</td>\n",
       "      <td>8898500</td>\n",
       "      <td>2017-04-13</td>\n",
       "    </tr>\n",
       "    <tr>\n",
       "      <th>16261694</th>\n",
       "      <td>11.63</td>\n",
       "      <td>11.73</td>\n",
       "      <td>10.283562</td>\n",
       "      <td>11.63</td>\n",
       "      <td>11.75</td>\n",
       "      <td>8559300</td>\n",
       "      <td>2017-04-17</td>\n",
       "    </tr>\n",
       "    <tr>\n",
       "      <th>16261733</th>\n",
       "      <td>11.74</td>\n",
       "      <td>11.76</td>\n",
       "      <td>10.309863</td>\n",
       "      <td>11.70</td>\n",
       "      <td>11.79</td>\n",
       "      <td>6467600</td>\n",
       "      <td>2017-04-18</td>\n",
       "    </tr>\n",
       "    <tr>\n",
       "      <th>16261735</th>\n",
       "      <td>11.77</td>\n",
       "      <td>11.72</td>\n",
       "      <td>10.274795</td>\n",
       "      <td>11.67</td>\n",
       "      <td>11.79</td>\n",
       "      <td>5398600</td>\n",
       "      <td>2017-04-19</td>\n",
       "    </tr>\n",
       "    <tr>\n",
       "      <th>16261736</th>\n",
       "      <td>11.74</td>\n",
       "      <td>11.70</td>\n",
       "      <td>10.257261</td>\n",
       "      <td>11.59</td>\n",
       "      <td>11.78</td>\n",
       "      <td>7142800</td>\n",
       "      <td>2017-04-20</td>\n",
       "    </tr>\n",
       "    <tr>\n",
       "      <th>16261737</th>\n",
       "      <td>11.72</td>\n",
       "      <td>11.76</td>\n",
       "      <td>10.309863</td>\n",
       "      <td>11.68</td>\n",
       "      <td>11.80</td>\n",
       "      <td>6343500</td>\n",
       "      <td>2017-04-21</td>\n",
       "    </tr>\n",
       "    <tr>\n",
       "      <th>16261738</th>\n",
       "      <td>11.78</td>\n",
       "      <td>11.76</td>\n",
       "      <td>10.309863</td>\n",
       "      <td>11.64</td>\n",
       "      <td>11.80</td>\n",
       "      <td>8696500</td>\n",
       "      <td>2017-04-24</td>\n",
       "    </tr>\n",
       "    <tr>\n",
       "      <th>16261739</th>\n",
       "      <td>11.76</td>\n",
       "      <td>11.75</td>\n",
       "      <td>10.301096</td>\n",
       "      <td>11.71</td>\n",
       "      <td>11.80</td>\n",
       "      <td>7103500</td>\n",
       "      <td>2017-04-25</td>\n",
       "    </tr>\n",
       "    <tr>\n",
       "      <th>16261740</th>\n",
       "      <td>11.76</td>\n",
       "      <td>11.75</td>\n",
       "      <td>10.301096</td>\n",
       "      <td>11.72</td>\n",
       "      <td>11.80</td>\n",
       "      <td>8275600</td>\n",
       "      <td>2017-04-26</td>\n",
       "    </tr>\n",
       "    <tr>\n",
       "      <th>16261758</th>\n",
       "      <td>11.78</td>\n",
       "      <td>11.99</td>\n",
       "      <td>10.511501</td>\n",
       "      <td>11.75</td>\n",
       "      <td>12.07</td>\n",
       "      <td>12848200</td>\n",
       "      <td>2017-04-27</td>\n",
       "    </tr>\n",
       "  </tbody>\n",
       "</table>\n",
       "</div>"
      ],
      "text/plain": [
       "           open  close  adj_close    low   high    volume        date\n",
       "16261617  11.12  11.11   9.740015  11.07  11.15   4545100  2017-03-30\n",
       "16261635  11.11  11.11   9.740015  11.08  11.18   6257800  2017-03-31\n",
       "16261637  11.11  11.12   9.748782  11.09  11.18   7669500  2017-04-03\n",
       "16261638  11.10  11.22   9.836451  11.10  11.24   6362400  2017-04-04\n",
       "16261639  11.25  11.31   9.915353  11.20  11.32  11393900  2017-04-05\n",
       "16261640  11.29  11.31   9.915353  11.25  11.34   8313600  2017-04-06\n",
       "16261641  11.33  11.31   9.915353  11.25  11.33   6871200  2017-04-07\n",
       "16261669  11.30  11.39   9.985489  11.28  11.40   6183800  2017-04-10\n",
       "16261671  11.38  11.49  10.073156  11.36  11.49   8027900  2017-04-11\n",
       "16261691  11.47  11.53  10.108225  11.47  11.56   7193400  2017-04-12\n",
       "16261693  11.54  11.63  10.195892  11.54  11.67   8898500  2017-04-13\n",
       "16261694  11.63  11.73  10.283562  11.63  11.75   8559300  2017-04-17\n",
       "16261733  11.74  11.76  10.309863  11.70  11.79   6467600  2017-04-18\n",
       "16261735  11.77  11.72  10.274795  11.67  11.79   5398600  2017-04-19\n",
       "16261736  11.74  11.70  10.257261  11.59  11.78   7142800  2017-04-20\n",
       "16261737  11.72  11.76  10.309863  11.68  11.80   6343500  2017-04-21\n",
       "16261738  11.78  11.76  10.309863  11.64  11.80   8696500  2017-04-24\n",
       "16261739  11.76  11.75  10.301096  11.71  11.80   7103500  2017-04-25\n",
       "16261740  11.76  11.75  10.301096  11.72  11.80   8275600  2017-04-26\n",
       "16261758  11.78  11.99  10.511501  11.75  12.07  12848200  2017-04-27"
      ]
     },
     "execution_count": 37,
     "metadata": {},
     "output_type": "execute_result"
    }
   ],
   "source": [
    "def companny_stocks(ticker):\n",
    "    return stocks_data[stocks_data[\"ticker\"] == ticker]\n",
    "\n",
    "df = companny_stocks(\"NLY\")\n",
    "df = df.drop([\"ticker\"],axis=1)\n",
    "df[60:80]"
   ]
  },
  {
   "cell_type": "markdown",
   "metadata": {},
   "source": [
    "> Data corresponding to the company with the NLY ticker\n",
    "> All rows are ordered by date, we can see that there are some hops, for example from 2017-04-26 to 2017-04-27, as we can see in the last two rows of this dataset, but these hops are derived from the wekends, where the trading market is closed and sometimes holidays."
   ]
  },
  {
   "cell_type": "code",
   "execution_count": 38,
   "metadata": {},
   "outputs": [],
   "source": [
    "df = df.drop([\"date\"],axis=1)"
   ]
  },
  {
   "cell_type": "markdown",
   "metadata": {},
   "source": [
    "### This company have the NYSE Exhange ad is Sector is CAPITAL GOODS"
   ]
  },
  {
   "cell_type": "code",
   "execution_count": 39,
   "metadata": {},
   "outputs": [
    {
     "data": {
      "text/html": [
       "<div>\n",
       "<style scoped>\n",
       "    .dataframe tbody tr th:only-of-type {\n",
       "        vertical-align: middle;\n",
       "    }\n",
       "\n",
       "    .dataframe tbody tr th {\n",
       "        vertical-align: top;\n",
       "    }\n",
       "\n",
       "    .dataframe thead th {\n",
       "        text-align: right;\n",
       "    }\n",
       "</style>\n",
       "<table border=\"1\" class=\"dataframe\">\n",
       "  <thead>\n",
       "    <tr style=\"text-align: right;\">\n",
       "      <th></th>\n",
       "      <th>ticker</th>\n",
       "      <th>open</th>\n",
       "      <th>close</th>\n",
       "      <th>adj_close</th>\n",
       "      <th>low</th>\n",
       "      <th>high</th>\n",
       "      <th>volume</th>\n",
       "      <th>date</th>\n",
       "    </tr>\n",
       "  </thead>\n",
       "  <tbody>\n",
       "    <tr>\n",
       "      <th>16260827</th>\n",
       "      <td>NLY</td>\n",
       "      <td>10.02</td>\n",
       "      <td>10.08</td>\n",
       "      <td>8.602621</td>\n",
       "      <td>9.95</td>\n",
       "      <td>10.08</td>\n",
       "      <td>7868200</td>\n",
       "      <td>2017-01-03</td>\n",
       "    </tr>\n",
       "    <tr>\n",
       "      <th>16260829</th>\n",
       "      <td>NLY</td>\n",
       "      <td>10.09</td>\n",
       "      <td>10.11</td>\n",
       "      <td>8.628224</td>\n",
       "      <td>10.08</td>\n",
       "      <td>10.17</td>\n",
       "      <td>7589900</td>\n",
       "      <td>2017-01-04</td>\n",
       "    </tr>\n",
       "    <tr>\n",
       "      <th>16260847</th>\n",
       "      <td>NLY</td>\n",
       "      <td>10.12</td>\n",
       "      <td>10.22</td>\n",
       "      <td>8.722102</td>\n",
       "      <td>10.09</td>\n",
       "      <td>10.25</td>\n",
       "      <td>8130500</td>\n",
       "      <td>2017-01-05</td>\n",
       "    </tr>\n",
       "    <tr>\n",
       "      <th>16260849</th>\n",
       "      <td>NLY</td>\n",
       "      <td>10.20</td>\n",
       "      <td>10.27</td>\n",
       "      <td>8.764772</td>\n",
       "      <td>10.18</td>\n",
       "      <td>10.27</td>\n",
       "      <td>5738000</td>\n",
       "      <td>2017-01-06</td>\n",
       "    </tr>\n",
       "    <tr>\n",
       "      <th>16260871</th>\n",
       "      <td>NLY</td>\n",
       "      <td>10.26</td>\n",
       "      <td>10.22</td>\n",
       "      <td>8.722102</td>\n",
       "      <td>10.22</td>\n",
       "      <td>10.29</td>\n",
       "      <td>7013200</td>\n",
       "      <td>2017-01-09</td>\n",
       "    </tr>\n",
       "    <tr>\n",
       "      <th>...</th>\n",
       "      <td>...</td>\n",
       "      <td>...</td>\n",
       "      <td>...</td>\n",
       "      <td>...</td>\n",
       "      <td>...</td>\n",
       "      <td>...</td>\n",
       "      <td>...</td>\n",
       "      <td>...</td>\n",
       "    </tr>\n",
       "    <tr>\n",
       "      <th>16263571</th>\n",
       "      <td>NLY</td>\n",
       "      <td>12.07</td>\n",
       "      <td>12.05</td>\n",
       "      <td>11.093340</td>\n",
       "      <td>12.00</td>\n",
       "      <td>12.07</td>\n",
       "      <td>4462500</td>\n",
       "      <td>2017-12-22</td>\n",
       "    </tr>\n",
       "    <tr>\n",
       "      <th>16263589</th>\n",
       "      <td>NLY</td>\n",
       "      <td>12.06</td>\n",
       "      <td>12.08</td>\n",
       "      <td>11.120958</td>\n",
       "      <td>12.03</td>\n",
       "      <td>12.11</td>\n",
       "      <td>3769500</td>\n",
       "      <td>2017-12-26</td>\n",
       "    </tr>\n",
       "    <tr>\n",
       "      <th>16263591</th>\n",
       "      <td>NLY</td>\n",
       "      <td>12.09</td>\n",
       "      <td>12.10</td>\n",
       "      <td>11.139371</td>\n",
       "      <td>12.03</td>\n",
       "      <td>12.13</td>\n",
       "      <td>6169800</td>\n",
       "      <td>2017-12-27</td>\n",
       "    </tr>\n",
       "    <tr>\n",
       "      <th>16263611</th>\n",
       "      <td>NLY</td>\n",
       "      <td>11.81</td>\n",
       "      <td>12.02</td>\n",
       "      <td>11.347054</td>\n",
       "      <td>11.77</td>\n",
       "      <td>12.02</td>\n",
       "      <td>8490300</td>\n",
       "      <td>2017-12-28</td>\n",
       "    </tr>\n",
       "    <tr>\n",
       "      <th>16263613</th>\n",
       "      <td>NLY</td>\n",
       "      <td>11.99</td>\n",
       "      <td>11.89</td>\n",
       "      <td>11.224332</td>\n",
       "      <td>11.85</td>\n",
       "      <td>12.00</td>\n",
       "      <td>5920100</td>\n",
       "      <td>2017-12-29</td>\n",
       "    </tr>\n",
       "  </tbody>\n",
       "</table>\n",
       "<p>251 rows × 8 columns</p>\n",
       "</div>"
      ],
      "text/plain": [
       "         ticker   open  close  adj_close    low   high   volume        date\n",
       "16260827    NLY  10.02  10.08   8.602621   9.95  10.08  7868200  2017-01-03\n",
       "16260829    NLY  10.09  10.11   8.628224  10.08  10.17  7589900  2017-01-04\n",
       "16260847    NLY  10.12  10.22   8.722102  10.09  10.25  8130500  2017-01-05\n",
       "16260849    NLY  10.20  10.27   8.764772  10.18  10.27  5738000  2017-01-06\n",
       "16260871    NLY  10.26  10.22   8.722102  10.22  10.29  7013200  2017-01-09\n",
       "...         ...    ...    ...        ...    ...    ...      ...         ...\n",
       "16263571    NLY  12.07  12.05  11.093340  12.00  12.07  4462500  2017-12-22\n",
       "16263589    NLY  12.06  12.08  11.120958  12.03  12.11  3769500  2017-12-26\n",
       "16263591    NLY  12.09  12.10  11.139371  12.03  12.13  6169800  2017-12-27\n",
       "16263611    NLY  11.81  12.02  11.347054  11.77  12.02  8490300  2017-12-28\n",
       "16263613    NLY  11.99  11.89  11.224332  11.85  12.00  5920100  2017-12-29\n",
       "\n",
       "[251 rows x 8 columns]"
      ]
     },
     "execution_count": 39,
     "metadata": {},
     "output_type": "execute_result"
    }
   ],
   "source": [
    "stocks_data[stocks_data['ticker'] == 'NLY']"
   ]
  },
  {
   "cell_type": "markdown",
   "metadata": {},
   "source": [
    "### Some thoughs:\n",
    "\n",
    "1. Make a short explanation about the columns -> Done\n",
    "\n",
    "2. Check whats top10 tickers how have more volumes/trades on the market and take some concluisions about their sector/industry so we can have the first part of the dataset exploration consitent\n",
    "\n",
    "3. Explore the Volume and Bets Column\n",
    "\n",
    "4. Separate the stocks by ticker\n",
    "\n",
    "4. Check if the date is consistent\n"
   ]
  },
  {
   "cell_type": "markdown",
   "metadata": {},
   "source": [
    "---"
   ]
  },
  {
   "cell_type": "markdown",
   "metadata": {},
   "source": [
    "# Machine Learning algorithms"
   ]
  },
  {
   "cell_type": "markdown",
   "metadata": {},
   "source": [
    "---"
   ]
  },
  {
   "cell_type": "markdown",
   "metadata": {},
   "source": [
    "First lets prepare the small dataset corresponding to the comapny NLY:\n",
    "\n",
    "The adj_close price column it's the label column and the rest of the features are independent variables\n",
    "\n",
    "Lets normalize all the variables, and then make a x_train and y_train"
   ]
  },
  {
   "cell_type": "code",
   "execution_count": 40,
   "metadata": {},
   "outputs": [
    {
     "data": {
      "image/png": "[encoded data removed]",
      "text/plain": [
       "<Figure size 5040x216 with 6 Axes>"
      ]
     },
     "metadata": {
      "needs_background": "light"
     },
     "output_type": "display_data"
    }
   ],
   "source": [
    "def show_distribution(df):\n",
    "    plt.figure(figsize=(70, 3))\n",
    "    i = 0\n",
    "    \n",
    "    for feature in df:\n",
    "        plt.subplot(1, 20, i+1)\n",
    "        plt.plot(df[feature])\n",
    "        plt.xlabel(feature)\n",
    "        i += 1\n",
    "    plt.show()\n",
    "\n",
    "show_distribution(df)"
   ]
  },
  {
   "cell_type": "markdown",
   "metadata": {},
   "source": [
    "As we can see, all these distributions are very similar, but none of them is close to a normal distribution, so we will normalize the data using the min-max normalizer."
   ]
  },
  {
   "cell_type": "markdown",
   "metadata": {},
   "source": [
    "# Normalizing and splitting the data"
   ]
  },
  {
   "cell_type": "code",
   "execution_count": 41,
   "metadata": {},
   "outputs": [],
   "source": [
    "from sklearn.preprocessing import MinMaxScaler\n",
    "\n",
    "scaler = MinMaxScaler()\n",
    "scaler.fit(df) \n",
    "\n",
    "\n",
    "df_normalized = scaler.transform(df)\n",
    "\n",
    "x = df_normalized[:,[0,1,3,4,5]]\n",
    "y = df_normalized[:,[2]]"
   ]
  },
  {
   "cell_type": "code",
   "execution_count": 42,
   "metadata": {},
   "outputs": [
    {
     "data": {
      "image/png": "[encoded data removed]",
      "text/plain": [
       "<Figure size 432x288 with 1 Axes>"
      ]
     },
     "metadata": {
      "needs_background": "light"
     },
     "output_type": "display_data"
    }
   ],
   "source": [
    "plt.plot(df_normalized[:,5])\n",
    "plt.xlabel(\"volume\")\n",
    "plt.show()"
   ]
  },
  {
   "cell_type": "markdown",
   "metadata": {},
   "source": [
    "# Spliting the data"
   ]
  },
  {
   "cell_type": "code",
   "execution_count": 43,
   "metadata": {},
   "outputs": [],
   "source": [
    "from sklearn.model_selection import train_test_split\n",
    "\n",
    "x_train, x_test, y_train, y_test = train_test_split(\n",
    "      x, y, test_size = 0.2, random_state=2\n",
    "    )"
   ]
  },
  {
   "cell_type": "code",
   "execution_count": 44,
   "metadata": {},
   "outputs": [],
   "source": [
    "# Feature Scaling - Standardisation\n",
    "from sklearn.preprocessing import StandardScaler\n",
    "sc = StandardScaler()\n",
    "\n",
    "x_train= sc.fit_transform(x_train)\n",
    "x_test = sc.transform(x_test)"
   ]
  },
  {
   "cell_type": "code",
   "execution_count": 45,
   "metadata": {},
   "outputs": [
    {
     "name": "stdout",
     "output_type": "stream",
     "text": [
      "[[ 9.93012915e-01  9.64850204e-01  9.43679440e-01  8.83989517e-01\n",
      "  -5.36498693e-01]\n",
      " [ 1.06660790e+00  1.03837264e+00  1.03252482e+00  9.86985304e-01\n",
      "  -2.81023509e-02]\n",
      " [ 1.06660790e+00  9.79553849e-01  1.00290922e+00  9.57557535e-01\n",
      "  -1.71437761e-01]\n",
      " [ 6.39758661e-01  6.70754866e-01  5.14263160e-01  6.78000750e-01\n",
      "  -1.94267009e-02]\n",
      " [-5.81913357e-01 -5.05620873e-01 -5.51874347e-01 -5.87365230e-01\n",
      "   4.22217595e-01]\n",
      " [-9.79325447e-01 -1.27026651e+00 -1.17378778e+00 -1.08762607e+00\n",
      "  -1.46550202e-01]\n",
      " [-2.25934183e-02  1.11975689e-01  8.48468796e-02  4.53177602e-02\n",
      "  -3.91707223e-02]\n",
      " [-2.17155891e+00 -2.16725336e+00 -2.16588770e+00 -2.17642824e+00\n",
      "  -2.80314726e-01]\n",
      " [-1.61223897e+00 -1.57906549e+00 -1.54397427e+00 -1.63202716e+00\n",
      "  -8.31405683e-01]\n",
      " [-2.23043462e+00 -2.19666345e+00 -2.19550189e+00 -2.26470874e+00\n",
      "  -4.90727722e-01]\n",
      " [-1.58280182e+00 -1.75552185e+00 -1.72166362e+00 -1.67616741e+00\n",
      "  -3.84927113e-01]\n",
      " [ 2.12909418e-01  1.56090831e-01  2.03306446e-01  1.63026028e-01\n",
      "  -5.44865080e-01]\n",
      " [-2.05380749e+00 -2.06432083e+00 -2.06223452e+00 -2.14700048e+00\n",
      "  -6.23629564e-01]\n",
      " [-5.23037648e-01 -5.05620873e-01 -4.77836766e-01 -5.57937462e-01\n",
      "  -7.91633525e-02]\n",
      " [-2.05380749e+00 -2.18195841e+00 -2.26953947e+00 -2.14700048e+00\n",
      "  -1.98824574e-02]\n",
      " [ 9.34137206e-01  9.94258896e-01  1.04733121e+00  9.86985304e-01\n",
      "  -2.87704491e-01]\n",
      " [-2.24515390e+00 -2.10843457e+00 -2.19550189e+00 -2.16171436e+00\n",
      "  -1.08966570e-01]\n",
      " [-5.67194079e-01 -4.90917228e-01 -4.77836766e-01 -4.99083328e-01\n",
      "  -1.42187961e-01]\n",
      " [ 7.42790801e-01  7.00164961e-01  8.25219874e-01  6.92713232e-01\n",
      "   1.04354388e+00]\n",
      " [ 7.72229357e-01  7.29573653e-01  7.21568107e-01  7.22141000e-01\n",
      "  -3.51819661e-01]\n",
      " [ 1.09604646e+00  1.18542030e+00  1.18059857e+00  1.17826159e+00\n",
      "  -1.83368814e-01]\n",
      " [ 6.69197217e-01  7.00164961e-01  7.51182292e-01  6.78000750e-01\n",
      "  -5.90124057e-02]\n",
      " [ 1.06660790e+00  1.00896394e+00  1.03252482e+00  1.03112555e+00\n",
      "  -5.36563801e-01]\n",
      " [-2.87534811e-01 -1.67413199e-01 -1.96495649e-01 -1.45958525e-01\n",
      "   6.96411349e-02]\n",
      " [ 1.09604646e+00  9.35440109e-01  9.14063843e-01  1.00169778e+00\n",
      "   8.89042437e-01]\n",
      " [ 8.01666510e-01  6.11936080e-01  7.06760308e-01  6.92713232e-01\n",
      "  -6.76513591e-01]\n",
      " [ 9.51580000e-02  2.14909618e-01  4.04248953e-02  1.18885778e-01\n",
      "   1.85826481e-01]\n",
      " [ 7.13353648e-01  7.44278701e-01  7.95604276e-01  7.07427116e-01\n",
      "  -4.80294154e-01]\n",
      " [ 1.02245147e+00  1.06778273e+00  1.12136879e+00  1.04583944e+00\n",
      "  -2.41852135e-01]\n",
      " [-2.20099746e+00 -2.07902588e+00 -2.12146430e+00 -2.10286023e+00\n",
      "  -4.79089655e-01]\n",
      " [ 8.75261497e-01  8.17802535e-01  8.69641858e-01  8.25135383e-01\n",
      "  -1.45166656e-01]\n",
      " [ 6.10321508e-01  6.26641127e-01  6.77144710e-01  5.75004964e-01\n",
      "  -8.18807272e-01]\n",
      " [-1.24426544e+00 -1.35849539e+00 -1.39589911e+00 -1.17590657e+00\n",
      "  -1.47226431e-02]\n",
      " [ 1.09604646e+00  1.02366899e+00  1.07694681e+00  1.08997969e+00\n",
      "   1.21922913e-01]\n",
      " [ 1.02245147e+00  1.02366899e+00  1.04733121e+00  9.86985304e-01\n",
      "  -6.36537238e-01]\n",
      " [ 6.25039382e-01  5.82527387e-01  6.32722726e-01  5.16150830e-01\n",
      "  -7.06007546e-01]\n",
      " [ 2.71785127e-01  2.59023358e-01  3.36573811e-01  2.95448179e-01\n",
      "   1.52784137e-01]\n",
      " [-1.20010900e+00 -1.25556146e+00 -1.18859416e+00 -1.29361484e+00\n",
      "  -6.16581616e-01]\n",
      " [-1.00876260e+00 -9.61467524e-01 -9.66482829e-01 -1.05819830e+00\n",
      "  -3.89500954e-01]\n",
      " [ 1.12548361e+00  1.17071526e+00  1.19540637e+00  1.17826159e+00\n",
      "  -6.19527756e-01]\n",
      " [ 5.66163673e-01  6.85459914e-01  6.47530525e-01  7.22141000e-01\n",
      "   1.52442319e-01]\n",
      " [-2.13939824e-01 -6.44806719e-02 -3.44569401e-01 -8.71043916e-02\n",
      "   7.63318759e-01]\n",
      " [-7.43821206e-01 -6.23259849e-01 -6.85141712e-01 -7.19787382e-01\n",
      "  -1.23274068e-01]\n",
      " [ 1.39314431e-01  2.14909618e-01  1.88498647e-01  1.48312143e-01\n",
      "  -6.02713597e-01]\n",
      " [ 8.01666510e-01  1.02366899e+00  9.14063843e-01  9.42843651e-01\n",
      "   4.20589894e-01]\n",
      " [ 1.98190140e-01  4.94298506e-01  2.62536229e-01  5.16150830e-01\n",
      "   6.58934250e-01]\n",
      " [ 7.72229357e-01  9.35440109e-01  8.84449657e-01  8.98703401e-01\n",
      "  -5.28271393e-02]\n",
      " [ 5.80882951e-01  2.73728405e-01  2.18114245e-01  4.86724465e-01\n",
      "   7.64148887e-01]\n",
      " [ 8.16385788e-01  8.61916275e-01  8.69641858e-01  7.80995134e-01\n",
      "   9.82749222e-01]\n",
      " [ 1.06660790e+00  1.03837264e+00  1.15098439e+00  1.07526580e+00\n",
      "   9.45377192e-01]\n",
      " [ 1.06660790e+00  9.06031417e-01  9.28871641e-01  1.07526580e+00\n",
      "   3.79311379e-01]\n",
      " [-8.32135472e-01 -6.08554802e-01 -8.92445247e-01 -6.46219364e-01\n",
      "   8.79162287e-01]\n",
      " [ 1.41986216e+00  1.47951424e+00  1.46194110e+00  1.48724474e+00\n",
      "  -1.74335070e-01]\n",
      " [-2.28931033e+00 -2.27018729e+00 -2.21030969e+00 -2.27942263e+00\n",
      "  -1.96960123e-01]\n",
      " [-2.06852677e+00 -2.25548224e+00 -2.21030969e+00 -2.13228659e+00\n",
      "  -2.07051873e-01]\n",
      " [ 3.45380115e-01  3.76660932e-01  3.95803594e-01  4.27870331e-01\n",
      "  -2.47353767e-01]\n",
      " [ 1.11076433e+00  1.12660152e+00  1.12136879e+00  1.03112555e+00\n",
      "  -6.45017564e-01]\n",
      " [-2.58096255e-01 -2.40937033e-01 -2.40917633e-01 -2.93093158e-01\n",
      "   3.67038508e-01]\n",
      " [-2.14212176e+00 -2.21136850e+00 -2.21030969e+00 -2.20585461e+00\n",
      "  -6.62515357e-01]\n",
      " [ 1.08132718e+00  1.14130656e+00  1.16579077e+00  1.04583944e+00\n",
      "  -5.54029040e-01]\n",
      " [-3.61129799e-01 -2.70345725e-01 -3.14955215e-01 -3.51948695e-01\n",
      "  -1.18390963e-01]\n",
      " [ 2.57065849e-01  3.61955884e-01  2.77344028e-01  3.24874545e-01\n",
      "   4.70381288e-01]\n",
      " [ 8.01666510e-01  8.61916275e-01  6.62338324e-01  7.80995134e-01\n",
      "  -7.16922018e-02]\n",
      " [ 4.63131533e-01  2.14909618e-01  2.18114245e-01  3.83728678e-01\n",
      "   6.78434116e-01]\n",
      " [ 8.01666510e-01  9.94258896e-01  8.84449657e-01  9.42843651e-01\n",
      "  -7.62651564e-01]\n",
      " [ 5.07287964e-01  5.09003553e-01  4.40225578e-01  4.42584215e-01\n",
      "  -6.02453165e-01]\n",
      " [-8.14691274e-02 -1.38003104e-01 -1.52072253e-01 -4.29641421e-02\n",
      "   1.79380782e-01]\n",
      " [ 9.51580000e-02  1.70795878e-01  1.58884461e-01  1.18885778e-01\n",
      "  -4.54397420e-01]\n",
      " [-5.81913357e-01 -6.08554802e-01 -5.66682146e-01 -5.57937462e-01\n",
      "   1.18325692e-01]\n",
      " [ 9.78295041e-01  9.79553849e-01  9.73293626e-01  9.72271419e-01\n",
      "  -4.16341755e-01]\n",
      " [-2.06852677e+00 -2.00550204e+00 -1.98819835e+00 -2.05871998e+00\n",
      "  -5.88275883e-01]\n",
      " [ 1.03717075e+00  1.00896394e+00  1.06213901e+00  1.01641167e+00\n",
      "   2.35682983e-01]\n",
      " [ 1.25795431e+00  1.39128676e+00  1.34348012e+00  1.34011011e+00\n",
      "  -1.79129384e-02]\n",
      " [ 1.21379788e+00  1.20012535e+00  1.19540637e+00  1.11940605e+00\n",
      "  -4.26075411e-01]\n",
      " [-1.10907684e-01 -2.85050773e-01 -1.81687850e-01 -1.01818276e-01\n",
      "   5.49341178e-03]\n",
      " [ 1.08132718e+00  1.12660152e+00  1.19540637e+00  1.13411994e+00\n",
      "  -3.64987767e-01]\n",
      " [-2.58096255e-01 -3.14460867e-01 -2.55725432e-01 -3.07807042e-01\n",
      "  -3.37919088e-01]\n",
      " [ 1.68752987e-01  1.41385784e-01  2.18114245e-01  1.18885778e-01\n",
      "  -8.53486189e-02]\n",
      " [ 9.78295041e-01  9.94258896e-01  9.73293626e-01  9.13417286e-01\n",
      "  -6.54018754e-01]\n",
      " [-1.55064115e-01 -5.35030968e-01 -4.77836766e-01 -1.90098775e-01\n",
      "   5.89480220e-01]\n",
      " [ 5.95602230e-01  7.00164961e-01  6.17914927e-01  6.33859098e-01\n",
      "  -4.78422297e-01]\n",
      " [-5.52474801e-01 -6.23259849e-01 -5.37066549e-01 -5.87365230e-01\n",
      "  -5.97937025e-02]\n",
      " [ 1.00773219e+00  9.64850204e-01  1.06213901e+00  9.86985304e-01\n",
      "   9.94280756e-02]\n",
      " [-2.13939824e-01  1.11975689e-01 -1.22458067e-01  4.53177602e-02\n",
      "   1.32486697e-01]\n",
      " [ 2.71785127e-01  5.31569020e-02  4.04248953e-02  1.92453796e-01\n",
      "   5.07606825e-01]\n",
      " [ 1.09877278e-01  1.70795878e-01  1.88498647e-01  1.33599662e-01\n",
      "   9.83479320e+00]\n",
      " [ 9.04700054e-01  6.41346174e-01  7.06760308e-01  8.25135383e-01\n",
      "   3.43778652e-01]\n",
      " [ 8.31105066e-01  7.88392440e-01  8.25219874e-01  7.80995134e-01\n",
      "  -1.22281170e-01]\n",
      " [ 6.54477939e-01  6.56051222e-01  6.77144710e-01  6.04432732e-01\n",
      "  -4.28110038e-01]\n",
      " [ 8.16385788e-01  7.29573653e-01  6.62338324e-01  7.80995134e-01\n",
      "   9.57006388e-02]\n",
      " [-9.79325447e-01 -8.87943690e-01 -9.07253046e-01 -9.55203917e-01\n",
      "  -2.82837663e-01]\n",
      " [-4.20005508e-01 -4.46802086e-01 -3.29761602e-01 -3.96088945e-01\n",
      "  -5.67392471e-01]\n",
      " [-7.87979041e-01 -7.85011163e-01 -7.14755898e-01 -7.93353997e-01\n",
      "  -1.84003618e-01]\n",
      " [-2.39234247e+00 -2.31430103e+00 -2.40280683e+00 -2.41184478e+00\n",
      "  -1.51661185e-01]\n",
      " [-1.68583396e+00 -1.66729297e+00 -1.64762604e+00 -1.70559377e+00\n",
      "  -8.37558395e-01]\n",
      " [ 2.27628697e-01  2.44318310e-01  1.88498647e-01  1.63026028e-01\n",
      "  -7.20998678e-01]\n",
      " [ 9.63575763e-01  1.05307768e+00  1.01771702e+00  9.72271419e-01\n",
      "  -2.52318257e-01]\n",
      " [ 9.63575763e-01  9.79553849e-01  1.03252482e+00  9.28131170e-01\n",
      "  -2.87785877e-01]\n",
      " [ 1.08132718e+00  1.15601021e+00  1.15098439e+00  1.10469357e+00\n",
      "  -4.06575545e-01]\n",
      " [ 4.33692977e-01  4.06071026e-01  3.80995795e-01  3.24874545e-01\n",
      "   2.46816463e-01]\n",
      " [-2.05380749e+00 -2.07902588e+00 -2.01781254e+00 -2.13228659e+00\n",
      "  -8.08031887e-01]\n",
      " [-8.91011181e-01 -7.85011163e-01 -8.18407665e-01 -8.37495649e-01\n",
      "   2.16980691e-01]\n",
      " [ 3.89536546e-01  4.06071026e-01  4.10611393e-01  4.13156447e-01\n",
      "  -1.58806796e-01]\n",
      " [ 1.08132718e+00  1.17071526e+00  1.13617659e+00  1.13411994e+00\n",
      "  -9.13873921e-02]\n",
      " [ 5.36726521e-01  6.56051222e-01  5.73492943e-01  5.89718848e-01\n",
      "  -9.93142993e-02]\n",
      " [ 6.10321508e-01  5.09003553e-01  4.55033377e-01  5.60292483e-01\n",
      "  -1.33040278e-01]\n",
      " [-7.14384054e-01 -6.67373589e-01 -6.11104131e-01 -7.19787382e-01\n",
      "  -1.50554348e-01]\n",
      " [-2.05380749e+00 -2.07902588e+00 -2.00300474e+00 -2.11757411e+00\n",
      "  -4.58987539e-01]\n",
      " [ 6.83915092e-01  5.67822340e-01  6.62338324e-01  6.48572982e-01\n",
      "  -9.85004484e-02]\n",
      " [ 1.22851575e+00  1.30305788e+00  1.32867374e+00  1.26654209e+00\n",
      "  -8.21746006e-02]\n",
      " [ 6.10321508e-01  6.85459914e-01  6.91952509e-01  6.19146617e-01\n",
      "   6.52858927e+00]\n",
      " [-3.31691242e-01 -6.08554802e-01 -5.66682146e-01 -3.51948695e-01\n",
      "   6.44382597e-01]\n",
      " [ 6.69197217e-01  7.58983748e-01  6.91952509e-01  6.63286866e-01\n",
      "   1.12986831e-01]\n",
      " [ 6.84373444e-03  3.84532570e-02  7.00390808e-02  1.17751065e-03\n",
      "  -4.40692172e-01]\n",
      " [ 5.95602230e-01  8.47211227e-01  6.91952509e-01  7.95709018e-01\n",
      "  -5.83034684e-01]\n",
      " [-7.87979041e-01 -7.99716210e-01 -7.29563697e-01 -7.93353997e-01\n",
      "  -4.13786263e-01]\n",
      " [ 2.86504406e-01  3.17842145e-01  3.36573811e-01  3.24874545e-01\n",
      "  -4.42328745e-02]\n",
      " [ 5.07287964e-01  3.47252239e-01  4.10611393e-01  4.13156447e-01\n",
      "  -4.68753749e-01]\n",
      " [-3.90566951e-01 -2.40937033e-01 -3.14955215e-01 -3.37234811e-01\n",
      "  -1.25666789e-01]\n",
      " [ 6.25039382e-01  8.17802535e-01  7.21568107e-01  7.80995134e-01\n",
      "  -3.12445557e-01]\n",
      " [-6.40789066e-01 -7.55601068e-01 -6.40718316e-01 -6.75645729e-01\n",
      "  -3.44706604e-01]\n",
      " [-1.96549322e+00 -2.10843457e+00 -2.16588770e+00 -2.04400609e+00\n",
      "  -1.83922232e-01]\n",
      " [-9.61884056e-02 -3.14460867e-01 -2.11302036e-01 -1.60672410e-01\n",
      "  -2.11821039e-01]\n",
      " [-1.55064115e-01 -3.50705773e-02 -4.84204853e-02 -7.23905074e-02\n",
      "   1.60409187e-02]\n",
      " [ 1.98190140e-01  1.41385784e-01  2.18114245e-01  1.04171894e-01\n",
      "   2.39082511e+00]\n",
      " [-7.73259763e-01 -7.99716210e-01 -7.44371495e-01 -8.37495649e-01\n",
      "  -6.92562730e-01]\n",
      " [-1.21482828e+00 -1.10851519e+00 -1.14417218e+00 -1.19062045e+00\n",
      "  -3.91975061e-01]\n",
      " [-1.11179474e+00 -1.06440005e+00 -1.01090481e+00 -1.11705243e+00\n",
      "  -6.62173540e-01]\n",
      " [ 1.68752987e-01  3.17842145e-01  2.32920631e-01  2.51307930e-01\n",
      "   1.56623144e+00]\n",
      " [ 1.98190140e-01  1.56090831e-01  9.96546784e-02  1.18885778e-01\n",
      "  -1.68386552e-02]\n",
      " [ 3.01223684e-01 -2.26231986e-01 -1.52072253e-01  2.66020411e-01\n",
      "   1.86302657e+00]\n",
      " [-1.68583396e+00 -1.75552185e+00 -1.64762604e+00 -1.74973542e+00\n",
      "  -5.59172577e-01]\n",
      " [-1.31786042e+00 -1.22615277e+00 -1.35147712e+00 -1.27890095e+00\n",
      "  -1.95039435e-01]\n",
      " [ 4.77850811e-01  5.82527387e-01  5.29070959e-01  5.60292483e-01\n",
      "  -3.01735280e-01]\n",
      " [-1.69783393e-01 -4.97756246e-02 -1.07650268e-01 -1.01818276e-01\n",
      "  -6.68716900e-01]\n",
      " [ 5.10015691e-02 -1.82118246e-01 -1.07650268e-01  1.17751065e-03\n",
      "   1.05628878e+00]\n",
      " [ 7.13353648e-01  7.29573653e-01  8.10412075e-01  7.36854884e-01\n",
      "  -5.83311393e-01]\n",
      " [ 5.51445799e-01  4.20774671e-01  4.55033377e-01  4.57296696e-01\n",
      "  -4.35939283e-01]\n",
      " [ 1.31683002e+00  1.21482900e+00  1.19540637e+00  1.25182820e+00\n",
      "   2.95094094e-01]\n",
      " [ 1.83472266e-01  9.72720440e-02  1.44076663e-01  1.04171894e-01\n",
      "  -5.53638392e-01]\n",
      " [ 1.08132718e+00  1.08248778e+00  1.13617659e+00  1.11940605e+00\n",
      "  -4.32228123e-01]\n",
      " [ 6.39758661e-01  7.73688795e-01  7.51182292e-01  7.22141000e-01\n",
      "  -1.28938470e-01]\n",
      " [ 6.25039382e-01  6.26641127e-01  5.14263160e-01  5.75004964e-01\n",
      "  -8.85877452e-02]\n",
      " [ 8.01666510e-01  8.32507582e-01  8.69641858e-01  7.66281250e-01\n",
      "  -3.60186047e-01]\n",
      " [ 2.42347975e-01  5.38413648e-01  2.92151826e-01  4.42584215e-01\n",
      "  -5.04018638e-02]\n",
      " [ 1.03717075e+00  1.05307768e+00  1.12136879e+00  1.03112555e+00\n",
      "  -4.05175722e-01]\n",
      " [ 1.83472266e-01  1.56090831e-01  2.18114245e-01  1.33599662e-01\n",
      "   1.88946044e+00]\n",
      " [ 1.15492217e+00  1.15601021e+00  1.15098439e+00  1.07526580e+00\n",
      "  -5.38549597e-01]\n",
      " [-9.35167612e-01 -1.09381015e+00 -1.01090481e+00 -9.69916398e-01\n",
      "  -1.00674163e-02]\n",
      " [-1.18538973e+00 -1.03499136e+00 -1.08494240e+00 -1.01405805e+00\n",
      "   3.58460521e-01]\n",
      " [ 4.63131533e-01  4.35479719e-01  4.40225578e-01  3.98442563e-01\n",
      "  -1.90579532e-01]\n",
      " [ 1.03717075e+00  7.73688795e-01  8.69641858e-01  9.42843651e-01\n",
      "  -5.63111615e-01]\n",
      " [-9.20448334e-01 -1.03499136e+00 -9.81290628e-01 -1.02877053e+00\n",
      "   9.17201757e-03]\n",
      " [-9.20448334e-01 -8.43829950e-01 -8.33215464e-01 -8.37495649e-01\n",
      "  -1.71567977e-01]\n",
      " [ 5.07287964e-01  2.29614665e-01  2.32920631e-01  3.98442563e-01\n",
      "   7.17726835e-01]\n",
      " [ 7.42790801e-01  5.97232435e-01  6.91952509e-01  6.48572982e-01\n",
      "   2.35088131e+00]\n",
      " [ 4.92568686e-01  4.64889813e-01  4.69841176e-01  4.27870331e-01\n",
      "  -9.07037574e-02]\n",
      " [ 1.53761358e+00  1.05307768e+00  1.16579077e+00  1.42839061e+00\n",
      "   2.04463665e-01]\n",
      " [ 4.77850811e-01  5.97232435e-01  5.58685144e-01  5.01438349e-01\n",
      "  -5.10699621e-01]\n",
      " [ 8.75261497e-01  8.91326369e-01  9.73293626e-01  8.98703401e-01\n",
      "  -5.39339765e-02]\n",
      " [-1.34729898e+00 -1.00558126e+00 -1.24782536e+00 -1.07291218e+00\n",
      "  -6.18934377e-02]\n",
      " [ 6.25039382e-01  7.58983748e-01  7.36374493e-01  6.63286866e-01\n",
      "   7.09002354e-01]\n",
      " [-6.11351913e-01 -5.20325920e-01 -5.22258750e-01 -5.57937462e-01\n",
      "  -3.12803651e-01]\n",
      " [-2.58096255e-01 -1.82118246e-01 -1.52072253e-01 -2.34239024e-01\n",
      "  -2.61498494e-01]\n",
      " [-5.08318370e-01 -3.87983299e-01 -4.33414781e-01 -4.69656963e-01\n",
      "  -4.25831256e-01]\n",
      " [ 1.68752987e-01  2.37482097e-02 -1.88048877e-02  1.48312143e-01\n",
      "   7.35240905e-01]\n",
      " [-5.81913357e-01 -5.05620873e-01 -4.92644564e-01 -5.13797212e-01\n",
      "   5.56372768e-01]\n",
      " [-1.17067045e+00 -1.21144772e+00 -1.23301756e+00 -1.23476070e+00\n",
      "  -5.65113688e-01]\n",
      " [-9.20448334e-01 -8.14419855e-01 -8.33215464e-01 -8.96349783e-01\n",
      "   3.55888752e-01]\n",
      " [ 4.48412255e-01  5.53117293e-01  4.99455361e-01  5.60292483e-01\n",
      "  -2.43349539e-03]\n",
      " [-9.79325447e-01 -9.61467524e-01 -9.22060845e-01 -9.55203917e-01\n",
      "   9.21449977e-01]\n",
      " [ 5.36726521e-01  5.82527387e-01  5.29070959e-01  5.16150830e-01\n",
      "  -4.99240602e-01]\n",
      " [ 1.11076433e+00  1.05307768e+00  1.09175460e+00  1.00169778e+00\n",
      "  -3.32401180e-01]\n",
      " [-2.03908821e+00 -2.10843457e+00 -2.00300474e+00 -2.10286023e+00\n",
      "  -2.90829679e-01]\n",
      " [ 2.42347975e-01  4.79593458e-01  3.21766012e-01  3.83728678e-01\n",
      "   6.91016250e-01]\n",
      " [ 6.39758661e-01  5.97232435e-01  7.21568107e-01  6.33859098e-01\n",
      "   7.50476193e-01]\n",
      " [ 1.03717075e+00  1.24423909e+00  1.15098439e+00  1.14883382e+00\n",
      "   1.48796268e-01]\n",
      " [-8.32135472e-01 -9.17353784e-01 -8.33215464e-01 -9.11062264e-01\n",
      "  -5.51017792e-01]\n",
      " [ 1.22851575e+00  1.06778273e+00  1.10656099e+00  1.16354770e+00\n",
      "  -5.44848803e-01]\n",
      " [ 5.22007242e-01  5.82527387e-01  6.32722726e-01  5.16150830e-01\n",
      "  -4.21159752e-01]\n",
      " [ 7.28072926e-01  5.23708600e-01  6.03107128e-01  6.33859098e-01\n",
      "  -3.93016790e-01]\n",
      " [-6.40789066e-01 -4.02688346e-01 -5.51874347e-01 -4.40229194e-01\n",
      "   4.25073479e-02]\n",
      " [-1.59751969e+00 -1.25556146e+00 -1.52916647e+00 -1.35246897e+00\n",
      "   4.60882916e-02]\n",
      " [-8.02696915e-01 -6.37963494e-01 -6.99948099e-01 -7.05073498e-01\n",
      "  -3.96760504e-01]\n",
      " [-1.00876260e+00 -1.24085641e+00 -1.15897998e+00 -9.99344166e-01\n",
      "  -4.46568175e-01]\n",
      " [-6.55508344e-01 -9.02648737e-01 -8.33215464e-01 -7.49213747e-01\n",
      "   7.98818933e-01]\n",
      " [ 8.01666510e-01  2.88433452e-01  4.10611393e-01  7.36854884e-01\n",
      "   6.10005538e-01]\n",
      " [-2.87534811e-01 -2.26231986e-01 -2.26109835e-01 -2.63666793e-01\n",
      "  -5.21979594e-01]\n",
      " [ 9.34137206e-01  1.02366899e+00  1.00290922e+00  9.72271419e-01\n",
      "   1.25845674e-01]\n",
      " [ 1.15492217e+00  1.21482900e+00  1.16579077e+00  1.13411994e+00\n",
      "  -4.84786611e-01]\n",
      " [-2.15683963e+00 -2.16725336e+00 -2.10665792e+00 -2.19114213e+00\n",
      "  -6.94988005e-01]\n",
      " [ 5.66163673e-01  5.53117293e-01  6.47530525e-01  5.60292483e-01\n",
      "  -1.44336528e-01]\n",
      " [ 1.09877278e-01  1.56090831e-01  1.58884461e-01  1.18885778e-01\n",
      "  -3.99836860e-01]\n",
      " [-2.13939824e-01 -1.96821891e-01 -1.52072253e-01 -1.75384891e-01\n",
      "   7.19687483e-02]\n",
      " [-9.94043321e-01 -9.90877619e-01 -9.22060845e-01 -1.05819830e+00\n",
      "  -5.55103323e-01]\n",
      " [-1.93605607e+00 -1.97609195e+00 -1.89935297e+00 -2.01457832e+00\n",
      "  -6.37269704e-01]\n",
      " [ 1.39314431e-01  1.56090831e-01  1.88498647e-01  1.04171894e-01\n",
      "  -3.79637082e-01]\n",
      " [ 4.77850811e-01  4.94298506e-01  5.14263160e-01  3.98442563e-01\n",
      "  -3.62822924e-01]\n",
      " [-2.03908821e+00 -2.06432083e+00 -2.03262034e+00 -2.10286023e+00\n",
      "  -7.67713716e-01]\n",
      " [ 1.21379788e+00  1.18542030e+00  1.28425034e+00  1.17826159e+00\n",
      "  -3.63734437e-01]]\n"
     ]
    }
   ],
   "source": [
    "print(x_train)"
   ]
  },
  {
   "cell_type": "code",
   "execution_count": 46,
   "metadata": {},
   "outputs": [
    {
     "name": "stdout",
     "output_type": "stream",
     "text": [
      "[[-0.53775693 -0.52032592 -0.47783677 -0.57265135 -0.50008701]\n",
      " [-0.50831837 -0.3879833  -0.43341478 -0.48436944 -0.47363685]\n",
      " [-0.44944266 -0.24093703 -0.3445694  -0.30780704 -0.14015333]\n",
      " [ 0.2276287   0.33254719  0.29215183  0.26602041 -0.47362058]\n",
      " [ 0.84582434  0.92073506  0.95848724  1.06055192 -0.25060917]\n",
      " [ 0.90470005  0.7736888   0.86964186  0.95755754 -0.28013568]\n",
      " [-0.3611298  -0.24093703 -0.30014742 -0.30780704 -0.03392952]\n",
      " [-1.74470967 -1.69670306 -1.75127781 -1.79387567 -0.20322677]\n",
      " [-1.11179474 -0.99087762 -1.0701346  -1.08762607  0.06529517]\n",
      " [ 0.38953655  0.37666093  0.45503338  0.38372868  0.87359555]\n",
      " [-2.05380749 -2.03491074 -2.00300474 -2.08814634 -0.67263966]\n",
      " [ 1.21379788  0.9942589   1.12136879  1.22240184 -0.1465502 ]\n",
      " [ 0.84582434  0.86191627  0.91406384  0.76628125 -0.50440042]\n",
      " [ 0.2276287   0.17079588  0.20330645  0.1924538  -0.50138917]\n",
      " [ 0.88998078  0.89132637  0.88444966  0.8104229  -0.48302869]\n",
      " [-2.12740248 -2.03491074 -2.06223452 -2.13228659 -0.4983942 ]\n",
      " [ 1.08132718  1.02366899  1.0917546   1.04583944 -0.61646768]\n",
      " [ 1.05188862  0.78839244  0.88444966  0.95755754  0.44371953]\n",
      " [ 0.16875299  0.24431831  0.18849865  0.1924538  -0.09164782]\n",
      " [-0.43472338 -0.52032592 -0.41860698 -0.48436944 -0.70643075]\n",
      " [-0.11090768 -0.27034573 -0.41860698 -0.20481266  0.72929979]\n",
      " [ 1.00773219  0.89132637  0.95848724  0.95755754 -0.3226838 ]\n",
      " [ 0.83110507  0.92073506  0.88444966  0.86927704 -0.4163092 ]\n",
      " [-1.81830465 -1.79963559 -1.75127781 -1.89687006 -0.63896251]\n",
      " [ 0.4189751   0.49429851  0.46984118  0.41315645 -0.10074668]\n",
      " [ 0.93413721  1.02366899  1.00290922  1.00169778  0.25235065]\n",
      " [-0.80269692 -0.74089742 -0.6999481  -0.77864152 -0.17801368]\n",
      " [ 0.83110507  0.87662132  0.78079789  0.79570902 -0.27150886]\n",
      " [-2.1126832  -2.09373093 -2.06223452 -2.10286023 -0.09251051]\n",
      " [ 0.24234797  0.21490962  0.23292063  0.14831214 -0.83676082]\n",
      " [-2.18627819 -2.06432083 -2.09185012 -2.08814634 -0.45211864]\n",
      " [ 0.8752615   1.00896394  0.92887164  0.9869853  -0.57724007]\n",
      " [-1.05291903 -1.02028631 -1.04052041 -1.10233855 -0.69573675]\n",
      " [-0.24337838 -0.40268835 -0.31495522 -0.29309316 -0.08069339]\n",
      " [-0.49359909 -0.6085548  -0.52225875 -0.46965696 -0.11674698]\n",
      " [ 0.16875299  0.20020457  0.23292063  0.20716628 -0.63718832]\n",
      " [ 0.30122368  0.49429851  0.33657381  0.41315645  0.53291759]\n",
      " [-1.96549322 -1.84375073 -1.86973737 -1.94101171 -0.42524528]\n",
      " [-0.78797904 -0.8291249  -0.80360128 -0.83749565  0.17783447]\n",
      " [ 0.47785081  0.55311729  0.51426316  0.47201058 -0.00428908]\n",
      " [-2.06852677 -2.04961578 -2.06223452 -2.07343246 -0.06309794]\n",
      " [ 1.03717075  1.00896394  1.03252482  0.95755754 -0.4911672 ]\n",
      " [-0.46416194 -0.50562087 -0.47783677 -0.57265135 -0.31394304]\n",
      " [ 1.21379788  1.06778273  1.15098439  1.11940605 -0.77717066]\n",
      " [ 0.90470005  0.9648502   1.00290922  0.91341729 -0.71569237]\n",
      " [ 0.37481727  0.20020457  0.27734403  0.29544818 -0.85253325]\n",
      " [ 1.16964004  1.03837264  1.04733121  1.08997969 -0.28003802]\n",
      " [-1.81830465 -1.69670306 -1.73647142 -1.79387567 -0.60157421]\n",
      " [ 1.12548361  1.08248778  1.19540637  1.0752658  -0.57284527]\n",
      " [ 0.16875299  0.14138578  0.20330645  0.11888578 -0.27613153]\n",
      " [ 0.13931443  0.06786195  0.0256171   0.08945801 -0.26973466]]\n"
     ]
    }
   ],
   "source": [
    "print(x_test)"
   ]
  },
  {
   "cell_type": "code",
   "execution_count": 47,
   "metadata": {},
   "outputs": [
    {
     "data": {
      "text/plain": [
       "(200, 1)"
      ]
     },
     "execution_count": 47,
     "metadata": {},
     "output_type": "execute_result"
    }
   ],
   "source": [
    "y_train.shape"
   ]
  },
  {
   "cell_type": "markdown",
   "metadata": {},
   "source": [
    "---"
   ]
  },
  {
   "cell_type": "markdown",
   "metadata": {},
   "source": [
    "### Linear Regression"
   ]
  },
  {
   "cell_type": "code",
   "execution_count": 48,
   "metadata": {},
   "outputs": [
    {
     "name": "stdout",
     "output_type": "stream",
     "text": [
      "Coefficient: [[ 0.12956343  0.33671545 -0.17910534 -0.00660386  0.0133235 ]]\n",
      "Valores previstos:  LinearRegression(normalize=True)\n",
      "Valores previstos:  [[0.46895773]\n",
      " [0.50914689]\n",
      " [0.55365227]\n",
      " [0.71220435]\n",
      " [0.86873193]\n",
      " [0.84304677]\n",
      " [0.55855344]\n",
      " [0.15657654]\n",
      " [0.35315879]\n",
      " [0.73603481]\n",
      " [0.04342375]\n",
      " [0.91230909]\n",
      " [0.85544514]\n",
      " [0.67376872]\n",
      " [0.87636633]\n",
      " [0.04710996]\n",
      " [0.90525768]\n",
      " [0.87406009]\n",
      " [0.69900806]\n",
      " [0.46836652]\n",
      " [0.61177618]\n",
      " [0.87952678]\n",
      " [0.87914083]\n",
      " [0.10725698]\n",
      " [0.76363122]\n",
      " [0.91396712]\n",
      " [0.40579416]\n",
      " [0.88526671]\n",
      " [0.03442484]\n",
      " [0.6810487 ]\n",
      " [0.03520836]\n",
      " [0.90369221]\n",
      " [0.33553806]\n",
      " [0.52127748]\n",
      " [0.45735443]\n",
      " [0.6688324 ]\n",
      " [0.78068646]\n",
      " [0.09768818]\n",
      " [0.40168815]\n",
      " [0.78400483]\n",
      " [0.05519768]\n",
      " [0.90744602]\n",
      " [0.48592445]\n",
      " [0.92403949]\n",
      " [0.87803323]\n",
      " [0.68412218]\n",
      " [0.93379813]\n",
      " [0.13908203]\n",
      " [0.91260622]\n",
      " [0.6597248 ]\n",
      " [0.6632587 ]]\n",
      "Valores reais:  [[0.46661482]\n",
      " [0.49484979]\n",
      " [0.52622099]\n",
      " [0.83528293]\n",
      " [0.8698105 ]\n",
      " [0.93411283]\n",
      " [0.70680385]\n",
      " [0.12826613]\n",
      " [0.27485618]\n",
      " [0.75084967]\n",
      " [0.05802475]\n",
      " [0.88588548]\n",
      " [0.85694955]\n",
      " [0.79904527]\n",
      " [0.86338003]\n",
      " [0.05802475]\n",
      " [0.89231596]\n",
      " [0.84087354]\n",
      " [0.81551715]\n",
      " [0.46661482]\n",
      " [0.51994648]\n",
      " [0.86338003]\n",
      " [0.96705624]\n",
      " [0.10688821]\n",
      " [0.87152058]\n",
      " [0.89231596]\n",
      " [0.32677329]\n",
      " [0.86016462]\n",
      " [0.04580948]\n",
      " [0.62347356]\n",
      " [0.05191711]\n",
      " [0.79288065]\n",
      " [0.26874855]\n",
      " [0.67056586]\n",
      " [0.62444514]\n",
      " [0.62033596]\n",
      " [0.87152058]\n",
      " [0.09772693]\n",
      " [0.30844971]\n",
      " [0.78943113]\n",
      " [0.05497144]\n",
      " [0.88910123]\n",
      " [0.46975207]\n",
      " [0.90196183]\n",
      " [0.97693964]\n",
      " [0.80563409]\n",
      " [0.89553136]\n",
      " [0.12826613]\n",
      " [0.9051769 ]\n",
      " [0.60778762]\n",
      " [0.59210168]]\n",
      "Score:  0.9311663701408648\n"
     ]
    }
   ],
   "source": [
    "from sklearn import linear_model\n",
    "\n",
    "regr_model = linear_model.LinearRegression(normalize = True)\n",
    "regr_model = regr_model.fit(x_train, y_train)\n",
    "\n",
    "print(\"Coefficient:\" ,regr_model.coef_)\n",
    "\n",
    "y_pred = regr_model.predict(x_test) \n",
    "\n",
    "print(\"Valores previstos: \" , regr_model)\n",
    "print(\"Valores previstos: \" , y_pred)\n",
    "print(\"Valores reais: \" , y_test)\n",
    "\n",
    "print(\"Score: \" , regr_model.score(x_train,y_train))\n"
   ]
  },
  {
   "cell_type": "markdown",
   "metadata": {},
   "source": [
    "> compare the actual output values for **X_test** with the predicted"
   ]
  },
  {
   "cell_type": "code",
   "execution_count": 49,
   "metadata": {},
   "outputs": [
    {
     "data": {
      "text/html": [
       "<div>\n",
       "<style scoped>\n",
       "    .dataframe tbody tr th:only-of-type {\n",
       "        vertical-align: middle;\n",
       "    }\n",
       "\n",
       "    .dataframe tbody tr th {\n",
       "        vertical-align: top;\n",
       "    }\n",
       "\n",
       "    .dataframe thead th {\n",
       "        text-align: right;\n",
       "    }\n",
       "</style>\n",
       "<table border=\"1\" class=\"dataframe\">\n",
       "  <thead>\n",
       "    <tr style=\"text-align: right;\">\n",
       "      <th></th>\n",
       "      <th>Actual</th>\n",
       "      <th>Predicted</th>\n",
       "    </tr>\n",
       "  </thead>\n",
       "  <tbody>\n",
       "    <tr>\n",
       "      <th>0</th>\n",
       "      <td>0.466615</td>\n",
       "      <td>0.468958</td>\n",
       "    </tr>\n",
       "    <tr>\n",
       "      <th>1</th>\n",
       "      <td>0.494850</td>\n",
       "      <td>0.509147</td>\n",
       "    </tr>\n",
       "    <tr>\n",
       "      <th>2</th>\n",
       "      <td>0.526221</td>\n",
       "      <td>0.553652</td>\n",
       "    </tr>\n",
       "    <tr>\n",
       "      <th>3</th>\n",
       "      <td>0.835283</td>\n",
       "      <td>0.712204</td>\n",
       "    </tr>\n",
       "    <tr>\n",
       "      <th>4</th>\n",
       "      <td>0.869810</td>\n",
       "      <td>0.868732</td>\n",
       "    </tr>\n",
       "    <tr>\n",
       "      <th>5</th>\n",
       "      <td>0.934113</td>\n",
       "      <td>0.843047</td>\n",
       "    </tr>\n",
       "    <tr>\n",
       "      <th>6</th>\n",
       "      <td>0.706804</td>\n",
       "      <td>0.558553</td>\n",
       "    </tr>\n",
       "    <tr>\n",
       "      <th>7</th>\n",
       "      <td>0.128266</td>\n",
       "      <td>0.156577</td>\n",
       "    </tr>\n",
       "    <tr>\n",
       "      <th>8</th>\n",
       "      <td>0.274856</td>\n",
       "      <td>0.353159</td>\n",
       "    </tr>\n",
       "    <tr>\n",
       "      <th>9</th>\n",
       "      <td>0.750850</td>\n",
       "      <td>0.736035</td>\n",
       "    </tr>\n",
       "    <tr>\n",
       "      <th>10</th>\n",
       "      <td>0.058025</td>\n",
       "      <td>0.043424</td>\n",
       "    </tr>\n",
       "    <tr>\n",
       "      <th>11</th>\n",
       "      <td>0.885885</td>\n",
       "      <td>0.912309</td>\n",
       "    </tr>\n",
       "    <tr>\n",
       "      <th>12</th>\n",
       "      <td>0.856950</td>\n",
       "      <td>0.855445</td>\n",
       "    </tr>\n",
       "    <tr>\n",
       "      <th>13</th>\n",
       "      <td>0.799045</td>\n",
       "      <td>0.673769</td>\n",
       "    </tr>\n",
       "    <tr>\n",
       "      <th>14</th>\n",
       "      <td>0.863380</td>\n",
       "      <td>0.876366</td>\n",
       "    </tr>\n",
       "    <tr>\n",
       "      <th>15</th>\n",
       "      <td>0.058025</td>\n",
       "      <td>0.047110</td>\n",
       "    </tr>\n",
       "    <tr>\n",
       "      <th>16</th>\n",
       "      <td>0.892316</td>\n",
       "      <td>0.905258</td>\n",
       "    </tr>\n",
       "    <tr>\n",
       "      <th>17</th>\n",
       "      <td>0.840874</td>\n",
       "      <td>0.874060</td>\n",
       "    </tr>\n",
       "    <tr>\n",
       "      <th>18</th>\n",
       "      <td>0.815517</td>\n",
       "      <td>0.699008</td>\n",
       "    </tr>\n",
       "    <tr>\n",
       "      <th>19</th>\n",
       "      <td>0.466615</td>\n",
       "      <td>0.468367</td>\n",
       "    </tr>\n",
       "    <tr>\n",
       "      <th>20</th>\n",
       "      <td>0.519946</td>\n",
       "      <td>0.611776</td>\n",
       "    </tr>\n",
       "    <tr>\n",
       "      <th>21</th>\n",
       "      <td>0.863380</td>\n",
       "      <td>0.879527</td>\n",
       "    </tr>\n",
       "    <tr>\n",
       "      <th>22</th>\n",
       "      <td>0.967056</td>\n",
       "      <td>0.879141</td>\n",
       "    </tr>\n",
       "    <tr>\n",
       "      <th>23</th>\n",
       "      <td>0.106888</td>\n",
       "      <td>0.107257</td>\n",
       "    </tr>\n",
       "    <tr>\n",
       "      <th>24</th>\n",
       "      <td>0.871521</td>\n",
       "      <td>0.763631</td>\n",
       "    </tr>\n",
       "    <tr>\n",
       "      <th>25</th>\n",
       "      <td>0.892316</td>\n",
       "      <td>0.913967</td>\n",
       "    </tr>\n",
       "    <tr>\n",
       "      <th>26</th>\n",
       "      <td>0.326773</td>\n",
       "      <td>0.405794</td>\n",
       "    </tr>\n",
       "    <tr>\n",
       "      <th>27</th>\n",
       "      <td>0.860165</td>\n",
       "      <td>0.885267</td>\n",
       "    </tr>\n",
       "    <tr>\n",
       "      <th>28</th>\n",
       "      <td>0.045809</td>\n",
       "      <td>0.034425</td>\n",
       "    </tr>\n",
       "    <tr>\n",
       "      <th>29</th>\n",
       "      <td>0.623474</td>\n",
       "      <td>0.681049</td>\n",
       "    </tr>\n",
       "    <tr>\n",
       "      <th>30</th>\n",
       "      <td>0.051917</td>\n",
       "      <td>0.035208</td>\n",
       "    </tr>\n",
       "    <tr>\n",
       "      <th>31</th>\n",
       "      <td>0.792881</td>\n",
       "      <td>0.903692</td>\n",
       "    </tr>\n",
       "    <tr>\n",
       "      <th>32</th>\n",
       "      <td>0.268749</td>\n",
       "      <td>0.335538</td>\n",
       "    </tr>\n",
       "    <tr>\n",
       "      <th>33</th>\n",
       "      <td>0.670566</td>\n",
       "      <td>0.521277</td>\n",
       "    </tr>\n",
       "    <tr>\n",
       "      <th>34</th>\n",
       "      <td>0.624445</td>\n",
       "      <td>0.457354</td>\n",
       "    </tr>\n",
       "    <tr>\n",
       "      <th>35</th>\n",
       "      <td>0.620336</td>\n",
       "      <td>0.668832</td>\n",
       "    </tr>\n",
       "    <tr>\n",
       "      <th>36</th>\n",
       "      <td>0.871521</td>\n",
       "      <td>0.780686</td>\n",
       "    </tr>\n",
       "    <tr>\n",
       "      <th>37</th>\n",
       "      <td>0.097727</td>\n",
       "      <td>0.097688</td>\n",
       "    </tr>\n",
       "    <tr>\n",
       "      <th>38</th>\n",
       "      <td>0.308450</td>\n",
       "      <td>0.401688</td>\n",
       "    </tr>\n",
       "    <tr>\n",
       "      <th>39</th>\n",
       "      <td>0.789431</td>\n",
       "      <td>0.784005</td>\n",
       "    </tr>\n",
       "    <tr>\n",
       "      <th>40</th>\n",
       "      <td>0.054971</td>\n",
       "      <td>0.055198</td>\n",
       "    </tr>\n",
       "    <tr>\n",
       "      <th>41</th>\n",
       "      <td>0.889101</td>\n",
       "      <td>0.907446</td>\n",
       "    </tr>\n",
       "    <tr>\n",
       "      <th>42</th>\n",
       "      <td>0.469752</td>\n",
       "      <td>0.485924</td>\n",
       "    </tr>\n",
       "    <tr>\n",
       "      <th>43</th>\n",
       "      <td>0.901962</td>\n",
       "      <td>0.924039</td>\n",
       "    </tr>\n",
       "    <tr>\n",
       "      <th>44</th>\n",
       "      <td>0.976940</td>\n",
       "      <td>0.878033</td>\n",
       "    </tr>\n",
       "    <tr>\n",
       "      <th>45</th>\n",
       "      <td>0.805634</td>\n",
       "      <td>0.684122</td>\n",
       "    </tr>\n",
       "    <tr>\n",
       "      <th>46</th>\n",
       "      <td>0.895531</td>\n",
       "      <td>0.933798</td>\n",
       "    </tr>\n",
       "    <tr>\n",
       "      <th>47</th>\n",
       "      <td>0.128266</td>\n",
       "      <td>0.139082</td>\n",
       "    </tr>\n",
       "    <tr>\n",
       "      <th>48</th>\n",
       "      <td>0.905177</td>\n",
       "      <td>0.912606</td>\n",
       "    </tr>\n",
       "    <tr>\n",
       "      <th>49</th>\n",
       "      <td>0.607788</td>\n",
       "      <td>0.659725</td>\n",
       "    </tr>\n",
       "    <tr>\n",
       "      <th>50</th>\n",
       "      <td>0.592102</td>\n",
       "      <td>0.663259</td>\n",
       "    </tr>\n",
       "  </tbody>\n",
       "</table>\n",
       "</div>"
      ],
      "text/plain": [
       "      Actual  Predicted\n",
       "0   0.466615   0.468958\n",
       "1   0.494850   0.509147\n",
       "2   0.526221   0.553652\n",
       "3   0.835283   0.712204\n",
       "4   0.869810   0.868732\n",
       "5   0.934113   0.843047\n",
       "6   0.706804   0.558553\n",
       "7   0.128266   0.156577\n",
       "8   0.274856   0.353159\n",
       "9   0.750850   0.736035\n",
       "10  0.058025   0.043424\n",
       "11  0.885885   0.912309\n",
       "12  0.856950   0.855445\n",
       "13  0.799045   0.673769\n",
       "14  0.863380   0.876366\n",
       "15  0.058025   0.047110\n",
       "16  0.892316   0.905258\n",
       "17  0.840874   0.874060\n",
       "18  0.815517   0.699008\n",
       "19  0.466615   0.468367\n",
       "20  0.519946   0.611776\n",
       "21  0.863380   0.879527\n",
       "22  0.967056   0.879141\n",
       "23  0.106888   0.107257\n",
       "24  0.871521   0.763631\n",
       "25  0.892316   0.913967\n",
       "26  0.326773   0.405794\n",
       "27  0.860165   0.885267\n",
       "28  0.045809   0.034425\n",
       "29  0.623474   0.681049\n",
       "30  0.051917   0.035208\n",
       "31  0.792881   0.903692\n",
       "32  0.268749   0.335538\n",
       "33  0.670566   0.521277\n",
       "34  0.624445   0.457354\n",
       "35  0.620336   0.668832\n",
       "36  0.871521   0.780686\n",
       "37  0.097727   0.097688\n",
       "38  0.308450   0.401688\n",
       "39  0.789431   0.784005\n",
       "40  0.054971   0.055198\n",
       "41  0.889101   0.907446\n",
       "42  0.469752   0.485924\n",
       "43  0.901962   0.924039\n",
       "44  0.976940   0.878033\n",
       "45  0.805634   0.684122\n",
       "46  0.895531   0.933798\n",
       "47  0.128266   0.139082\n",
       "48  0.905177   0.912606\n",
       "49  0.607788   0.659725\n",
       "50  0.592102   0.663259"
      ]
     },
     "execution_count": 49,
     "metadata": {},
     "output_type": "execute_result"
    }
   ],
   "source": [
    "result = pd.DataFrame({'Actual': y_test.flatten(), 'Predicted': y_pred.flatten()})\n",
    "\n",
    "result"
   ]
  },
  {
   "cell_type": "markdown",
   "metadata": {},
   "source": [
    ">comparison result as a bar graph using the below script\n",
    "\n",
    ">**Note**: As the number of records is huge, for representation purpose we use just 30 records."
   ]
  },
  {
   "cell_type": "code",
   "execution_count": 50,
   "metadata": {},
   "outputs": [
    {
     "data": {
      "image/png": "[encoded data removed]",
      "text/plain": [
       "<Figure size 1152x720 with 1 Axes>"
      ]
     },
     "metadata": {
      "needs_background": "light"
     },
     "output_type": "display_data"
    }
   ],
   "source": [
    "result1 = result.head(30)\n",
    "result1.plot(kind='bar',figsize=(16,10))\n",
    "plt.grid(which='major', linestyle='-', linewidth='0.5', color='green')\n",
    "plt.grid(which='minor', linestyle=':', linewidth='0.5', color='black')\n",
    "plt.show()"
   ]
  },
  {
   "cell_type": "code",
   "execution_count": 51,
   "metadata": {},
   "outputs": [
    {
     "name": "stdout",
     "output_type": "stream",
     "text": [
      "Mean Absolute Error: 0.050774921290281425\n",
      "Mean Squared Error: 0.004817830878133622\n",
      "Root Mean Squared Error: 0.06941059629576468\n"
     ]
    }
   ],
   "source": [
    "from sklearn import metrics\n",
    "print('Mean Absolute Error:', metrics.mean_absolute_error(y_test, y_pred))  \n",
    "print('Mean Squared Error:', metrics.mean_squared_error(y_test, y_pred))  \n",
    "print('Root Mean Squared Error:', np.sqrt(metrics.mean_squared_error(y_test, y_pred)))"
   ]
  },
  {
   "cell_type": "markdown",
   "metadata": {},
   "source": [
    "---"
   ]
  },
  {
   "cell_type": "markdown",
   "metadata": {},
   "source": [
    "## Regressor GRU(Gated Recurrent Unit)</b>"
   ]
  },
  {
   "cell_type": "code",
   "execution_count": 40,
   "metadata": {},
   "outputs": [],
   "source": [
    "\n",
    "import matplotlib.pyplot as plt\n",
    "plt.style.use('fivethirtyeight')\n",
    "from sklearn.preprocessing import MinMaxScaler\n",
    "from keras.models import Sequential\n",
    "from keras.layers import Dense, Dropout, GRU, Bidirectional, LSTM\n",
    "from keras.optimizers import SGD\n",
    "import math\n",
    "from sklearn.metrics import mean_squared_error\n",
    "import keras"
   ]
  },
  {
   "cell_type": "code",
   "execution_count": 41,
   "metadata": {},
   "outputs": [],
   "source": [
    "timesteps = 60"
   ]
  },
  {
   "cell_type": "code",
   "execution_count": 42,
   "metadata": {},
   "outputs": [],
   "source": [
    "# All symbols\n",
    "symbols = stocks_data.ticker.unique()"
   ]
  },
  {
   "cell_type": "code",
   "execution_count": 43,
   "metadata": {},
   "outputs": [],
   "source": [
    "def make_train_set(data,s):\n",
    "    l = len(data)\n",
    "    for i in range(timesteps, l):\n",
    "        x = data[i-timesteps: i, 0]\n",
    "        y = data[i,0]\n",
    "        \n",
    "        x = x.reshape(-1,1)\n",
    "        y = y.reshape(-1,1)\n",
    "        \n",
    "        sc = MinMaxScaler(feature_range=(0,1))\n",
    "        sc.partial_fit(x)\n",
    "        sc.partial_fit(y)\n",
    "\n",
    "        train_set[s]['x'].append(sc.transform(x))\n",
    "        train_set[s]['y'].append(sc.transform(y))"
   ]
  },
  {
   "cell_type": "code",
   "execution_count": 44,
   "metadata": {},
   "outputs": [],
   "source": [
    "# Define train_set\n",
    "train_set = {}\n",
    "for s in ['A', 'NLY', 'NM', 'NMZ', 'NMY']:  \n",
    "    train_set.update({s:{'x':[],'y':[]}})\n",
    "    data = stocks_data.loc[stocks_data['ticker'] == s][['close']].values\n",
    "    \n",
    "    make_train_set(data,s)"
   ]
  },
  {
   "cell_type": "code",
   "execution_count": 45,
   "metadata": {},
   "outputs": [],
   "source": [
    "# Define earlystopping callback function\n",
    "es = keras.callbacks.EarlyStopping(monitor='val_loss',patience=5, mode='min', restore_best_weights=True)"
   ]
  },
  {
   "cell_type": "code",
   "execution_count": 46,
   "metadata": {},
   "outputs": [],
   "source": [
    "def make_gru_network():\n",
    "    regressorGRU = Sequential()\n",
    "    # First GRU layer with Dropout regularisation\n",
    "    \n",
    "    regressorGRU.add(GRU(units = 30, return_sequences = False, input_shape=(60,1), activation='tanh'))\n",
    "    regressorGRU.add(Dropout(0.3))\n",
    "    \n",
    "    # The output layer\n",
    "    regressorGRU.add(Dense(units=1))\n",
    "    return regressorGRU"
   ]
  },
  {
   "cell_type": "code",
   "execution_count": 47,
   "metadata": {},
   "outputs": [
    {
     "name": "stdout",
     "output_type": "stream",
     "text": [
      "Training A\n",
      "(191, 60, 1) (191,)\n",
      "Epoch 1/20\n",
      "3/3 [==============================] - 2s 172ms/step - loss: 1.4578 - val_loss: 0.8556\n",
      "Epoch 2/20\n",
      "3/3 [==============================] - 0s 28ms/step - loss: 1.0560 - val_loss: 0.6651\n",
      "Epoch 3/20\n",
      "3/3 [==============================] - 0s 30ms/step - loss: 0.8349 - val_loss: 0.5204\n",
      "Epoch 4/20\n",
      "3/3 [==============================] - 0s 32ms/step - loss: 0.6440 - val_loss: 0.4083\n",
      "Epoch 5/20\n",
      "3/3 [==============================] - 0s 30ms/step - loss: 0.4925 - val_loss: 0.3067\n",
      "Epoch 6/20\n",
      "3/3 [==============================] - 0s 30ms/step - loss: 0.4123 - val_loss: 0.2165\n",
      "Epoch 7/20\n",
      "3/3 [==============================] - 0s 31ms/step - loss: 0.2860 - val_loss: 0.1452\n",
      "Epoch 8/20\n",
      "3/3 [==============================] - 0s 32ms/step - loss: 0.1899 - val_loss: 0.0894\n",
      "Epoch 9/20\n",
      "3/3 [==============================] - 0s 29ms/step - loss: 0.1118 - val_loss: 0.0508\n",
      "Epoch 10/20\n",
      "3/3 [==============================] - 0s 30ms/step - loss: 0.0706 - val_loss: 0.0390\n",
      "Epoch 11/20\n",
      "3/3 [==============================] - 0s 31ms/step - loss: 0.0477 - val_loss: 0.0376\n",
      "Epoch 12/20\n",
      "3/3 [==============================] - 0s 30ms/step - loss: 0.0459 - val_loss: 0.0401\n",
      "Epoch 13/20\n",
      "3/3 [==============================] - 0s 29ms/step - loss: 0.0400 - val_loss: 0.0430\n",
      "Epoch 14/20\n",
      "3/3 [==============================] - 0s 32ms/step - loss: 0.0398 - val_loss: 0.0375\n",
      "Epoch 15/20\n",
      "3/3 [==============================] - 0s 34ms/step - loss: 0.0507 - val_loss: 0.0387\n",
      "Epoch 16/20\n",
      "3/3 [==============================] - 0s 36ms/step - loss: 0.0463 - val_loss: 0.0371\n",
      "Epoch 17/20\n",
      "3/3 [==============================] - 0s 37ms/step - loss: 0.0400 - val_loss: 0.0380\n",
      "Epoch 18/20\n",
      "3/3 [==============================] - 0s 38ms/step - loss: 0.0423 - val_loss: 0.0412\n",
      "Epoch 19/20\n",
      "3/3 [==============================] - 0s 36ms/step - loss: 0.0428 - val_loss: 0.0395\n",
      "Epoch 20/20\n",
      "3/3 [==============================] - 0s 39ms/step - loss: 0.0475 - val_loss: 0.0363\n",
      "Training NLY\n",
      "(191, 60, 1) (191,)\n",
      "Epoch 1/20\n",
      "3/3 [==============================] - 0s 61ms/step - loss: 0.0408 - val_loss: 0.0852\n",
      "Epoch 2/20\n",
      "3/3 [==============================] - 0s 39ms/step - loss: 0.0380 - val_loss: 0.0897\n",
      "Epoch 3/20\n",
      "3/3 [==============================] - 0s 39ms/step - loss: 0.0394 - val_loss: 0.1036\n",
      "Epoch 4/20\n",
      "3/3 [==============================] - 0s 36ms/step - loss: 0.0385 - val_loss: 0.0775\n",
      "Epoch 5/20\n",
      "3/3 [==============================] - 0s 33ms/step - loss: 0.0319 - val_loss: 0.0954\n",
      "Epoch 6/20\n",
      "3/3 [==============================] - 0s 34ms/step - loss: 0.0329 - val_loss: 0.0761\n",
      "Epoch 7/20\n",
      "3/3 [==============================] - 0s 33ms/step - loss: 0.0375 - val_loss: 0.0732\n",
      "Epoch 8/20\n",
      "3/3 [==============================] - 0s 36ms/step - loss: 0.0366 - val_loss: 0.0769\n",
      "Epoch 9/20\n",
      "3/3 [==============================] - 0s 36ms/step - loss: 0.0384 - val_loss: 0.0702\n",
      "Epoch 10/20\n",
      "3/3 [==============================] - 0s 36ms/step - loss: 0.0303 - val_loss: 0.0776\n",
      "Epoch 11/20\n",
      "3/3 [==============================] - 0s 38ms/step - loss: 0.0333 - val_loss: 0.0739\n",
      "Epoch 12/20\n",
      "3/3 [==============================] - 0s 39ms/step - loss: 0.0370 - val_loss: 0.0867\n",
      "Epoch 13/20\n",
      "3/3 [==============================] - 0s 36ms/step - loss: 0.0358 - val_loss: 0.0637\n",
      "Epoch 14/20\n",
      "3/3 [==============================] - 0s 36ms/step - loss: 0.0282 - val_loss: 0.0787\n",
      "Epoch 15/20\n",
      "3/3 [==============================] - 0s 37ms/step - loss: 0.0280 - val_loss: 0.0653\n",
      "Epoch 16/20\n",
      "3/3 [==============================] - 0s 36ms/step - loss: 0.0271 - val_loss: 0.0682\n",
      "Epoch 17/20\n",
      "3/3 [==============================] - 0s 35ms/step - loss: 0.0263 - val_loss: 0.0621\n",
      "Epoch 18/20\n",
      "3/3 [==============================] - 0s 32ms/step - loss: 0.0256 - val_loss: 0.0717\n",
      "Epoch 19/20\n",
      "3/3 [==============================] - 0s 34ms/step - loss: 0.0351 - val_loss: 0.0777\n",
      "Epoch 20/20\n",
      "3/3 [==============================] - 0s 33ms/step - loss: 0.0243 - val_loss: 0.0471\n",
      "Training NM\n",
      "(191, 60, 1) (191,)\n",
      "Epoch 1/20\n",
      "3/3 [==============================] - 0s 50ms/step - loss: 0.0531 - val_loss: 0.0430\n",
      "Epoch 2/20\n",
      "3/3 [==============================] - 0s 34ms/step - loss: 0.0481 - val_loss: 0.0379\n",
      "Epoch 3/20\n",
      "3/3 [==============================] - 0s 33ms/step - loss: 0.0387 - val_loss: 0.0313\n",
      "Epoch 4/20\n",
      "3/3 [==============================] - 0s 35ms/step - loss: 0.0338 - val_loss: 0.0272\n",
      "Epoch 5/20\n",
      "3/3 [==============================] - 0s 34ms/step - loss: 0.0322 - val_loss: 0.0235\n",
      "Epoch 6/20\n",
      "3/3 [==============================] - 0s 37ms/step - loss: 0.0297 - val_loss: 0.0203\n",
      "Epoch 7/20\n",
      "3/3 [==============================] - 0s 35ms/step - loss: 0.0297 - val_loss: 0.0179\n",
      "Epoch 8/20\n",
      "3/3 [==============================] - 0s 33ms/step - loss: 0.0254 - val_loss: 0.0156\n",
      "Epoch 9/20\n",
      "3/3 [==============================] - 0s 35ms/step - loss: 0.0227 - val_loss: 0.0142\n",
      "Epoch 10/20\n",
      "3/3 [==============================] - 0s 34ms/step - loss: 0.0267 - val_loss: 0.0125\n",
      "Epoch 11/20\n",
      "3/3 [==============================] - 0s 36ms/step - loss: 0.0247 - val_loss: 0.0122\n",
      "Epoch 12/20\n",
      "3/3 [==============================] - 0s 37ms/step - loss: 0.0233 - val_loss: 0.0115\n",
      "Epoch 13/20\n",
      "3/3 [==============================] - 0s 36ms/step - loss: 0.0209 - val_loss: 0.0124\n",
      "Epoch 14/20\n",
      "3/3 [==============================] - 0s 38ms/step - loss: 0.0223 - val_loss: 0.0126\n",
      "Epoch 15/20\n",
      "3/3 [==============================] - 0s 38ms/step - loss: 0.0194 - val_loss: 0.0133\n",
      "Epoch 16/20\n",
      "3/3 [==============================] - 0s 38ms/step - loss: 0.0203 - val_loss: 0.0108\n",
      "Epoch 17/20\n",
      "3/3 [==============================] - 0s 41ms/step - loss: 0.0217 - val_loss: 0.0113\n",
      "Epoch 18/20\n",
      "3/3 [==============================] - 0s 32ms/step - loss: 0.0226 - val_loss: 0.0108\n",
      "Epoch 19/20\n",
      "3/3 [==============================] - 0s 31ms/step - loss: 0.0199 - val_loss: 0.0125\n",
      "Epoch 20/20\n",
      "3/3 [==============================] - 0s 29ms/step - loss: 0.0190 - val_loss: 0.0108\n",
      "Training NMZ\n",
      "(191, 60, 1) (191,)\n",
      "Epoch 1/20\n",
      "3/3 [==============================] - 0s 54ms/step - loss: 0.0274 - val_loss: 0.0371\n",
      "Epoch 2/20\n",
      "3/3 [==============================] - 0s 39ms/step - loss: 0.0183 - val_loss: 0.0366\n",
      "Epoch 3/20\n",
      "3/3 [==============================] - 0s 40ms/step - loss: 0.0220 - val_loss: 0.0365\n",
      "Epoch 4/20\n",
      "3/3 [==============================] - 0s 38ms/step - loss: 0.0197 - val_loss: 0.0367\n",
      "Epoch 5/20\n",
      "3/3 [==============================] - 0s 38ms/step - loss: 0.0186 - val_loss: 0.0347\n",
      "Epoch 6/20\n",
      "3/3 [==============================] - 0s 30ms/step - loss: 0.0194 - val_loss: 0.0334\n",
      "Epoch 7/20\n",
      "3/3 [==============================] - 0s 30ms/step - loss: 0.0230 - val_loss: 0.0329\n",
      "Epoch 8/20\n",
      "3/3 [==============================] - 0s 34ms/step - loss: 0.0201 - val_loss: 0.0330\n",
      "Epoch 9/20\n",
      "3/3 [==============================] - 0s 32ms/step - loss: 0.0251 - val_loss: 0.0324\n",
      "Epoch 10/20\n",
      "3/3 [==============================] - 0s 32ms/step - loss: 0.0269 - val_loss: 0.0357\n",
      "Epoch 11/20\n",
      "3/3 [==============================] - 0s 31ms/step - loss: 0.0161 - val_loss: 0.0366\n",
      "Epoch 12/20\n",
      "3/3 [==============================] - 0s 30ms/step - loss: 0.0240 - val_loss: 0.0319\n",
      "Epoch 13/20\n",
      "3/3 [==============================] - 0s 30ms/step - loss: 0.0206 - val_loss: 0.0333\n",
      "Epoch 14/20\n",
      "3/3 [==============================] - 0s 31ms/step - loss: 0.0188 - val_loss: 0.0357\n",
      "Epoch 15/20\n",
      "3/3 [==============================] - 0s 34ms/step - loss: 0.0213 - val_loss: 0.0316\n",
      "Epoch 16/20\n",
      "3/3 [==============================] - 0s 34ms/step - loss: 0.0159 - val_loss: 0.0343\n",
      "Epoch 17/20\n",
      "3/3 [==============================] - 0s 35ms/step - loss: 0.0196 - val_loss: 0.0345\n",
      "Epoch 18/20\n",
      "3/3 [==============================] - 0s 30ms/step - loss: 0.0198 - val_loss: 0.0333\n",
      "Epoch 19/20\n",
      "3/3 [==============================] - 0s 32ms/step - loss: 0.0164 - val_loss: 0.0305\n",
      "Epoch 20/20\n",
      "3/3 [==============================] - 0s 33ms/step - loss: 0.0169 - val_loss: 0.0305\n",
      "Training NMY\n",
      "(191, 60, 1) (191,)\n",
      "Epoch 1/20\n",
      "3/3 [==============================] - 0s 44ms/step - loss: 0.0262 - val_loss: 0.0215\n",
      "Epoch 2/20\n",
      "3/3 [==============================] - 0s 30ms/step - loss: 0.0258 - val_loss: 0.0164\n",
      "Epoch 3/20\n"
     ]
    },
    {
     "name": "stdout",
     "output_type": "stream",
     "text": [
      "3/3 [==============================] - 0s 33ms/step - loss: 0.0244 - val_loss: 0.0171\n",
      "Epoch 4/20\n",
      "3/3 [==============================] - 0s 35ms/step - loss: 0.0250 - val_loss: 0.0202\n",
      "Epoch 5/20\n",
      "3/3 [==============================] - 0s 35ms/step - loss: 0.0207 - val_loss: 0.0145\n",
      "Epoch 6/20\n",
      "3/3 [==============================] - 0s 36ms/step - loss: 0.0258 - val_loss: 0.0127\n",
      "Epoch 7/20\n",
      "3/3 [==============================] - 0s 35ms/step - loss: 0.0279 - val_loss: 0.0167\n",
      "Epoch 8/20\n",
      "3/3 [==============================] - 0s 38ms/step - loss: 0.0221 - val_loss: 0.0184\n",
      "Epoch 9/20\n",
      "3/3 [==============================] - 0s 35ms/step - loss: 0.0269 - val_loss: 0.0158\n",
      "Epoch 10/20\n",
      "3/3 [==============================] - 0s 40ms/step - loss: 0.0244 - val_loss: 0.0130\n",
      "Epoch 11/20\n",
      "3/3 [==============================] - 0s 40ms/step - loss: 0.0227 - val_loss: 0.0192\n"
     ]
    }
   ],
   "source": [
    "# Training multi symbols model\n",
    "model = make_gru_network()\n",
    "model.compile(optimizer='rmsprop', loss='mean_squared_error')\n",
    "\n",
    "for s in train_set:\n",
    "    print (\"Training {}\".format(s))\n",
    "    X_train, Y_train = np.array(train_set[s]['x']), np.array(train_set[s]['y'])\n",
    "    X_train = X_train.reshape(X_train.shape[0], X_train.shape[1], X_train.shape[2])\n",
    "    Y_train = Y_train.reshape(Y_train.shape[0])\n",
    "\n",
    "    print(X_train.shape, Y_train.shape)\n",
    "    model_history= model.fit(X_train, Y_train, epochs = 20, batch_size = 60, \n",
    "                                    validation_split = 0.3,callbacks=[es])"
   ]
  },
  {
   "cell_type": "code",
   "execution_count": 48,
   "metadata": {},
   "outputs": [
    {
     "data": {
      "image/png": "[encoded data removed]",
      "text/plain": [
       "<Figure size 432x288 with 1 Axes>"
      ]
     },
     "metadata": {},
     "output_type": "display_data"
    }
   ],
   "source": [
    "# Plotting validation val loss and loss\n",
    "plt.plot(model_history.history['val_loss'])\n",
    "plt.plot(model_history.history['loss'])\n",
    "plt.ylabel('loss')\n",
    "plt.xlabel('epoch')\n",
    "plt.title('Loss graph of {}'.format(s))\n",
    "plt.show()"
   ]
  },
  {
   "cell_type": "markdown",
   "metadata": {},
   "source": [
    "<b>Testing method 1</b>"
   ]
  },
  {
   "cell_type": "code",
   "execution_count": 49,
   "metadata": {},
   "outputs": [],
   "source": [
    "# Test a particular symbol by using Test data\n",
    "s = \"NLY\"\n",
    "test_close_values = stocks_data.loc[stocks_data['ticker'] == s][['close']].values"
   ]
  },
  {
   "cell_type": "code",
   "execution_count": 50,
   "metadata": {},
   "outputs": [],
   "source": [
    "def make_test_set(s, data):\n",
    "    l = len(data)\n",
    "    scaler = []\n",
    "    test_set = {'x':[], 'y':[]}\n",
    "    y_true = []\n",
    "    \n",
    "    for i in range(timesteps, l):\n",
    "        x = data[i-timesteps: i, 0]\n",
    "        y = data[i,0]\n",
    "        y_true.append(y)\n",
    "\n",
    "        x = x.reshape(-1,1)\n",
    "        y = y.reshape(-1,1)\n",
    "\n",
    "        sc = MinMaxScaler(feature_range=(0,1))\n",
    "        sc.partial_fit(x)\n",
    "        sc.partial_fit(y)\n",
    "\n",
    "        scaler.append(sc)\n",
    "\n",
    "        test_set['x'].append(sc.transform(x))\n",
    "        test_set['y'].append(sc.transform(y))\n",
    "        \n",
    "    return test_set, y_true, scaler"
   ]
  },
  {
   "cell_type": "code",
   "execution_count": 51,
   "metadata": {},
   "outputs": [],
   "source": [
    "def make_prediction(s, data):\n",
    "    test_set, y_true, scaler = make_test_set(s, data)\n",
    "    X_test = np.array(test_set['x'])\n",
    "    X_test = X_test.reshape(X_test.shape[0], X_test.shape[1], X_test.shape[2])\n",
    "    result = model.predict(X_test)\n",
    "    y_pred = []\n",
    "    for i in range(0,len(result)):\n",
    "        y = result[i]\n",
    "        y = y.reshape(-1,1)\n",
    "        k = scaler[i].inverse_transform(y)\n",
    "        y_pred.append(k[0][0])\n",
    "    return y_true, y_pred"
   ]
  },
  {
   "cell_type": "code",
   "execution_count": 52,
   "metadata": {},
   "outputs": [],
   "source": [
    "y_true, y_pred = make_prediction(s, test_close_values)"
   ]
  },
  {
   "cell_type": "code",
   "execution_count": 53,
   "metadata": {},
   "outputs": [
    {
     "data": {
      "text/plain": [
       "[11.10924,\n",
       " 11.061126,\n",
       " 11.023451,\n",
       " 11.007016,\n",
       " 11.038909,\n",
       " 11.108176,\n",
       " 11.165342,\n",
       " 11.200166,\n",
       " 11.242704,\n",
       " 11.30423,\n",
       " 11.366861,\n",
       " 11.440042,\n",
       " 11.525665,\n",
       " 11.594816,\n",
       " 11.610935,\n",
       " 11.594823,\n",
       " 11.59274,\n",
       " 11.594804,\n",
       " 11.592412,\n",
       " 11.603185,\n",
       " 11.6835575,\n",
       " 11.707916,\n",
       " 11.717787,\n",
       " 11.666686,\n",
       " 11.5521345,\n",
       " 11.441834,\n",
       " 11.395613,\n",
       " 11.359702,\n",
       " 11.276967,\n",
       " 11.226476,\n",
       " 11.213561,\n",
       " 11.240914,\n",
       " 11.277486,\n",
       " 11.3054285,\n",
       " 11.363065,\n",
       " 11.399091,\n",
       " 11.431797,\n",
       " 11.490251,\n",
       " 11.55757,\n",
       " 11.63275,\n",
       " 11.689379,\n",
       " 11.726592,\n",
       " 11.73424,\n",
       " 11.790104,\n",
       " 11.856771,\n",
       " 11.900597,\n",
       " 11.893555,\n",
       " 11.884602,\n",
       " 11.901349,\n",
       " 11.959083,\n",
       " 11.995576,\n",
       " 12.02682,\n",
       " 12.055566,\n",
       " 12.109471,\n",
       " 12.174473,\n",
       " 12.227717,\n",
       " 12.286549,\n",
       " 12.297731,\n",
       " 12.288934,\n",
       " 12.304954,\n",
       " 12.368787,\n",
       " 12.445734,\n",
       " 12.398273,\n",
       " 12.244059,\n",
       " 12.066945,\n",
       " 11.96554,\n",
       " 11.987283,\n",
       " 12.066402,\n",
       " 12.118181,\n",
       " 12.096549,\n",
       " 12.10071,\n",
       " 12.131256,\n",
       " 12.183224,\n",
       " 12.174875,\n",
       " 12.194899,\n",
       " 12.196139,\n",
       " 12.0293,\n",
       " 11.858243,\n",
       " 11.745573,\n",
       " 11.729159,\n",
       " 11.769444,\n",
       " 11.78736,\n",
       " 11.799008,\n",
       " 11.827108,\n",
       " 11.862689,\n",
       " 11.91964,\n",
       " 11.981871,\n",
       " 12.052598,\n",
       " 12.101164,\n",
       " 12.07249,\n",
       " 12.053281,\n",
       " 12.075428,\n",
       " 12.15374,\n",
       " 12.211255,\n",
       " 12.222896,\n",
       " 12.245032,\n",
       " 12.266025,\n",
       " 12.286665,\n",
       " 12.2952175,\n",
       " 12.296522,\n",
       " 12.30361,\n",
       " 12.339309,\n",
       " 12.353518,\n",
       " 12.383076,\n",
       " 12.374776,\n",
       " 12.370784,\n",
       " 12.343521,\n",
       " 12.313524,\n",
       " 12.34591,\n",
       " 12.377881,\n",
       " 12.353992,\n",
       " 12.330976,\n",
       " 12.307748,\n",
       " 12.295771,\n",
       " 12.315222,\n",
       " 12.34673,\n",
       " 12.289954,\n",
       " 12.236119,\n",
       " 12.23897,\n",
       " 12.2695265,\n",
       " 12.315716,\n",
       " 12.325359,\n",
       " 12.31988,\n",
       " 12.339323,\n",
       " 12.37286,\n",
       " 12.420251,\n",
       " 12.4342785,\n",
       " 12.346863,\n",
       " 12.240204,\n",
       " 12.19642,\n",
       " 12.20169,\n",
       " 12.230083,\n",
       " 12.274243,\n",
       " 12.2246895,\n",
       " 12.16103,\n",
       " 12.094886,\n",
       " 12.050838,\n",
       " 12.063555,\n",
       " 12.115798,\n",
       " 12.173569,\n",
       " 12.235494,\n",
       " 12.277509,\n",
       " 12.319588,\n",
       " 12.318326,\n",
       " 12.246188,\n",
       " 12.12596,\n",
       " 11.950906,\n",
       " 11.756986,\n",
       " 11.636141,\n",
       " 11.566635,\n",
       " 11.521092,\n",
       " 11.487419,\n",
       " 11.432413,\n",
       " 11.340315,\n",
       " 11.239487,\n",
       " 11.2058325,\n",
       " 11.23552,\n",
       " 11.262681,\n",
       " 11.278501,\n",
       " 11.32201,\n",
       " 11.396233,\n",
       " 11.431646,\n",
       " 11.461744,\n",
       " 11.487501,\n",
       " 11.5707035,\n",
       " 11.679823,\n",
       " 11.78071,\n",
       " 11.815703,\n",
       " 11.801199,\n",
       " 11.783769,\n",
       " 11.761202,\n",
       " 11.712428,\n",
       " 11.708362,\n",
       " 11.782795,\n",
       " 11.857684,\n",
       " 11.899072,\n",
       " 11.925325,\n",
       " 11.910898,\n",
       " 11.91017,\n",
       " 11.93737,\n",
       " 11.984348,\n",
       " 12.034525,\n",
       " 12.093637,\n",
       " 12.114164,\n",
       " 12.001925,\n",
       " 11.902456,\n",
       " 11.8821,\n",
       " 11.904874,\n",
       " 11.942109,\n",
       " 11.9787655,\n",
       " 11.975782]"
      ]
     },
     "execution_count": 53,
     "metadata": {},
     "output_type": "execute_result"
    }
   ],
   "source": [
    "y_pred"
   ]
  },
  {
   "cell_type": "code",
   "execution_count": 54,
   "metadata": {},
   "outputs": [
    {
     "data": {
      "image/png": "[encoded data removed]",
      "text/plain": [
       "<Figure size 432x288 with 1 Axes>"
      ]
     },
     "metadata": {},
     "output_type": "display_data"
    }
   ],
   "source": [
    "# Plotting actual vs predicted values\n",
    "plt.plot(y_true, color='green', label='Actual value')\n",
    "plt.plot(y_pred, color='red', label='Predicted value')\n",
    "plt.xlabel('Time steps')\n",
    "plt.ylabel('Close value')\n",
    "plt.title('Close values of {}'.format(s))\n",
    "plt.legend()\n",
    "plt.show()"
   ]
  },
  {
   "cell_type": "markdown",
   "metadata": {},
   "source": [
    "<b>Testing method 2 </b>"
   ]
  },
  {
   "cell_type": "code",
   "execution_count": 55,
   "metadata": {},
   "outputs": [],
   "source": [
    "# Take 60 real values\n",
    "stocks_data_value = test_close_values[0:60]"
   ]
  },
  {
   "cell_type": "code",
   "execution_count": 56,
   "metadata": {},
   "outputs": [],
   "source": [
    "# Make prediction by using predicted values or combination of real values and predicted values\n",
    "def make_prediction_2(stocks_data, all_data):\n",
    "    stocks_data.reshape(-1,1)\n",
    "    sc = MinMaxScaler(feature_range=(0,1))\n",
    "    X_test = np.array(sc.fit_transform(stocks_data))\n",
    "    X_test = X_test.reshape(1, X_test.shape[0], X_test.shape[1])\n",
    "    result = model.predict(X_test)\n",
    "    for i in range(0,len(result)):\n",
    "        y = result[i]\n",
    "        y = y.reshape(-1,1)\n",
    "        k = sc.inverse_transform(y)\n",
    "        y_pred = k[0][0]\n",
    "        \n",
    "    all_data.append(y_pred)\n",
    "    if len(all_data) == len(test_close_values) - timesteps:\n",
    "        return all_data\n",
    "    else:\n",
    "        new_test_data = np.append(np.delete(stocks_data,0), [y_pred]).reshape(-1,1)\n",
    "        return make_prediction_2(new_test_data, all_data)"
   ]
  },
  {
   "cell_type": "code",
   "execution_count": 57,
   "metadata": {},
   "outputs": [],
   "source": [
    "y_pred_2 = make_prediction_2(stocks_data_value, [])"
   ]
  },
  {
   "cell_type": "code",
   "execution_count": 58,
   "metadata": {},
   "outputs": [
    {
     "data": {
      "text/plain": [
       "[11.10924,\n",
       " 11.060863,\n",
       " 11.006337,\n",
       " 10.951499,\n",
       " 10.899177,\n",
       " 10.850559,\n",
       " 10.8063135,\n",
       " 10.766688,\n",
       " 10.731627,\n",
       " 10.700891,\n",
       " 10.674127,\n",
       " 10.650939,\n",
       " 10.635395,\n",
       " 10.626139,\n",
       " 10.614977,\n",
       " 10.606715,\n",
       " 10.600322,\n",
       " 10.595277,\n",
       " 10.591257,\n",
       " 10.588035,\n",
       " 10.586486,\n",
       " 10.5909605,\n",
       " 10.593466,\n",
       " 10.604763,\n",
       " 10.612863,\n",
       " 10.622899,\n",
       " 10.631305,\n",
       " 10.640013,\n",
       " 10.648505,\n",
       " 10.656578,\n",
       " 10.667977,\n",
       " 10.684228,\n",
       " 10.694274,\n",
       " 10.704843,\n",
       " 10.715136,\n",
       " 10.724882,\n",
       " 10.733987,\n",
       " 10.742425,\n",
       " 10.750198,\n",
       " 10.757324,\n",
       " 10.76383,\n",
       " 10.769749,\n",
       " 10.775116,\n",
       " 10.77997,\n",
       " 10.784349,\n",
       " 10.788291,\n",
       " 10.791832,\n",
       " 10.795007,\n",
       " 10.797849,\n",
       " 10.800389,\n",
       " 10.802656,\n",
       " 10.804677,\n",
       " 10.806477,\n",
       " 10.808077,\n",
       " 10.809499,\n",
       " 10.810761,\n",
       " 10.811881,\n",
       " 10.812874,\n",
       " 10.813753,\n",
       " 10.8051815,\n",
       " 10.802547,\n",
       " 10.796641,\n",
       " 10.789185,\n",
       " 10.780391,\n",
       " 10.770372,\n",
       " 10.759238,\n",
       " 10.7476635,\n",
       " 10.737942,\n",
       " 10.728565,\n",
       " 10.719922,\n",
       " 10.712128,\n",
       " 10.7052,\n",
       " 10.699104,\n",
       " 10.693783,\n",
       " 10.689163,\n",
       " 10.685169,\n",
       " 10.6817255,\n",
       " 10.6787615,\n",
       " 10.676212,\n",
       " 10.674021,\n",
       " 10.672137,\n",
       " 10.670999,\n",
       " 10.67001,\n",
       " 10.670278,\n",
       " 10.670736,\n",
       " 10.671893,\n",
       " 10.673373,\n",
       " 10.675303,\n",
       " 10.677577,\n",
       " 10.680121,\n",
       " 10.683234,\n",
       " 10.685774,\n",
       " 10.688243,\n",
       " 10.690665,\n",
       " 10.692975,\n",
       " 10.695145,\n",
       " 10.697168,\n",
       " 10.699041,\n",
       " 10.700767,\n",
       " 10.702349,\n",
       " 10.7037945,\n",
       " 10.7051115,\n",
       " 10.706307,\n",
       " 10.70739,\n",
       " 10.708366,\n",
       " 10.709249,\n",
       " 10.71004,\n",
       " 10.710752,\n",
       " 10.711389,\n",
       " 10.711959,\n",
       " 10.712469,\n",
       " 10.712924,\n",
       " 10.713329,\n",
       " 10.71369,\n",
       " 10.714011,\n",
       " 10.714296,\n",
       " 10.71455,\n",
       " 10.714774,\n",
       " 10.7149725,\n",
       " 10.714728,\n",
       " 10.714635,\n",
       " 10.714274,\n",
       " 10.713709,\n",
       " 10.712915,\n",
       " 10.711868,\n",
       " 10.710541,\n",
       " 10.708937,\n",
       " 10.707162,\n",
       " 10.705162,\n",
       " 10.702978,\n",
       " 10.7008505,\n",
       " 10.698999,\n",
       " 10.69724,\n",
       " 10.695629,\n",
       " 10.694183,\n",
       " 10.692903,\n",
       " 10.691777,\n",
       " 10.690797,\n",
       " 10.689946,\n",
       " 10.689211,\n",
       " 10.688577,\n",
       " 10.68803,\n",
       " 10.68756,\n",
       " 10.687185,\n",
       " 10.686895,\n",
       " 10.686746,\n",
       " 10.686712,\n",
       " 10.686819,\n",
       " 10.687064,\n",
       " 10.687446,\n",
       " 10.687991,\n",
       " 10.688588,\n",
       " 10.689125,\n",
       " 10.689628,\n",
       " 10.690135,\n",
       " 10.690627,\n",
       " 10.691093,\n",
       " 10.691531,\n",
       " 10.69194,\n",
       " 10.692318,\n",
       " 10.692666,\n",
       " 10.692986,\n",
       " 10.693278,\n",
       " 10.693544,\n",
       " 10.693786,\n",
       " 10.694005,\n",
       " 10.694202,\n",
       " 10.694381,\n",
       " 10.694541,\n",
       " 10.694686,\n",
       " 10.694815,\n",
       " 10.69493,\n",
       " 10.695034,\n",
       " 10.695127,\n",
       " 10.695209,\n",
       " 10.695281,\n",
       " 10.695347,\n",
       " 10.695405,\n",
       " 10.6954565,\n",
       " 10.69549,\n",
       " 10.695522,\n",
       " 10.695534,\n",
       " 10.695526,\n",
       " 10.695493,\n",
       " 10.695429,\n",
       " 10.695329,\n",
       " 10.695187,\n",
       " 10.695001,\n",
       " 10.694765,\n",
       " 10.694475,\n",
       " 10.6941395]"
      ]
     },
     "execution_count": 58,
     "metadata": {},
     "output_type": "execute_result"
    }
   ],
   "source": [
    "y_pred_2"
   ]
  },
  {
   "cell_type": "code",
   "execution_count": 63,
   "metadata": {},
   "outputs": [
    {
     "name": "stdout",
     "output_type": "stream",
     "text": [
      "Test Score: 0.02 MSE\n"
     ]
    }
   ],
   "source": [
    "from sklearn.metrics import mean_squared_error\n",
    "# Calculate RMSE\n",
    "\n",
    "testScore = mean_squared_error(y_true, y_pred)\n",
    "print('Test Score: %.2f MSE' % (testScore))"
   ]
  },
  {
   "cell_type": "markdown",
   "metadata": {},
   "source": [
    "### Conclusion"
   ]
  },
  {
   "cell_type": "markdown",
   "metadata": {},
   "source": [
    "#### Comparation of predicted values by testing method 1, 2 and actual values"
   ]
  },
  {
   "cell_type": "code",
   "execution_count": 69,
   "metadata": {},
   "outputs": [
    {
     "data": {
      "image/png": "[encoded data removed]",
      "text/plain": [
       "<Figure size 432x288 with 1 Axes>"
      ]
     },
     "metadata": {},
     "output_type": "display_data"
    }
   ],
   "source": [
    "# Plotting graph\n",
    "plt.plot(y_pred, color='red', label='Predicted value method 1')\n",
    "plt.plot(y_pred_2, color='blue', label='Predicted value method 2')\n",
    "plt.plot(y_true, color='green', label='Actual value')\n",
    "plt.xlabel('Time steps')\n",
    "plt.ylabel('close value')\n",
    "plt.title('Close values of {}'.format(s))\n",
    "plt.legend()\n",
    "plt.show()"
   ]
  },
  {
   "cell_type": "markdown",
   "metadata": {},
   "source": [
    "----"
   ]
  },
  {
   "cell_type": "markdown",
   "metadata": {},
   "source": [
    "## Decision Tree Regressor"
   ]
  },
  {
   "cell_type": "code",
   "execution_count": 65,
   "metadata": {},
   "outputs": [],
   "source": [
    "import matplotlib.pyplot as plt\n",
    "from sklearn.tree import DecisionTreeRegressor # Our Decision Tree classifier"
   ]
  },
  {
   "cell_type": "markdown",
   "metadata": {},
   "source": [
    "#### EDA for Decision Tree Regressor"
   ]
  },
  {
   "cell_type": "code",
   "execution_count": 66,
   "metadata": {},
   "outputs": [
    {
     "data": {
      "text/html": [
       "<div>\n",
       "<style scoped>\n",
       "    .dataframe tbody tr th:only-of-type {\n",
       "        vertical-align: middle;\n",
       "    }\n",
       "\n",
       "    .dataframe tbody tr th {\n",
       "        vertical-align: top;\n",
       "    }\n",
       "\n",
       "    .dataframe thead th {\n",
       "        text-align: right;\n",
       "    }\n",
       "</style>\n",
       "<table border=\"1\" class=\"dataframe\">\n",
       "  <thead>\n",
       "    <tr style=\"text-align: right;\">\n",
       "      <th></th>\n",
       "      <th>ticker</th>\n",
       "      <th>open</th>\n",
       "      <th>close</th>\n",
       "      <th>adj_close</th>\n",
       "      <th>low</th>\n",
       "      <th>high</th>\n",
       "      <th>volume</th>\n",
       "      <th>date</th>\n",
       "    </tr>\n",
       "  </thead>\n",
       "  <tbody>\n",
       "    <tr>\n",
       "      <th>6807</th>\n",
       "      <td>CRCM</td>\n",
       "      <td>8.59</td>\n",
       "      <td>8.37</td>\n",
       "      <td>8.37</td>\n",
       "      <td>8.18</td>\n",
       "      <td>8.60</td>\n",
       "      <td>107500</td>\n",
       "      <td>2017-01-03</td>\n",
       "    </tr>\n",
       "    <tr>\n",
       "      <th>6813</th>\n",
       "      <td>CRCM</td>\n",
       "      <td>8.42</td>\n",
       "      <td>8.61</td>\n",
       "      <td>8.61</td>\n",
       "      <td>8.39</td>\n",
       "      <td>8.65</td>\n",
       "      <td>85500</td>\n",
       "      <td>2017-01-04</td>\n",
       "    </tr>\n",
       "    <tr>\n",
       "      <th>6827</th>\n",
       "      <td>CRCM</td>\n",
       "      <td>8.59</td>\n",
       "      <td>8.55</td>\n",
       "      <td>8.55</td>\n",
       "      <td>8.38</td>\n",
       "      <td>8.62</td>\n",
       "      <td>67000</td>\n",
       "      <td>2017-01-05</td>\n",
       "    </tr>\n",
       "    <tr>\n",
       "      <th>6835</th>\n",
       "      <td>CRCM</td>\n",
       "      <td>8.81</td>\n",
       "      <td>8.69</td>\n",
       "      <td>8.69</td>\n",
       "      <td>8.50</td>\n",
       "      <td>8.81</td>\n",
       "      <td>136600</td>\n",
       "      <td>2017-01-06</td>\n",
       "    </tr>\n",
       "    <tr>\n",
       "      <th>6849</th>\n",
       "      <td>CRCM</td>\n",
       "      <td>8.64</td>\n",
       "      <td>8.70</td>\n",
       "      <td>8.70</td>\n",
       "      <td>8.60</td>\n",
       "      <td>8.77</td>\n",
       "      <td>71800</td>\n",
       "      <td>2017-01-09</td>\n",
       "    </tr>\n",
       "    <tr>\n",
       "      <th>6855</th>\n",
       "      <td>CRCM</td>\n",
       "      <td>8.68</td>\n",
       "      <td>8.61</td>\n",
       "      <td>8.61</td>\n",
       "      <td>8.57</td>\n",
       "      <td>8.89</td>\n",
       "      <td>50600</td>\n",
       "      <td>2017-01-10</td>\n",
       "    </tr>\n",
       "    <tr>\n",
       "      <th>6869</th>\n",
       "      <td>CRCM</td>\n",
       "      <td>8.74</td>\n",
       "      <td>8.47</td>\n",
       "      <td>8.47</td>\n",
       "      <td>8.38</td>\n",
       "      <td>8.74</td>\n",
       "      <td>131200</td>\n",
       "      <td>2017-01-11</td>\n",
       "    </tr>\n",
       "    <tr>\n",
       "      <th>6876</th>\n",
       "      <td>CRCM</td>\n",
       "      <td>8.42</td>\n",
       "      <td>8.44</td>\n",
       "      <td>8.44</td>\n",
       "      <td>8.35</td>\n",
       "      <td>8.54</td>\n",
       "      <td>75200</td>\n",
       "      <td>2017-01-12</td>\n",
       "    </tr>\n",
       "    <tr>\n",
       "      <th>6891</th>\n",
       "      <td>CRCM</td>\n",
       "      <td>8.44</td>\n",
       "      <td>8.45</td>\n",
       "      <td>8.45</td>\n",
       "      <td>8.36</td>\n",
       "      <td>8.70</td>\n",
       "      <td>69300</td>\n",
       "      <td>2017-01-13</td>\n",
       "    </tr>\n",
       "    <tr>\n",
       "      <th>6897</th>\n",
       "      <td>CRCM</td>\n",
       "      <td>8.45</td>\n",
       "      <td>8.40</td>\n",
       "      <td>8.40</td>\n",
       "      <td>8.25</td>\n",
       "      <td>8.59</td>\n",
       "      <td>70300</td>\n",
       "      <td>2017-01-17</td>\n",
       "    </tr>\n",
       "  </tbody>\n",
       "</table>\n",
       "</div>"
      ],
      "text/plain": [
       "     ticker  open  close  adj_close   low  high  volume        date\n",
       "6807   CRCM  8.59   8.37       8.37  8.18  8.60  107500  2017-01-03\n",
       "6813   CRCM  8.42   8.61       8.61  8.39  8.65   85500  2017-01-04\n",
       "6827   CRCM  8.59   8.55       8.55  8.38  8.62   67000  2017-01-05\n",
       "6835   CRCM  8.81   8.69       8.69  8.50  8.81  136600  2017-01-06\n",
       "6849   CRCM  8.64   8.70       8.70  8.60  8.77   71800  2017-01-09\n",
       "6855   CRCM  8.68   8.61       8.61  8.57  8.89   50600  2017-01-10\n",
       "6869   CRCM  8.74   8.47       8.47  8.38  8.74  131200  2017-01-11\n",
       "6876   CRCM  8.42   8.44       8.44  8.35  8.54   75200  2017-01-12\n",
       "6891   CRCM  8.44   8.45       8.45  8.36  8.70   69300  2017-01-13\n",
       "6897   CRCM  8.45   8.40       8.40  8.25  8.59   70300  2017-01-17"
      ]
     },
     "execution_count": 66,
     "metadata": {},
     "output_type": "execute_result"
    }
   ],
   "source": [
    "stocks_data.head(10)\n"
   ]
  },
  {
   "cell_type": "code",
   "execution_count": 67,
   "metadata": {},
   "outputs": [
    {
     "name": "stdout",
     "output_type": "stream",
     "text": [
      "<class 'pandas.core.frame.DataFrame'>\n",
      "Int64Index: 1294034 entries, 6807 to 20973724\n",
      "Data columns (total 8 columns):\n",
      " #   Column     Non-Null Count    Dtype  \n",
      "---  ------     --------------    -----  \n",
      " 0   ticker     1294034 non-null  object \n",
      " 1   open       1294034 non-null  float64\n",
      " 2   close      1294034 non-null  float64\n",
      " 3   adj_close  1294034 non-null  float64\n",
      " 4   low        1294034 non-null  float64\n",
      " 5   high       1294034 non-null  float64\n",
      " 6   volume     1294034 non-null  int64  \n",
      " 7   date       1294034 non-null  object \n",
      "dtypes: float64(5), int64(1), object(2)\n",
      "memory usage: 88.9+ MB\n"
     ]
    }
   ],
   "source": [
    "stocks_data.info()"
   ]
  },
  {
   "cell_type": "code",
   "execution_count": 68,
   "metadata": {},
   "outputs": [
    {
     "data": {
      "image/png": "[encoded data removed]",
      "text/plain": [
       "<Figure size 1152x576 with 1 Axes>"
      ]
     },
     "metadata": {},
     "output_type": "display_data"
    }
   ],
   "source": [
    "# Visualizing the opening prices of the data.\n",
    "plt.figure(figsize=(16,8))\n",
    "plt.title('Ticker')\n",
    "plt.xlabel('Days')\n",
    "plt.ylabel('Opening Price USD ($)')\n",
    "plt.plot(stocks_data['open'])\n",
    "plt.show()"
   ]
  },
  {
   "cell_type": "code",
   "execution_count": 69,
   "metadata": {},
   "outputs": [
    {
     "data": {
      "image/png": "[encoded data removed]",
      "text/plain": [
       "<Figure size 1152x576 with 1 Axes>"
      ]
     },
     "metadata": {},
     "output_type": "display_data"
    }
   ],
   "source": [
    "# Visualizing the high prices of the data.\n",
    "plt.figure(figsize=(16,8))\n",
    "plt.title('Ticker')\n",
    "plt.xlabel('Days')\n",
    "plt.ylabel('High Price USD ($)')\n",
    "plt.plot(stocks_data['high'])\n",
    "plt.show()"
   ]
  },
  {
   "cell_type": "code",
   "execution_count": 70,
   "metadata": {},
   "outputs": [
    {
     "data": {
      "image/png": "[encoded data removed]",
      "text/plain": [
       "<Figure size 1152x576 with 1 Axes>"
      ]
     },
     "metadata": {},
     "output_type": "display_data"
    }
   ],
   "source": [
    "# Visualizing the low prices of the data.\n",
    "plt.figure(figsize=(16,8))\n",
    "plt.title('Ticker')\n",
    "plt.xlabel('Days')\n",
    "plt.ylabel('Low Price USD ($)')\n",
    "plt.plot(stocks_data['low'])\n",
    "plt.show()"
   ]
  },
  {
   "cell_type": "code",
   "execution_count": 71,
   "metadata": {},
   "outputs": [
    {
     "data": {
      "image/png": "[encoded data removed]",
      "text/plain": [
       "<Figure size 1152x576 with 1 Axes>"
      ]
     },
     "metadata": {},
     "output_type": "display_data"
    }
   ],
   "source": [
    "# Visualizing the closing prices of the data.\n",
    "plt.figure(figsize=(16,8))\n",
    "plt.title('Ticker')\n",
    "plt.xlabel('Days')\n",
    "plt.ylabel('Closing Price USD ($)')\n",
    "plt.plot(stocks_data['close'])\n",
    "plt.show()"
   ]
  },
  {
   "cell_type": "code",
   "execution_count": 72,
   "metadata": {},
   "outputs": [],
   "source": [
    "stock_dataFrame = stocks_data['close']"
   ]
  },
  {
   "cell_type": "code",
   "execution_count": 73,
   "metadata": {},
   "outputs": [
    {
     "data": {
      "text/plain": [
       "20973720    15.00\n",
       "20973721    15.04\n",
       "20973722    15.13\n",
       "20973723    15.23\n",
       "20973724    15.24\n",
       "Name: close, dtype: float64"
      ]
     },
     "execution_count": 73,
     "metadata": {},
     "output_type": "execute_result"
    }
   ],
   "source": [
    "stock_dataFrame.tail()"
   ]
  },
  {
   "cell_type": "code",
   "execution_count": 74,
   "metadata": {},
   "outputs": [],
   "source": [
    "stock_dataFrame = pd.DataFrame(stock_dataFrame)    "
   ]
  },
  {
   "cell_type": "code",
   "execution_count": 75,
   "metadata": {},
   "outputs": [
    {
     "data": {
      "text/html": [
       "<div>\n",
       "<style scoped>\n",
       "    .dataframe tbody tr th:only-of-type {\n",
       "        vertical-align: middle;\n",
       "    }\n",
       "\n",
       "    .dataframe tbody tr th {\n",
       "        vertical-align: top;\n",
       "    }\n",
       "\n",
       "    .dataframe thead th {\n",
       "        text-align: right;\n",
       "    }\n",
       "</style>\n",
       "<table border=\"1\" class=\"dataframe\">\n",
       "  <thead>\n",
       "    <tr style=\"text-align: right;\">\n",
       "      <th></th>\n",
       "      <th>close</th>\n",
       "    </tr>\n",
       "  </thead>\n",
       "  <tbody>\n",
       "    <tr>\n",
       "      <th>20973720</th>\n",
       "      <td>15.00</td>\n",
       "    </tr>\n",
       "    <tr>\n",
       "      <th>20973721</th>\n",
       "      <td>15.04</td>\n",
       "    </tr>\n",
       "    <tr>\n",
       "      <th>20973722</th>\n",
       "      <td>15.13</td>\n",
       "    </tr>\n",
       "    <tr>\n",
       "      <th>20973723</th>\n",
       "      <td>15.23</td>\n",
       "    </tr>\n",
       "    <tr>\n",
       "      <th>20973724</th>\n",
       "      <td>15.24</td>\n",
       "    </tr>\n",
       "  </tbody>\n",
       "</table>\n",
       "</div>"
      ],
      "text/plain": [
       "          close\n",
       "20973720  15.00\n",
       "20973721  15.04\n",
       "20973722  15.13\n",
       "20973723  15.23\n",
       "20973724  15.24"
      ]
     },
     "execution_count": 75,
     "metadata": {},
     "output_type": "execute_result"
    }
   ],
   "source": [
    "stock_dataFrame.tail()"
   ]
  },
  {
   "cell_type": "code",
   "execution_count": 76,
   "metadata": {},
   "outputs": [],
   "source": [
    "# Prediction 100 days into the future.\n",
    "futureDays = 100\n",
    "stock_dataFrame['Prediction'] = stock_dataFrame['close'].shift(-futureDays)\n"
   ]
  },
  {
   "cell_type": "code",
   "execution_count": 77,
   "metadata": {},
   "outputs": [
    {
     "data": {
      "text/html": [
       "<div>\n",
       "<style scoped>\n",
       "    .dataframe tbody tr th:only-of-type {\n",
       "        vertical-align: middle;\n",
       "    }\n",
       "\n",
       "    .dataframe tbody tr th {\n",
       "        vertical-align: top;\n",
       "    }\n",
       "\n",
       "    .dataframe thead th {\n",
       "        text-align: right;\n",
       "    }\n",
       "</style>\n",
       "<table border=\"1\" class=\"dataframe\">\n",
       "  <thead>\n",
       "    <tr style=\"text-align: right;\">\n",
       "      <th></th>\n",
       "      <th>close</th>\n",
       "      <th>Prediction</th>\n",
       "    </tr>\n",
       "  </thead>\n",
       "  <tbody>\n",
       "    <tr>\n",
       "      <th>20973720</th>\n",
       "      <td>15.00</td>\n",
       "      <td>NaN</td>\n",
       "    </tr>\n",
       "    <tr>\n",
       "      <th>20973721</th>\n",
       "      <td>15.04</td>\n",
       "      <td>NaN</td>\n",
       "    </tr>\n",
       "    <tr>\n",
       "      <th>20973722</th>\n",
       "      <td>15.13</td>\n",
       "      <td>NaN</td>\n",
       "    </tr>\n",
       "    <tr>\n",
       "      <th>20973723</th>\n",
       "      <td>15.23</td>\n",
       "      <td>NaN</td>\n",
       "    </tr>\n",
       "    <tr>\n",
       "      <th>20973724</th>\n",
       "      <td>15.24</td>\n",
       "      <td>NaN</td>\n",
       "    </tr>\n",
       "  </tbody>\n",
       "</table>\n",
       "</div>"
      ],
      "text/plain": [
       "          close  Prediction\n",
       "20973720  15.00         NaN\n",
       "20973721  15.04         NaN\n",
       "20973722  15.13         NaN\n",
       "20973723  15.23         NaN\n",
       "20973724  15.24         NaN"
      ]
     },
     "execution_count": 77,
     "metadata": {},
     "output_type": "execute_result"
    }
   ],
   "source": [
    "stock_dataFrame.tail()"
   ]
  },
  {
   "cell_type": "code",
   "execution_count": 78,
   "metadata": {},
   "outputs": [
    {
     "name": "stdout",
     "output_type": "stream",
     "text": [
      "[[ 8.36999989]\n",
      " [ 8.60999966]\n",
      " [ 8.55000019]\n",
      " ...\n",
      " [15.25      ]\n",
      " [15.27000046]\n",
      " [15.18000031]]\n"
     ]
    }
   ],
   "source": [
    "X = np.array(stock_dataFrame.drop(['Prediction'], 1))[:-futureDays]\n",
    "print(X)"
   ]
  },
  {
   "cell_type": "code",
   "execution_count": 79,
   "metadata": {},
   "outputs": [
    {
     "name": "stdout",
     "output_type": "stream",
     "text": [
      "[11.85000038 11.72999954 11.96000004 ... 15.13000011 15.22999954\n",
      " 15.23999977]\n"
     ]
    }
   ],
   "source": [
    "y = np.array(stock_dataFrame['Prediction'])[:-futureDays]\n",
    "print(y)"
   ]
  },
  {
   "cell_type": "code",
   "execution_count": 80,
   "metadata": {},
   "outputs": [],
   "source": [
    "from sklearn.model_selection import train_test_split\n",
    "x_train, x_test, y_train, y_test = train_test_split(X, y, test_size = 0.2,shuffle=False)"
   ]
  },
  {
   "cell_type": "code",
   "execution_count": 81,
   "metadata": {},
   "outputs": [],
   "source": [
    "\n",
    "from sklearn.tree import DecisionTreeRegressor\n",
    "from sklearn.linear_model import LinearRegression"
   ]
  },
  {
   "cell_type": "markdown",
   "metadata": {},
   "source": [
    "<b>comparing both linear and decision tree regression </b>"
   ]
  },
  {
   "cell_type": "code",
   "execution_count": 82,
   "metadata": {},
   "outputs": [],
   "source": [
    "# Implementing Linear and Decision Tree Regression Algorithms.\n",
    "tree = DecisionTreeRegressor().fit(x_train, y_train)\n",
    "lr = LinearRegression().fit(x_train, y_train)\n"
   ]
  },
  {
   "cell_type": "code",
   "execution_count": 93,
   "metadata": {},
   "outputs": [
    {
     "data": {
      "text/plain": [
       "array([[14.07999992],\n",
       "       [14.14000034],\n",
       "       [14.22999954],\n",
       "       [14.21000004],\n",
       "       [14.19999981],\n",
       "       [14.23999977],\n",
       "       [14.31999969],\n",
       "       [14.31999969],\n",
       "       [14.38000011],\n",
       "       [14.36999989],\n",
       "       [14.39000034],\n",
       "       [14.43000031],\n",
       "       [14.43999958],\n",
       "       [14.43000031],\n",
       "       [14.46000004],\n",
       "       [14.51000023],\n",
       "       [14.55000019],\n",
       "       [14.52999973],\n",
       "       [14.60999966],\n",
       "       [14.60999966],\n",
       "       [14.65999985],\n",
       "       [14.69999981],\n",
       "       [14.69999981],\n",
       "       [14.75      ],\n",
       "       [14.72999954],\n",
       "       [14.67000008],\n",
       "       [14.60000038],\n",
       "       [14.64000034],\n",
       "       [14.71000004],\n",
       "       [14.71000004],\n",
       "       [14.71000004],\n",
       "       [14.71000004],\n",
       "       [14.72000027],\n",
       "       [14.71000004],\n",
       "       [14.71000004],\n",
       "       [14.68999958],\n",
       "       [14.67000008],\n",
       "       [14.68999958],\n",
       "       [14.68000031],\n",
       "       [14.71000004],\n",
       "       [14.77000046],\n",
       "       [14.78999996],\n",
       "       [14.82999992],\n",
       "       [14.82999992],\n",
       "       [14.80000019],\n",
       "       [14.82999992],\n",
       "       [14.88000011],\n",
       "       [14.88000011],\n",
       "       [14.85999966],\n",
       "       [14.80000019],\n",
       "       [14.88000011],\n",
       "       [14.97000027],\n",
       "       [15.01000023],\n",
       "       [14.98999977],\n",
       "       [15.        ],\n",
       "       [15.06000042],\n",
       "       [15.02999973],\n",
       "       [15.06000042],\n",
       "       [15.05000019],\n",
       "       [15.06999969],\n",
       "       [14.97999954],\n",
       "       [14.96000004],\n",
       "       [14.94999981],\n",
       "       [14.98999977],\n",
       "       [14.97999954],\n",
       "       [15.01000023],\n",
       "       [15.        ],\n",
       "       [15.01000023],\n",
       "       [15.02000046],\n",
       "       [15.01000023],\n",
       "       [14.97000027],\n",
       "       [14.97000027],\n",
       "       [14.88000011],\n",
       "       [14.92000008],\n",
       "       [14.94999981],\n",
       "       [15.01000023],\n",
       "       [14.96000004],\n",
       "       [14.97000027],\n",
       "       [15.02999973],\n",
       "       [15.05000019],\n",
       "       [15.03999996],\n",
       "       [15.05000019],\n",
       "       [15.14000034],\n",
       "       [15.06000042],\n",
       "       [15.09000015],\n",
       "       [15.09000015],\n",
       "       [15.10999966],\n",
       "       [15.13000011],\n",
       "       [15.11999989],\n",
       "       [15.10000038],\n",
       "       [15.15999985],\n",
       "       [15.14999962],\n",
       "       [15.22999954],\n",
       "       [15.25      ],\n",
       "       [15.26000023],\n",
       "       [15.27999973],\n",
       "       [15.30000019],\n",
       "       [15.25      ],\n",
       "       [15.27000046],\n",
       "       [15.18000031]])"
      ]
     },
     "execution_count": 93,
     "metadata": {},
     "output_type": "execute_result"
    }
   ],
   "source": [
    "x_future = stock_dataFrame.drop(['Prediction'], 1)[:-futureDays]\n",
    "x_future = x_future.tail(futureDays)\n",
    "x_future = np.array(x_future)\n",
    "x_future"
   ]
  },
  {
   "cell_type": "code",
   "execution_count": 94,
   "metadata": {},
   "outputs": [
    {
     "name": "stdout",
     "output_type": "stream",
     "text": [
      "[22.27006906 25.52240431 33.06073316 26.66054045 23.41157415 19.30842355\n",
      " 28.3592892  28.3592892  29.63868059 26.99128942 27.70451277 24.3444668\n",
      " 28.24630054 24.3444668  29.55965544 29.32706401 26.56838112 24.53697132\n",
      " 25.12672992 25.12672992 31.26054875 24.23313931 24.23313931 23.48563278\n",
      " 30.15560807 26.38819228 25.09003628 38.81624464 22.11144417 22.11144417\n",
      " 22.11144417 22.11144417 29.4239824  22.11144417 22.11144417 24.45663089\n",
      " 26.38819228 24.45663089 24.10139122 22.11144417 31.428691   27.89339756\n",
      " 33.11388542 33.11388542 24.86165238 33.11388542 25.6512952  25.6512952\n",
      " 25.21586851 24.86165238 25.6512952  27.46356694 30.29537719 27.62491918\n",
      " 24.92864545 27.68829271 28.3752526  27.68829271 26.38020789 26.96213155\n",
      " 27.25324954 29.18328245 28.22555953 27.62491918 27.25324954 30.29537719\n",
      " 24.92864545 30.29537719 28.34042187 30.29537719 27.46356694 27.46356694\n",
      " 25.6512952  26.31637761 28.22555953 30.29537719 29.18328245 27.46356694\n",
      " 28.3752526  26.38020789 30.01574619 26.38020789 28.44281128 27.68829271\n",
      " 30.20402705 30.20402705 26.14661607 24.53216963 28.1017957  26.84386021\n",
      " 26.44509957 25.3406229  28.37567823 25.15899034 25.73332849 26.06022024\n",
      " 25.17903769 25.15899034 30.62781868 25.23751194]\n"
     ]
    }
   ],
   "source": [
    "tree_prediction = tree.predict(x_future)\n",
    "print(tree_prediction)"
   ]
  },
  {
   "cell_type": "code",
   "execution_count": 95,
   "metadata": {},
   "outputs": [
    {
     "name": "stdout",
     "output_type": "stream",
     "text": [
      "[60.95395335 60.96407256 60.97925114 60.97587818 60.97419161 60.9809377\n",
      " 60.99442988 60.99442988 61.0045491  61.00286253 61.00623566 61.01298175\n",
      " 61.01466815 61.01298175 61.01804127 61.02647393 61.03322002 61.02984689\n",
      " 61.04333907 61.04333907 61.05177172 61.05851781 61.05851781 61.06695046\n",
      " 61.06357734 61.05345828 61.04165267 61.04839876 61.06020437 61.06020437\n",
      " 61.06020437 61.06020437 61.06189093 61.06020437 61.06020437 61.05683125\n",
      " 61.05345828 61.05683125 61.05514485 61.06020437 61.07032359 61.07369655\n",
      " 61.08044264 61.08044264 61.07538311 61.08044264 61.08887529 61.08887529\n",
      " 61.08550217 61.07538311 61.08887529 61.10405403 61.11080012 61.107427\n",
      " 61.10911356 61.11923277 61.11417309 61.11923277 61.11754621 61.12091917\n",
      " 61.10574043 61.10236747 61.10068091 61.107427   61.10574043 61.11080012\n",
      " 61.10911356 61.11080012 61.11248668 61.11080012 61.10405403 61.10405403\n",
      " 61.08887529 61.09562138 61.10068091 61.11080012 61.10236747 61.10405403\n",
      " 61.11417309 61.11754621 61.11585965 61.11754621 61.13272495 61.11923277\n",
      " 61.1242923  61.1242923  61.12766526 61.13103839 61.12935183 61.12597886\n",
      " 61.13609792 61.13441135 61.14790353 61.15127666 61.15296322 61.15633618\n",
      " 61.15970931 61.15127666 61.15464978 61.13947104]\n"
     ]
    }
   ],
   "source": [
    "lr_prediction = lr.predict(x_future)\n",
    "print(lr_prediction)"
   ]
  },
  {
   "cell_type": "code",
   "execution_count": 97,
   "metadata": {},
   "outputs": [],
   "source": [
    "import warnings\n",
    "warnings.filterwarnings('ignore')\n",
    "predictions = tree_prediction \n",
    "valid = stock_dataFrame[X.shape[0]:]\n",
    "valid['Predictions'] = predictions"
   ]
  },
  {
   "cell_type": "code",
   "execution_count": 93,
   "metadata": {},
   "outputs": [
    {
     "data": {
      "image/png": "[encoded data removed]",
      "text/plain": [
       "<Figure size 1152x576 with 1 Axes>"
      ]
     },
     "metadata": {},
     "output_type": "display_data"
    }
   ],
   "source": [
    "plt.figure(figsize=(16,8))\n",
    "plt.title(\"Model\")\n",
    "plt.xlabel('Days')\n",
    "plt.ylabel('Close Price USD ($)')\n",
    "plt.plot(stock_dataFrame['close'])\n",
    "plt.plot(valid[['close', 'Predictions']])\n",
    "plt.legend([\"Original\", \"Valid\", 'Predicted'])\n",
    "plt.show()"
   ]
  },
  {
   "cell_type": "markdown",
   "metadata": {},
   "source": [
    "---"
   ]
  },
  {
   "cell_type": "code",
   "execution_count": null,
   "metadata": {},
   "outputs": [],
   "source": []
  }
 ],
 "metadata": {
  "kernelspec": {
   "display_name": "Python 3",
   "language": "python",
   "name": "python3"
  },
  "language_info": {
   "codemirror_mode": {
    "name": "ipython",
    "version": 3
   },
   "file_extension": ".py",
   "mimetype": "text/x-python",
   "name": "python",
   "nbconvert_exporter": "python",
   "pygments_lexer": "ipython3",
   "version": "3.8.5"
  }
 },
 "nbformat": 4,
 "nbformat_minor": 4
}
