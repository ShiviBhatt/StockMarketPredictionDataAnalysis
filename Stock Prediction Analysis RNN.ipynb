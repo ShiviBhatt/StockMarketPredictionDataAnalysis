{
 "cells": [
  {
   "cell_type": "markdown",
   "metadata": {},
   "source": [
    "# Stock Prediction Analysis - Time Series\n",
    "<b>LSTM models can be used to forecast time series (as well as other Recurrent Neural Networks). LSTM is an acronym that stands for Long-Short Term Memories. </b>\n"
   ]
  },
  {
   "cell_type": "code",
   "execution_count": 24,
   "metadata": {},
   "outputs": [],
   "source": [
    "# importing libraries\n",
    "import numpy as np\n",
    "import pandas as pd\n",
    "import matplotlib.pyplot as plt"
   ]
  },
  {
   "cell_type": "code",
   "execution_count": 2,
   "metadata": {},
   "outputs": [],
   "source": [
    "# loading the stock prices of all companies in a dataframe\n",
    "dataset = pd.read_csv('../data/daily-historical-stock-prices-1970-2018/historical_stock_prices.csv')\n",
    "stocks = dataset.loc[(dataset['date']>='2017-01-01') & (dataset['date']<='2017-12-31')]"
   ]
  },
  {
   "cell_type": "code",
   "execution_count": 3,
   "metadata": {},
   "outputs": [],
   "source": [
    "# getting the list of all companies \n",
    "companies = stocks.ticker.unique()\n",
    "companies.sort()"
   ]
  },
  {
   "cell_type": "code",
   "execution_count": 4,
   "metadata": {},
   "outputs": [
    {
     "data": {
      "text/plain": [
       "(970963, 60)"
      ]
     },
     "execution_count": 4,
     "metadata": {},
     "output_type": "execute_result"
    }
   ],
   "source": [
    "from sklearn.preprocessing import MinMaxScaler\n",
    "\n",
    "period = 60\n",
    "x_train = []\n",
    "y_train = []\n",
    "companies_sc = []\n",
    "\n",
    "for company in companies:\n",
    "    \n",
    "    sc = MinMaxScaler()\n",
    "    stock = stocks.loc[stocks['ticker'] == company]\n",
    "    \n",
    "    # creating an array with adjusted closing prices\n",
    "    training_set = stock[['adj_close']].values\n",
    "    \n",
    "    # normalizing the values\n",
    "    training_set_scaled = sc.fit_transform(training_set)\n",
    "    training_set_scaled.shape\n",
    "    \n",
    "    # In the below cell, we are appendding data to x_train and y_train.¶\n",
    "    \n",
    "    length = len(training_set)\n",
    "    for i in range(period, length):\n",
    "        x_train.append(training_set_scaled[i-period:i, 0])\n",
    "        y_train.append(training_set_scaled[i, 0])\n",
    "        \n",
    "    companies_sc.append(sc)\n",
    "        \n",
    "x_train = np.array(x_train)\n",
    "y_train = np.array(y_train)\n",
    "x_train.shape"
   ]
  },
  {
   "cell_type": "code",
   "execution_count": 5,
   "metadata": {},
   "outputs": [
    {
     "data": {
      "text/plain": [
       "(970963, 60, 1)"
      ]
     },
     "execution_count": 5,
     "metadata": {},
     "output_type": "execute_result"
    }
   ],
   "source": [
    "x_train = np.reshape(x_train, (x_train.shape[0], x_train.shape[1], 1))\n",
    "x_train.shape"
   ]
  },
  {
   "cell_type": "code",
   "execution_count": 6,
   "metadata": {},
   "outputs": [],
   "source": [
    "from tensorflow.keras.models import Sequential\n",
    "from tensorflow.keras.layers import LSTM, Dense, Dropout\n",
    "\n",
    "model = Sequential()\n",
    "\n",
    "model.add(LSTM(units = 92, return_sequences = True, input_shape = (x_train.shape[1], 1)))\n",
    "model.add(Dropout(0.2))\n",
    "\n",
    "model.add(LSTM(units = 92, return_sequences = False))\n",
    "model.add(Dropout(0.2))\n",
    "\n",
    "model.add(Dense(units = 1))\n",
    "model.compile(optimizer = 'adam', loss = 'mean_squared_error')"
   ]
  },
  {
   "cell_type": "code",
   "execution_count": 7,
   "metadata": {},
   "outputs": [
    {
     "name": "stdout",
     "output_type": "stream",
     "text": [
      "Epoch 1/10\n",
      "217/217 [==============================] - 427s 2s/step - loss: 0.0238 - val_loss: 0.0053\n",
      "Epoch 2/10\n",
      "217/217 [==============================] - 419s 2s/step - loss: 0.0061 - val_loss: 0.0034\n",
      "Epoch 3/10\n",
      "217/217 [==============================] - 453s 2s/step - loss: 0.0045 - val_loss: 0.0027\n",
      "Epoch 4/10\n",
      "217/217 [==============================] - 407s 2s/step - loss: 0.0039 - val_loss: 0.0025\n",
      "Epoch 5/10\n",
      "217/217 [==============================] - 425s 2s/step - loss: 0.0037 - val_loss: 0.0025\n",
      "Epoch 6/10\n",
      "217/217 [==============================] - 568s 3s/step - loss: 0.0036 - val_loss: 0.0025\n",
      "Epoch 7/10\n",
      "217/217 [==============================] - 400s 2s/step - loss: 0.0035 - val_loss: 0.0026\n",
      "Epoch 8/10\n",
      "217/217 [==============================] - 401s 2s/step - loss: 0.0035 - val_loss: 0.0025\n",
      "Epoch 9/10\n",
      "217/217 [==============================] - 436s 2s/step - loss: 0.0035 - val_loss: 0.0025\n",
      "Epoch 10/10\n",
      "217/217 [==============================] - 461s 2s/step - loss: 0.0034 - val_loss: 0.0025\n"
     ]
    }
   ],
   "source": [
    "train = model.fit(x_train, y_train, epochs = 10, batch_size = 3000, validation_split=0.33)"
   ]
  },
  {
   "cell_type": "code",
   "execution_count": 8,
   "metadata": {},
   "outputs": [
    {
     "data": {
      "image/png": "[encoded data removed]",
      "text/plain": [
       "<Figure size 432x288 with 1 Axes>"
      ]
     },
     "metadata": {
      "needs_background": "light"
     },
     "output_type": "display_data"
    }
   ],
   "source": [
    "plt.plot(train.history['loss'])\n",
    "plt.plot(train.history['val_loss'])\n",
    "plt.title('model loss')\n",
    "plt.ylabel('loss')\n",
    "plt.xlabel('epoch')\n",
    "plt.legend(['train', 'test'], loc='upper right')\n",
    "plt.show()"
   ]
  },
  {
   "cell_type": "code",
   "execution_count": 9,
   "metadata": {},
   "outputs": [],
   "source": [
    "test_set = dataset.loc[(dataset['ticker'] == 'AAPL') & (dataset['date']>='2018-01-01')]  \n",
    "test_set = test_set.loc[:, test_set.columns == 'adj_close']"
   ]
  },
  {
   "cell_type": "code",
   "execution_count": 10,
   "metadata": {},
   "outputs": [],
   "source": [
    "y_test = test_set.iloc[period:, 0:].values"
   ]
  },
  {
   "cell_type": "code",
   "execution_count": 11,
   "metadata": {},
   "outputs": [],
   "source": [
    "sc = companies_sc[np.where(companies==\"AAPL\")[0][0]]\n",
    "# storing all values in a variable for generating an input array for our model \n",
    "adj_closing_price = test_set.iloc[:, 0:].values\n",
    "adj_closing_price_scaled = sc.transform(adj_closing_price)"
   ]
  },
  {
   "cell_type": "code",
   "execution_count": 12,
   "metadata": {},
   "outputs": [],
   "source": [
    "# the model will predict the values on x_test\n",
    "x_test = [] \n",
    "length = len(test_set)\n",
    "\n",
    "for i in range(period, length):\n",
    "    x_test.append(adj_closing_price_scaled[i-period:i, 0])\n",
    "    \n",
    "x_test = np.array(x_test)"
   ]
  },
  {
   "cell_type": "code",
   "execution_count": 13,
   "metadata": {},
   "outputs": [
    {
     "data": {
      "text/plain": [
       "(104, 60, 1)"
      ]
     },
     "execution_count": 13,
     "metadata": {},
     "output_type": "execute_result"
    }
   ],
   "source": [
    "x_test = np.reshape(x_test, (x_test.shape[0], x_test.shape[1], 1))\n",
    "x_test.shape"
   ]
  },
  {
   "cell_type": "code",
   "execution_count": 14,
   "metadata": {},
   "outputs": [],
   "source": [
    "# predicting the stock price values\n",
    "y_pred = model.predict(x_test)\n",
    "predicted_price = sc.inverse_transform(y_pred)"
   ]
  },
  {
   "cell_type": "code",
   "execution_count": 15,
   "metadata": {},
   "outputs": [
    {
     "data": {
      "image/png": "[encoded data removed]",
      "text/plain": [
       "<Figure size 432x288 with 1 Axes>"
      ]
     },
     "metadata": {
      "needs_background": "light"
     },
     "output_type": "display_data"
    }
   ],
   "source": [
    "# plotting the results\n",
    "plt.plot(y_test, color = 'blue', label = 'Actual Stock Price')\n",
    "plt.plot(predicted_price, color = 'red', label = 'Predicted Stock Price')\n",
    "plt.title('Stock Price Prediction')\n",
    "plt.xlabel('Time')\n",
    "plt.ylabel('Stock Price')\n",
    "plt.legend()\n",
    "plt.show()"
   ]
  },
  {
   "cell_type": "code",
   "execution_count": 16,
   "metadata": {},
   "outputs": [],
   "source": [
    "stock_train_set = dataset.loc[(dataset['ticker'] == 'AAPL') & \n",
    "                              (dataset['date']>='2017-06-01') & \n",
    "                              (dataset['date']<='2017-12-31')]\n",
    "stock_train_set = stock_train_set.loc[:, stock_train_set.columns == 'adj_close']"
   ]
  },
  {
   "cell_type": "code",
   "execution_count": 17,
   "metadata": {},
   "outputs": [],
   "source": [
    "y_train = stock_train_set.iloc[period:, 0:].values"
   ]
  },
  {
   "cell_type": "code",
   "execution_count": 18,
   "metadata": {},
   "outputs": [],
   "source": [
    "stock_acp = stock_train_set.iloc[:, 0:].values\n",
    "stock_acp_scaled = sc.transform(stock_acp)\n"
   ]
  },
  {
   "cell_type": "code",
   "execution_count": 19,
   "metadata": {},
   "outputs": [
    {
     "data": {
      "text/plain": [
       "(88, 60)"
      ]
     },
     "execution_count": 19,
     "metadata": {},
     "output_type": "execute_result"
    }
   ],
   "source": [
    "x_train = [] \n",
    "length = len(stock_train_set)\n",
    "\n",
    "for i in range(period, length):\n",
    "    x_train.append(stock_acp_scaled[i-period:i, 0])\n",
    "    \n",
    "x_train = np.array(x_train)\n",
    "x_train.shape"
   ]
  },
  {
   "cell_type": "code",
   "execution_count": 20,
   "metadata": {},
   "outputs": [
    {
     "data": {
      "text/plain": [
       "(88, 60, 1)"
      ]
     },
     "execution_count": 20,
     "metadata": {},
     "output_type": "execute_result"
    }
   ],
   "source": [
    "x_train = np.reshape(x_train, (x_train.shape[0], x_train.shape[1], 1))\n",
    "x_train.shape"
   ]
  },
  {
   "cell_type": "code",
   "execution_count": 21,
   "metadata": {},
   "outputs": [],
   "source": [
    "# predicting the adjusted closing price values\n",
    "y_train_pred = model.predict(x_train)\n",
    "train_predicted_price = sc.inverse_transform(y_train_pred)"
   ]
  },
  {
   "cell_type": "code",
   "execution_count": 22,
   "metadata": {},
   "outputs": [
    {
     "data": {
      "image/png": "[encoded data removed]",
      "text/plain": [
       "<Figure size 432x288 with 1 Axes>"
      ]
     },
     "metadata": {
      "needs_background": "light"
     },
     "output_type": "display_data"
    }
   ],
   "source": [
    "# plotting the results\n",
    "plt.plot(y_train, color = 'blue', label = 'Actual Adjusted Closing Price')\n",
    "plt.plot(train_predicted_price, color = 'red', label = 'Predicted Adjusted Closing Price')\n",
    "plt.title('Adjusted Closing Price Prediction')\n",
    "plt.xlabel('Time')\n",
    "plt.ylabel('Adjusted Closing Price')\n",
    "plt.legend()\n",
    "plt.show()"
   ]
  },
  {
   "cell_type": "code",
   "execution_count": 23,
   "metadata": {},
   "outputs": [
    {
     "name": "stdout",
     "output_type": "stream",
     "text": [
      "Train Score: 3.12 MSE\n",
      "Test Score: 9.93 MSE\n"
     ]
    }
   ],
   "source": [
    "from sklearn.metrics import mean_squared_error\n",
    "# Calculate RMSE\n",
    "trainScore = mean_squared_error(y_train, train_predicted_price)\n",
    "print('Train Score: %.2f MSE' % (trainScore))\n",
    "testScore = mean_squared_error(y_test, predicted_price)\n",
    "print('Test Score: %.2f MSE' % (testScore))"
   ]
  },
  {
   "cell_type": "code",
   "execution_count": null,
   "metadata": {},
   "outputs": [],
   "source": []
  }
 ],
 "metadata": {
  "kernelspec": {
   "display_name": "Python 3",
   "language": "python",
   "name": "python3"
  },
  "language_info": {
   "codemirror_mode": {
    "name": "ipython",
    "version": 3
   },
   "file_extension": ".py",
   "mimetype": "text/x-python",
   "name": "python",
   "nbconvert_exporter": "python",
   "pygments_lexer": "ipython3",
   "version": "3.8.5"
  }
 },
 "nbformat": 4,
 "nbformat_minor": 4
}
